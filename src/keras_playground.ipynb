{
 "cells": [
  {
   "cell_type": "code",
   "execution_count": 24,
   "metadata": {},
   "outputs": [],
   "source": [
    "import librosa as lb\n",
    "import os\n",
    "import numpy as np\n",
    "import sklearn as sk\n",
    "\n",
    "from glob import glob\n",
    "from keras.models import Sequential\n",
    "from keras.utils import to_categorical\n",
    "from keras.layers import Dense\n",
    "from librosa import load\n",
    "from librosa.feature import mfcc\n",
    "from sklearn.model_selection import train_test_split"
   ]
  },
  {
   "cell_type": "code",
   "execution_count": 4,
   "metadata": {},
   "outputs": [],
   "source": [
    "DEFAULT_BITRATE = 22050\n",
    "DESIRED_DURATION = 25\n",
    "PADDED_LENGTH = DEFAULT_BITRATE * DESIRED_DURATION"
   ]
  },
  {
   "cell_type": "code",
   "execution_count": 5,
   "metadata": {},
   "outputs": [],
   "source": [
    "def load_audio(folder):\n",
    "    # load original mp3s\n",
    "    loaded_mp3_files = [load(f) for f in glob(folder + '*.mp3')[:40]]\n",
    "    \n",
    "    # make same length\n",
    "    fix_length_mp3 = normalize_audio(loaded_mp3_files)\n",
    "    \n",
    "    mfccs = [mfcc(y=y, sr=DEFAULT_BITRATE, n_mfcc=40) for y in fix_length_mp3]\n",
    "    return mfccs"
   ]
  },
  {
   "cell_type": "code",
   "execution_count": 6,
   "metadata": {},
   "outputs": [],
   "source": [
    "def normalize_audio(source_files):\n",
    "    fixed_lengths = [lb.util.fix_length(y, PADDED_LENGTH) for y, _ in source_files]\n",
    "    return [(f - np.mean(f)) / np.std(f) for f in fixed_lengths]"
   ]
  },
  {
   "cell_type": "code",
   "execution_count": 7,
   "metadata": {},
   "outputs": [],
   "source": [
    "def flatten_input(input):\n",
    "    return np.array([x.reshape(x.shape[0] * x.shape[1]) for x in input])"
   ]
  },
  {
   "cell_type": "code",
   "execution_count": 8,
   "metadata": {},
   "outputs": [],
   "source": [
    "us_X = load_audio('../data/speech-accent-archive/recordings/usa/')\n",
    "uk_X = load_audio('../data/speech-accent-archive/recordings/uk/')\n",
    "hk_X = load_audio('../data/speech-accent-archive/recordings/hongkong/')\n",
    "cn_X = load_audio('../data/speech-accent-archive/recordings/china/')\n",
    "ger_X = load_audio('../data/speech-accent-archive/recordings/germany/')"
   ]
  },
  {
   "cell_type": "code",
   "execution_count": 9,
   "metadata": {},
   "outputs": [],
   "source": [
    "us_X[0].shape\n",
    "us_X = flatten_input(us_X)\n",
    "uk_X = flatten_input(uk_X)\n",
    "hk_X = flatten_input(hk_X)\n",
    "cn_X = flatten_input(cn_X)\n",
    "ger_X = flatten_input(ger_X)"
   ]
  },
  {
   "cell_type": "code",
   "execution_count": 12,
   "metadata": {},
   "outputs": [],
   "source": [
    "X = np.concatenate([us_X, uk_X, hk_X, cn_X, ger_X])\n",
    "Y = np.zeros(len(us_X) + len(uk_X) + len(hk_X) + len(cn_X) + len(ger_X))\n",
    "Y[21:40] = 1\n",
    "Y[41:60] = 2\n",
    "Y[61:80] = 3\n",
    "Y[81:100] = 4"
   ]
  },
  {
   "cell_type": "code",
   "execution_count": 25,
   "metadata": {},
   "outputs": [
    {
     "name": "stdout",
     "output_type": "stream",
     "text": [
      "(175, 5)\n"
     ]
    }
   ],
   "source": [
    "Y_categorical = to_categorical(Y)\n",
    "print(Y_categorical.shape)"
   ]
  },
  {
   "cell_type": "code",
   "execution_count": 26,
   "metadata": {},
   "outputs": [],
   "source": [
    "X_train, X_test, y_train, y_test = train_test_split(X, Y_categorical, test_size=0.1, random_state=1337)"
   ]
  },
  {
   "cell_type": "code",
   "execution_count": 27,
   "metadata": {},
   "outputs": [
    {
     "name": "stdout",
     "output_type": "stream",
     "text": [
      "(157, 43080)\n",
      "(157, 5)\n",
      "(18, 43080)\n",
      "(18, 5)\n"
     ]
    }
   ],
   "source": [
    "print(X_train.shape)\n",
    "print(y_train.shape)\n",
    "\n",
    "print(X_test.shape)\n",
    "print(y_test.shape)"
   ]
  },
  {
   "cell_type": "code",
   "execution_count": 30,
   "metadata": {},
   "outputs": [],
   "source": [
    "def ff_model(X_train, y_train, X_test, y_test):\n",
    "    X_val = X_train[:17]\n",
    "    y_val = y_train[:17]\n",
    "    X_train_true = X_train[17:]\n",
    "    y_train_true = y_train[17:]\n",
    "    \n",
    "    model = Sequential()\n",
    "    model.add(Dense(1024, activation='relu', input_shape=(43080,)))\n",
    "    model.add(Dense(1024, activation='relu'))\n",
    "    model.add(Dense(1024, activation='relu'))\n",
    "    model.add(Dense(512, activation='relu'))\n",
    "    model.add(Dense(5, activation='sigmoid'))\n",
    "    model.compile(optimizer='rmsprop', loss='categorical_crossentropy', metrics=['accuracy'])\n",
    "    \n",
    "    model.fit(x=X_train_true, y=y_train_true, epochs=10, validation_data=(X_val, y_val))\n",
    "    \n",
    "    loss, accuracy = model.evaluate(X_test, y_test)\n",
    "    print('Test loss: %s' % loss)\n",
    "    print('Test accuracy: %s' % accuracy)\n",
    "    \n",
    "    return model"
   ]
  },
  {
   "cell_type": "code",
   "execution_count": null,
   "metadata": {},
   "outputs": [
    {
     "name": "stdout",
     "output_type": "stream",
     "text": [
      "Train on 140 samples, validate on 17 samples\n",
      "Epoch 1/10\n",
      "140/140 [==============================] - 6s 43ms/step - loss: 2.3932 - acc: 0.6000 - val_loss: 2.2529 - val_acc: 0.5882\n",
      "Epoch 2/10\n",
      "140/140 [==============================] - 5s 34ms/step - loss: 2.4386 - acc: 0.6071 - val_loss: 2.2529 - val_acc: 0.5882\n",
      "Epoch 3/10\n",
      "140/140 [==============================] - 4s 29ms/step - loss: 2.4386 - acc: 0.6071 - val_loss: 2.2529 - val_acc: 0.5882\n",
      "Epoch 4/10\n",
      "140/140 [==============================] - 4s 30ms/step - loss: 2.4386 - acc: 0.6071 - val_loss: 2.2529 - val_acc: 0.5882\n",
      "Epoch 5/10\n",
      "140/140 [==============================] - 4s 30ms/step - loss: 2.4386 - acc: 0.6071 - val_loss: 2.2529 - val_acc: 0.5882\n",
      "Epoch 6/10\n",
      "140/140 [==============================] - 4s 30ms/step - loss: 2.4386 - acc: 0.6071 - val_loss: 2.2529 - val_acc: 0.5882\n",
      "Epoch 7/10\n",
      "140/140 [==============================] - 5s 33ms/step - loss: 2.4386 - acc: 0.6071 - val_loss: 2.2529 - val_acc: 0.5882\n",
      "Epoch 8/10\n",
      " 32/140 [=====>........................] - ETA: 3s - loss: 2.3070 - acc: 0.6250"
     ]
    }
   ],
   "source": [
    "model = ff_model(X_train, y_train, X_test, y_test)"
   ]
  },
  {
   "cell_type": "code",
   "execution_count": null,
   "metadata": {},
   "outputs": [],
   "source": []
  }
 ],
 "metadata": {
  "kernelspec": {
   "display_name": "Python 3",
   "language": "python",
   "name": "python3"
  },
  "language_info": {
   "codemirror_mode": {
    "name": "ipython",
    "version": 3
   },
   "file_extension": ".py",
   "mimetype": "text/x-python",
   "name": "python",
   "nbconvert_exporter": "python",
   "pygments_lexer": "ipython3",
   "version": "3.6.3"
  }
 },
 "nbformat": 4,
 "nbformat_minor": 2
}
