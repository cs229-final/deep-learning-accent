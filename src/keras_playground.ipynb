{
 "cells": [
  {
   "cell_type": "code",
   "execution_count": 1,
   "metadata": {},
   "outputs": [
    {
     "name": "stderr",
     "output_type": "stream",
     "text": [
      "Using TensorFlow backend.\n",
      "/usr/local/Cellar/python3/3.6.3/Frameworks/Python.framework/Versions/3.6/lib/python3.6/importlib/_bootstrap.py:219: RuntimeWarning: compiletime version 3.5 of module 'tensorflow.python.framework.fast_tensor_util' does not match runtime version 3.6\n",
      "  return f(*args, **kwds)\n"
     ]
    }
   ],
   "source": [
    "import librosa as lb\n",
    "import os\n",
    "import numpy as np\n",
    "import sklearn as sk\n",
    "import matplotlib.pyplot as plt\n",
    "\n",
    "from glob import glob\n",
    "from hmmlearn import hmm\n",
    "from keras.regularizers import l2\n",
    "from keras.callbacks import EarlyStopping\n",
    "from keras.optimizers import Adam, SGD, Nadam\n",
    "from keras.models import Sequential\n",
    "from keras.utils import to_categorical\n",
    "from keras.layers import Dense, Dropout, Conv1D, Conv2D, MaxPool1D, Flatten, LSTM, MaxPool2D, ConvLSTM2D, GRU, BatchNormalization\n",
    "from librosa import load\n",
    "from librosa.feature import mfcc\n",
    "from sklearn.model_selection import train_test_split"
   ]
  },
  {
   "cell_type": "code",
   "execution_count": 2,
   "metadata": {},
   "outputs": [],
   "source": [
    "DEFAULT_BITRATE = 22050\n",
    "DESIRED_DURATION = 25\n",
    "PADDED_LENGTH = DEFAULT_BITRATE * DESIRED_DURATION\n",
    "NUM_MFCCS = 32"
   ]
  },
  {
   "cell_type": "code",
   "execution_count": 3,
   "metadata": {},
   "outputs": [],
   "source": [
    "def load_audio(folder):\n",
    "    # load original mp3s\n",
    "    loaded_mp3_files = [load(f) for f in glob(folder + '*.mp3')[:100]]\n",
    "    \n",
    "    # make same length\n",
    "    fix_length_mp3 = normalize_audio(loaded_mp3_files)\n",
    "    \n",
    "    mfccs = [mfcc(y=y, sr=DEFAULT_BITRATE, n_mfcc=NUM_MFCCS) for y in fix_length_mp3]\n",
    "    return mfccs"
   ]
  },
  {
   "cell_type": "code",
   "execution_count": 4,
   "metadata": {},
   "outputs": [],
   "source": [
    "def normalize_audio(source_files):\n",
    "    fixed_lengths = [lb.util.fix_length(y, PADDED_LENGTH) for y, _ in source_files]\n",
    "    return [(f - np.mean(f)) / np.std(f) for f in fixed_lengths]"
   ]
  },
  {
   "cell_type": "code",
   "execution_count": 5,
   "metadata": {},
   "outputs": [],
   "source": [
    "# def flatten_input(input):\n",
    "#     return np.array([x.reshape(x.shape[0] * x.shape[1]) for x in input])"
   ]
  },
  {
   "cell_type": "code",
   "execution_count": 6,
   "metadata": {},
   "outputs": [],
   "source": [
    "english_X = load_audio('../data/speech-accent-archive/recordings/english/')\n",
    "spanish_X = load_audio('../data/speech-accent-archive/recordings/spanish/')\n",
    "arabic_X = load_audio('../data/speech-accent-archive/recordings/arabic/')\n",
    "mandarin_X = load_audio('../data/speech-accent-archive/recordings/mandarin/')\n",
    "french_X = load_audio('../data/speech-accent-archive/recordings/french/')"
   ]
  },
  {
   "cell_type": "code",
   "execution_count": 7,
   "metadata": {},
   "outputs": [
    {
     "name": "stdout",
     "output_type": "stream",
     "text": [
      "100\n"
     ]
    },
    {
     "data": {
      "text/plain": [
       "(32, 1077)"
      ]
     },
     "execution_count": 7,
     "metadata": {},
     "output_type": "execute_result"
    }
   ],
   "source": [
    "print(len(english_X))\n",
    "english_X[0].shape\n",
    "# flattened_us_X = flatten_input(us_X)\n",
    "# flattened_uk_X = flatten_input(uk_X)\n",
    "# flattened_hk_X = flatten_input(hk_X)\n",
    "# flattened_cn_X = flatten_input(cn_X)\n",
    "# flattened_ger_X = flatten_input(ger_X)"
   ]
  },
  {
   "cell_type": "code",
   "execution_count": 8,
   "metadata": {},
   "outputs": [],
   "source": [
    "X = np.concatenate([english_X, spanish_X, arabic_X, mandarin_X, french_X])\n",
    "Y = np.zeros(len(english_X) + len(spanish_X) + len(arabic_X) + len(mandarin_X) + len(french_X))\n",
    "Y[len(english_X):len(english_X)+len(spanish_X)] = 1\n",
    "Y[len(english_X)+len(spanish_X):len(english_X)+len(spanish_X)+len(arabic_X)] = 2\n",
    "Y[len(english_X)+len(spanish_X)+len(arabic_X):len(english_X)+len(spanish_X)+len(arabic_X)+len(mandarin_X)] = 3\n",
    "Y[len(english_X)+len(spanish_X)+len(arabic_X)+len(mandarin_X):len(english_X)+len(spanish_X)+len(arabic_X)+len(mandarin_X)+len(french_X)] = 4"
   ]
  },
  {
   "cell_type": "code",
   "execution_count": 9,
   "metadata": {},
   "outputs": [
    {
     "name": "stdout",
     "output_type": "stream",
     "text": [
      "(428, 32, 1077)\n",
      "(428, 5)\n"
     ]
    }
   ],
   "source": [
    "Y_categorical = to_categorical(Y)\n",
    "print(X.shape)\n",
    "print(Y_categorical.shape)"
   ]
  },
  {
   "cell_type": "code",
   "execution_count": 10,
   "metadata": {},
   "outputs": [],
   "source": [
    "X_train, X_test, y_train, y_test = train_test_split(X, Y_categorical, test_size=0.09, random_state=1337)"
   ]
  },
  {
   "cell_type": "code",
   "execution_count": 11,
   "metadata": {},
   "outputs": [
    {
     "name": "stdout",
     "output_type": "stream",
     "text": [
      "(389, 32, 1077)\n",
      "(389, 5)\n",
      "(39, 32, 1077)\n",
      "(39, 5)\n"
     ]
    }
   ],
   "source": [
    "print(X_train.shape)\n",
    "print(y_train.shape)\n",
    "\n",
    "print(X_test.shape)\n",
    "print(y_test.shape)"
   ]
  },
  {
   "cell_type": "code",
   "execution_count": 16,
   "metadata": {},
   "outputs": [],
   "source": [
    "def ff_model(X_train, y_train, X_test, y_test):\n",
    "    print(X_train.shape)\n",
    "    print(X_test.shape)\n",
    "    \n",
    "    X_val = X_train[:30]\n",
    "    y_val = y_train[:30]\n",
    "    X_train_true = X_train[30:]\n",
    "    y_train_true = y_train[30:]\n",
    "    \n",
    "    model = Sequential()\n",
    "    model.add(Dense(1024, activation='relu', input_shape=(34464,)))\n",
    "    model.add(Dropout(0.3))\n",
    "    model.add(Dense(1024, activation='relu'))\n",
    "    model.add(Dropout(0.3))\n",
    "    model.add(Dense(1024, activation='relu'))\n",
    "    model.add(Dropout(0.3))\n",
    "    model.add(Dense(5, activation='softmax'))\n",
    "    model.compile(optimizer='adam', loss='categorical_crossentropy', metrics=['accuracy'])\n",
    "    \n",
    "    history = model.fit(x=X_train_true, y=y_train_true, epochs=32, validation_data=(X_val, y_val),\n",
    "             callbacks=[EarlyStopping(monitor='val_loss', patience=3)], shuffle=True)\n",
    "    \n",
    "    loss, accuracy = model.evaluate(X_test, y_test)\n",
    "    print('Test loss: %s' % loss)\n",
    "    print('Test accuracy: %s' % accuracy)\n",
    "    \n",
    "    return model, history"
   ]
  },
  {
   "cell_type": "code",
   "execution_count": 17,
   "metadata": {},
   "outputs": [
    {
     "name": "stdout",
     "output_type": "stream",
     "text": [
      "(389, 34464)\n",
      "(39, 34464)\n",
      "Train on 359 samples, validate on 30 samples\n",
      "Epoch 1/32\n",
      "359/359 [==============================] - 16s 44ms/step - loss: 12.2367 - acc: 0.2340 - val_loss: 11.8199 - val_acc: 0.2667\n",
      "Epoch 2/32\n",
      "359/359 [==============================] - 13s 35ms/step - loss: 12.3467 - acc: 0.2340 - val_loss: 11.8199 - val_acc: 0.2667\n",
      "Epoch 3/32\n",
      "359/359 [==============================] - 13s 36ms/step - loss: 12.3467 - acc: 0.2340 - val_loss: 11.8199 - val_acc: 0.2667\n",
      "Epoch 4/32\n",
      "359/359 [==============================] - 12s 34ms/step - loss: 12.3467 - acc: 0.2340 - val_loss: 11.8199 - val_acc: 0.2667\n",
      "39/39 [==============================] - 0s 5ms/step\n",
      "Test loss: 12.8118194189\n",
      "Test accuracy: 0.205128205128\n"
     ]
    }
   ],
   "source": [
    "ffmodel, ffhistory = ff_model(X_train.reshape(X_train.shape[0], X_train.shape[1] * X_train.shape[2]), \n",
    "                              y_train, \n",
    "                              X_test.reshape(X_test.shape[0], X_test.shape[1] * X_test.shape[2]), \n",
    "                              y_test)"
   ]
  },
  {
   "cell_type": "code",
   "execution_count": null,
   "metadata": {},
   "outputs": [],
   "source": [
    "def plot_train_val_acc(history):\n",
    "    # Plot train-val accuracy\n",
    "    plt.plot(history.history['acc'])\n",
    "    plt.plot(history.history['val_acc'])\n",
    "    plt.title('model accuracy')\n",
    "    plt.ylabel('accuracy')\n",
    "    plt.xlabel('epoch')\n",
    "    plt.legend(['train', 'val'])\n",
    "    plt.show()"
   ]
  },
  {
   "cell_type": "code",
   "execution_count": null,
   "metadata": {},
   "outputs": [],
   "source": [
    "def plot_train_val_loss(history):\n",
    "    # Plot tran-val loss\n",
    "    plt.plot(history.history['loss'])\n",
    "    plt.plot(history.history['val_loss'])\n",
    "    plt.title('model loss')\n",
    "    plt.ylabel('loss')\n",
    "    plt.xlabel('epoch')\n",
    "    plt.legend(['train', 'val'])\n",
    "    plt.show()"
   ]
  },
  {
   "cell_type": "code",
   "execution_count": null,
   "metadata": {},
   "outputs": [],
   "source": [
    "plot_train_val_acc(ffhistory)\n",
    "plot_train_val_loss(ffhistory)"
   ]
  },
  {
   "cell_type": "code",
   "execution_count": null,
   "metadata": {},
   "outputs": [],
   "source": [
    "def cnn_model(X_train, y_train, X_test, y_test):\n",
    "    X_val = X_train[:20]\n",
    "    y_val = y_train[:20]\n",
    "    X_train_true = X_train[20:]\n",
    "    y_train_true = y_train[20:]\n",
    "    \n",
    "    model = Sequential()\n",
    "    model.add(Conv2D(8, (3, 3), activation='relu', input_shape=(64, 1077, 1)))\n",
    "    model.add(BatchNormalization())\n",
    "    model.add(MaxPool2D())\n",
    "    model.add(Dropout(0.5))\n",
    "    model.add(Conv2D(16, (3, 3), activation='relu'))\n",
    "    model.add(BatchNormalization())\n",
    "    model.add(MaxPool2D())\n",
    "    model.add(Dropout(0.5))\n",
    "    model.add(Conv2D(32, (3, 3), activation='relu'))\n",
    "    model.add(BatchNormalization())\n",
    "    model.add(MaxPool2D())\n",
    "    model.add(Dropout(0.5))\n",
    "    model.add(Flatten())\n",
    "    model.add(Dense(2048, activation='relu'))\n",
    "    model.add(Dropout(0.4))\n",
    "    model.add(Dense(5, activation='softmax'))\n",
    "    model.compile(optimizer='adam', loss='categorical_crossentropy', metrics=['accuracy'])\n",
    "    \n",
    "    history = model.fit(x=X_train_true, y=y_train_true, epochs=64, validation_data=(X_val, y_val), \n",
    "              callbacks=[EarlyStopping(monitor='val_loss', patience=2)], shuffle=True)\n",
    "    \n",
    "    loss, accuracy = model.evaluate(X_test, y_test)\n",
    "    print('Test loss: %s' % loss)\n",
    "    print('Test accuracy: %s' % accuracy)\n",
    "    \n",
    "    return model, history"
   ]
  },
  {
   "cell_type": "code",
   "execution_count": null,
   "metadata": {},
   "outputs": [],
   "source": [
    "print(X_train.shape)\n",
    "print(X_test.shape)"
   ]
  },
  {
   "cell_type": "code",
   "execution_count": null,
   "metadata": {
    "scrolled": true
   },
   "outputs": [],
   "source": [
    "cnnmodel, cnnhistory = cnn_model(X_train.reshape(X_train.shape[0], X_train.shape[1], X_train.shape[2], 1), \n",
    "                      y_train, \n",
    "                      X_test.reshape(X_test.shape[0], X_test.shape[1], X_test.shape[2], 1), \n",
    "                      y_test)"
   ]
  },
  {
   "cell_type": "code",
   "execution_count": null,
   "metadata": {},
   "outputs": [],
   "source": [
    "plot_train_val_acc(cnnhistory)\n",
    "plot_train_val_loss(cnnhistory)"
   ]
  },
  {
   "cell_type": "code",
   "execution_count": null,
   "metadata": {},
   "outputs": [],
   "source": [
    "def rnn_model(X_train, y_train, X_test, y_test):\n",
    "    X_val = X_train[-50:]\n",
    "    y_val = y_train[-50:]\n",
    "    X_train_true = X_train[:-50]\n",
    "    y_train_true = y_train[:-50]\n",
    "    \n",
    "    print(X_train.shape)\n",
    "    print(X_train_true.shape)\n",
    "    print(X_val.shape)\n",
    "    \n",
    "    model = Sequential()\n",
    "    model.add(GRU(16, input_shape=(64, 1077), recurrent_dropout=0.3, return_sequences=True))\n",
    "    model.add(GRU(32, input_shape=(64, 1077), recurrent_dropout=0.3))\n",
    "#     model.add(LSTM(256, recurrent_dropout=0.5, return_sequences=True))\n",
    "#     model.add(LSTM(512, recurrent_dropout=0.5))\n",
    "#     model.add(Dense(2048, activation='relu'))\n",
    "#     model.add(Dropout(0.5))\n",
    "    model.add(Dense(2048, activation='relu'))\n",
    "    model.add(Dropout(0.5))\n",
    "    model.add(Dense(5, activation='softmax'))\n",
    "    model.compile(optimizer=Adam(lr=0.000001), loss='categorical_crossentropy', metrics=['accuracy'])\n",
    "    \n",
    "    history = model.fit(x=X_train_true, y=y_train_true, epochs=512, validation_data=(X_val, y_val), \n",
    "                        callbacks=[EarlyStopping(monitor='val_loss', patience=3)], shuffle=True)\n",
    "    \n",
    "    loss, accuracy = model.evaluate(X_test, y_test)\n",
    "    print('Test loss: %s' % loss)\n",
    "    print('Test accuracy: %s' % accuracy)\n",
    "    \n",
    "    return model, history"
   ]
  },
  {
   "cell_type": "code",
   "execution_count": null,
   "metadata": {},
   "outputs": [],
   "source": [
    "rnnmodel, rnnhistory = rnn_model(X_train.reshape(X_train.shape[0], X_train.shape[1], X_train.shape[2]), \n",
    "                      y_train, \n",
    "                      X_test.reshape(X_test.shape[0], X_test.shape[1], X_test.shape[2]), \n",
    "                      y_test)"
   ]
  },
  {
   "cell_type": "code",
   "execution_count": null,
   "metadata": {},
   "outputs": [],
   "source": [
    "plot_train_val_acc(rnnhistory)\n",
    "plot_train_val_loss(rnnhistory)"
   ]
  },
  {
   "cell_type": "markdown",
   "metadata": {},
   "source": [
    "# Trying out random baseline traditional algos"
   ]
  },
  {
   "cell_type": "markdown",
   "metadata": {},
   "source": [
    "## Unsupervised"
   ]
  },
  {
   "cell_type": "markdown",
   "metadata": {},
   "source": [
    "## Gausian HMM"
   ]
  },
  {
   "cell_type": "code",
   "execution_count": null,
   "metadata": {},
   "outputs": [],
   "source": [
    "def hmm_model(accents, lengths):\n",
    "    models = []\n",
    "    for i, accent in enumerate(accents):\n",
    "        np_accent = np.array(accent)\n",
    "        np_accent = np_accent.reshape(np_accent.shape[0], np_accent.shape[1] * np_accent.shape[2])\n",
    "        print(np_accent.shape)\n",
    "        model = hmm.GaussianHMM(n_components=1, covariance_type='diag').fit(np_accent, [40 for _ in range(lengths[i])])\n",
    "        models.append(model)\n",
    "    return models"
   ]
  },
  {
   "cell_type": "code",
   "execution_count": null,
   "metadata": {},
   "outputs": [],
   "source": [
    "print(np.argmax(y_train, axis=1)[np.argmax(y_train, axis=1) == 0].shape)\n",
    "print(y_train.shape)\n",
    "print(np.argmax(y_train, axis=1)[np.argmax(y_train, axis=1) == 0].shape[0] / y_train.shape[0])"
   ]
  },
  {
   "cell_type": "code",
   "execution_count": null,
   "metadata": {
    "scrolled": true
   },
   "outputs": [],
   "source": [
    "print(len(english_X))\n",
    "print(len(spanish_X))\n",
    "print(len(arabic_X))\n",
    "print(len(mandarin_X))\n",
    "print(len(french_X)) \n",
    "# [english_X[8:], spanish_X[8:], arabic_X[8:], mandarin_X[6:], french_X[6:], [92, 92, 92, 59, 57]\n",
    "hmmmodels = hmm_model([english_X[8:], spanish_X[8:], arabic_X[8:], mandarin_X[6:], french_X[6:]], [92, 92, 92, 59, 57])"
   ]
  },
  {
   "cell_type": "code",
   "execution_count": null,
   "metadata": {},
   "outputs": [],
   "source": [
    "def predict_hmm_accuracy(accents_test, hmm_models, ground_truth):\n",
    "    accuracy = 0\n",
    "    for i, accent in enumerate(accents_test):\n",
    "        max_score = [float(\"-inf\")]\n",
    "        prediction = -1\n",
    "        accent = accent.reshape(1, accent.shape[0] * accent.shape[1])\n",
    "        print(accent.shape)\n",
    "        for j, model in enumerate(hmm_models):\n",
    "            score = model.score(accent)\n",
    "            if score > max_score:\n",
    "                max_score = score\n",
    "                prediction = j\n",
    "        if prediction == ground_truth[i]:\n",
    "            print('right')\n",
    "            accuracy += 1\n",
    "        else:\n",
    "            print('wrong')\n",
    "    accuracy /= len(ground_truth)\n",
    "    print('accuracy = ' + str(accuracy))\n",
    "    return accuracy"
   ]
  },
  {
   "cell_type": "code",
   "execution_count": null,
   "metadata": {},
   "outputs": [],
   "source": [
    "print(english_X[0].shape)\n",
    "hmmmodels[0].score(english_X[0].reshape(english_X[0].shape[0], english_X[0].shape[1]))"
   ]
  },
  {
   "cell_type": "code",
   "execution_count": null,
   "metadata": {},
   "outputs": [],
   "source": [
    "ground_truth = [0 for _ in range(8)] + [1 for _ in range(8)] + [2 for _ in range(8)] + [3 for _ in range(6)] + [4 for _ in range(6)]\n",
    "hmm_acc = predict_hmm_accuracy(english_X[:8] + spanish_X[:8] + arabic_X[:8] + mandarin_X[:6] + french_X[:6],\n",
    "                              hmmmodels, ground_truth)"
   ]
  },
  {
   "cell_type": "code",
   "execution_count": null,
   "metadata": {},
   "outputs": [],
   "source": []
  }
 ],
 "metadata": {
  "kernelspec": {
   "display_name": "Python 3",
   "language": "python",
   "name": "python3"
  },
  "language_info": {
   "codemirror_mode": {
    "name": "ipython",
    "version": 3
   },
   "file_extension": ".py",
   "mimetype": "text/x-python",
   "name": "python",
   "nbconvert_exporter": "python",
   "pygments_lexer": "ipython3",
   "version": "3.6.3"
  }
 },
 "nbformat": 4,
 "nbformat_minor": 2
}
