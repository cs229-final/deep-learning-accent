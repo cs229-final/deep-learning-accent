{
 "cells": [
  {
   "cell_type": "code",
   "execution_count": 1,
   "metadata": {},
   "outputs": [
    {
     "name": "stderr",
     "output_type": "stream",
     "text": [
      "Using TensorFlow backend.\n",
      "/usr/local/Cellar/python3/3.6.3/Frameworks/Python.framework/Versions/3.6/lib/python3.6/importlib/_bootstrap.py:219: RuntimeWarning: compiletime version 3.5 of module 'tensorflow.python.framework.fast_tensor_util' does not match runtime version 3.6\n",
      "  return f(*args, **kwds)\n"
     ]
    }
   ],
   "source": [
    "import librosa as lb\n",
    "import os\n",
    "import numpy as np\n",
    "import sklearn as sk\n",
    "\n",
    "from glob import glob\n",
    "from keras.optimizers import Adam\n",
    "from keras.models import Sequential\n",
    "from keras.utils import to_categorical\n",
    "from keras.layers import Dense, Dropout, Conv1D, MaxPool1D, Flatten\n",
    "from librosa import load\n",
    "from librosa.feature import mfcc\n",
    "from sklearn.model_selection import train_test_split"
   ]
  },
  {
   "cell_type": "code",
   "execution_count": 2,
   "metadata": {},
   "outputs": [],
   "source": [
    "DEFAULT_BITRATE = 22050\n",
    "DESIRED_DURATION = 25\n",
    "PADDED_LENGTH = DEFAULT_BITRATE * DESIRED_DURATION\n",
    "NUM_MFCCS = 64"
   ]
  },
  {
   "cell_type": "code",
   "execution_count": 3,
   "metadata": {},
   "outputs": [],
   "source": [
    "def load_audio(folder):\n",
    "    # load original mp3s\n",
    "    loaded_mp3_files = [load(f) for f in glob(folder + '*.mp3')[:40]]\n",
    "    \n",
    "    # make same length\n",
    "    fix_length_mp3 = normalize_audio(loaded_mp3_files)\n",
    "    \n",
    "    mfccs = [mfcc(y=y, sr=DEFAULT_BITRATE, n_mfcc=NUM_MFCCS) for y in fix_length_mp3]\n",
    "    return mfccs"
   ]
  },
  {
   "cell_type": "code",
   "execution_count": 4,
   "metadata": {},
   "outputs": [],
   "source": [
    "def normalize_audio(source_files):\n",
    "#     fixed_lengths = [lb.util.fix_length(y, PADDED_LENGTH) for y, _ in source_files]\n",
    "#     return [(f - np.mean(f)) / np.std(f) for f in fixed_lengths]\n",
    "    return [lb.util.fix_length(y, PADDED_LENGTH) for y, _ in source_files]"
   ]
  },
  {
   "cell_type": "code",
   "execution_count": 5,
   "metadata": {},
   "outputs": [],
   "source": [
    "def flatten_input(input):\n",
    "    return np.array([x.reshape(x.shape[0] * x.shape[1]) for x in input])"
   ]
  },
  {
   "cell_type": "code",
   "execution_count": 6,
   "metadata": {},
   "outputs": [],
   "source": [
    "us_X = load_audio('../data/speech-accent-archive/recordings/usa/')\n",
    "uk_X = load_audio('../data/speech-accent-archive/recordings/uk/')\n",
    "hk_X = load_audio('../data/speech-accent-archive/recordings/hongkong/')\n",
    "cn_X = load_audio('../data/speech-accent-archive/recordings/china/')\n",
    "ger_X = load_audio('../data/speech-accent-archive/recordings/germany/')"
   ]
  },
  {
   "cell_type": "code",
   "execution_count": 7,
   "metadata": {},
   "outputs": [],
   "source": [
    "us_X[0].shape\n",
    "us_X = flatten_input(us_X)\n",
    "uk_X = flatten_input(uk_X)\n",
    "hk_X = flatten_input(hk_X)\n",
    "cn_X = flatten_input(cn_X)\n",
    "ger_X = flatten_input(ger_X)"
   ]
  },
  {
   "cell_type": "code",
   "execution_count": 8,
   "metadata": {},
   "outputs": [],
   "source": [
    "X = np.concatenate([us_X, uk_X, hk_X, cn_X, ger_X])\n",
    "Y = np.zeros(len(us_X) + len(uk_X) + len(hk_X) + len(cn_X) + len(ger_X))\n",
    "Y[21:40] = 1\n",
    "Y[41:60] = 2\n",
    "Y[61:80] = 3\n",
    "Y[81:100] = 4"
   ]
  },
  {
   "cell_type": "code",
   "execution_count": 10,
   "metadata": {},
   "outputs": [
    {
     "name": "stdout",
     "output_type": "stream",
     "text": [
      "(175, 68928)\n",
      "(175, 5)\n"
     ]
    }
   ],
   "source": [
    "Y_categorical = to_categorical(Y)\n",
    "print(X.shape)\n",
    "print(Y_categorical.shape)"
   ]
  },
  {
   "cell_type": "code",
   "execution_count": 11,
   "metadata": {},
   "outputs": [],
   "source": [
    "X_train, X_test, y_train, y_test = train_test_split(X, Y_categorical, test_size=0.2, random_state=420)"
   ]
  },
  {
   "cell_type": "code",
   "execution_count": 12,
   "metadata": {},
   "outputs": [
    {
     "name": "stdout",
     "output_type": "stream",
     "text": [
      "(140, 68928)\n",
      "(140, 5)\n",
      "(35, 68928)\n",
      "(35, 5)\n"
     ]
    }
   ],
   "source": [
    "print(X_train.shape)\n",
    "print(y_train.shape)\n",
    "\n",
    "print(X_test.shape)\n",
    "print(y_test.shape)"
   ]
  },
  {
   "cell_type": "code",
   "execution_count": 13,
   "metadata": {},
   "outputs": [],
   "source": [
    "def ff_model(X_train, y_train, X_test, y_test):\n",
    "    X_val = X_train[:15]\n",
    "    y_val = y_train[:15]\n",
    "    X_train_true = X_train[15:]\n",
    "    y_train_true = y_train[15:]\n",
    "    \n",
    "    model = Sequential()\n",
    "    model.add(Dense(1024, activation='relu', input_shape=(68928,)))\n",
    "    model.add(Dropout(0.3))\n",
    "    model.add(Dense(1024, activation='relu'))\n",
    "    model.add(Dropout(0.3))\n",
    "    model.add(Dense(1024, activation='relu'))\n",
    "    model.add(Dropout(0.3))\n",
    "    model.add(Dense(512, activation='relu'))\n",
    "    model.add(Dropout(0.3))\n",
    "    model.add(Dense(5, activation='softmax'))\n",
    "    model.compile(optimizer='adam', loss='categorical_crossentropy', metrics=['accuracy'])\n",
    "    \n",
    "    model.fit(x=X_train_true, y=y_train_true, epochs=16, validation_data=(X_val, y_val))\n",
    "    \n",
    "    loss, accuracy = model.evaluate(X_test, y_test)\n",
    "    print('Test loss: %s' % loss)\n",
    "    print('Test accuracy: %s' % accuracy)\n",
    "    \n",
    "    return model"
   ]
  },
  {
   "cell_type": "code",
   "execution_count": 14,
   "metadata": {},
   "outputs": [
    {
     "name": "stdout",
     "output_type": "stream",
     "text": [
      "Train on 125 samples, validate on 15 samples\n",
      "Epoch 1/16\n",
      "125/125 [==============================] - 11s 90ms/step - loss: 7.1533 - acc: 0.5520 - val_loss: 8.5963 - val_acc: 0.4667\n",
      "Epoch 2/16\n",
      "125/125 [==============================] - 7s 53ms/step - loss: 6.5762 - acc: 0.5920 - val_loss: 8.5963 - val_acc: 0.4667\n",
      "Epoch 3/16\n",
      "125/125 [==============================] - 6s 46ms/step - loss: 6.5762 - acc: 0.5920 - val_loss: 8.5963 - val_acc: 0.4667\n",
      "Epoch 4/16\n",
      "125/125 [==============================] - 5s 43ms/step - loss: 6.5762 - acc: 0.5920 - val_loss: 8.5963 - val_acc: 0.4667\n",
      "Epoch 5/16\n",
      "125/125 [==============================] - 7s 52ms/step - loss: 6.5762 - acc: 0.5920 - val_loss: 8.5963 - val_acc: 0.4667\n",
      "Epoch 6/16\n",
      "125/125 [==============================] - 7s 56ms/step - loss: 6.5762 - acc: 0.5920 - val_loss: 8.5963 - val_acc: 0.4667\n",
      "Epoch 7/16\n",
      "125/125 [==============================] - 6s 48ms/step - loss: 6.5762 - acc: 0.5920 - val_loss: 8.5963 - val_acc: 0.4667\n",
      "Epoch 8/16\n",
      "125/125 [==============================] - 6s 50ms/step - loss: 6.5762 - acc: 0.5920 - val_loss: 8.5963 - val_acc: 0.4667\n",
      "Epoch 9/16\n",
      "125/125 [==============================] - 6s 49ms/step - loss: 6.5762 - acc: 0.5920 - val_loss: 8.5963 - val_acc: 0.4667\n",
      "Epoch 10/16\n",
      "125/125 [==============================] - 7s 57ms/step - loss: 6.5762 - acc: 0.5920 - val_loss: 8.5963 - val_acc: 0.4667\n",
      "Epoch 11/16\n",
      "125/125 [==============================] - 6s 47ms/step - loss: 6.5762 - acc: 0.5920 - val_loss: 8.5963 - val_acc: 0.4667\n",
      "Epoch 12/16\n",
      "125/125 [==============================] - 6s 46ms/step - loss: 6.5762 - acc: 0.5920 - val_loss: 8.5963 - val_acc: 0.4667\n",
      "Epoch 13/16\n",
      "125/125 [==============================] - 5s 43ms/step - loss: 6.5762 - acc: 0.5920 - val_loss: 8.5963 - val_acc: 0.4667\n",
      "Epoch 14/16\n",
      "125/125 [==============================] - 6s 50ms/step - loss: 6.5762 - acc: 0.5920 - val_loss: 8.5963 - val_acc: 0.4667\n",
      "Epoch 15/16\n",
      "125/125 [==============================] - 8s 64ms/step - loss: 6.5762 - acc: 0.5920 - val_loss: 8.5963 - val_acc: 0.4667\n",
      "Epoch 16/16\n",
      "125/125 [==============================] - 11s 91ms/step - loss: 6.5762 - acc: 0.5920 - val_loss: 8.5963 - val_acc: 0.4667\n",
      "35/35 [==============================] - 0s 11ms/step\n",
      "Test loss: 7.82878938402\n",
      "Test accuracy: 0.514285715137\n"
     ]
    }
   ],
   "source": [
    "model = ff_model(X_train, y_train, X_test, y_test)"
   ]
  },
  {
   "cell_type": "code",
   "execution_count": 21,
   "metadata": {},
   "outputs": [],
   "source": [
    "def cnn_model(X_train, y_train, X_test, y_test):\n",
    "    X_val = X_train[:15]\n",
    "    y_val = y_train[:15]\n",
    "    X_train_true = X_train[15:]\n",
    "    y_train_true = y_train[15:]\n",
    "    \n",
    "    model = Sequential()\n",
    "    model.add(Conv1D(8, 7, activation='relu', input_shape=(68928, 1)))\n",
    "    model.add(MaxPool1D())\n",
    "    model.add(Dropout(0.3))\n",
    "    model.add(Conv1D(16, 7, activation='relu'))\n",
    "    model.add(MaxPool1D())\n",
    "    model.add(Dropout(0.2))\n",
    "    model.add(Conv1D(32, 7, activation='relu'))\n",
    "    model.add(MaxPool1D())\n",
    "    model.add(Dropout(0.3))\n",
    "    model.add(Flatten())\n",
    "    model.add(Dense(512, activation='relu'))\n",
    "    model.add(Dropout(0.2))\n",
    "    model.add(Dense(5, activation='softmax'))\n",
    "    model.compile(optimizer='adam', loss='categorical_crossentropy', metrics=['accuracy'])\n",
    "    \n",
    "    model.fit(x=X_train_true, y=y_train_true, epochs=16, validation_data=(X_val, y_val))\n",
    "    \n",
    "    loss, accuracy = model.evaluate(X_test, y_test)\n",
    "    print('Test loss: %s' % loss)\n",
    "    print('Test accuracy: %s' % accuracy)\n",
    "    \n",
    "    return model"
   ]
  },
  {
   "cell_type": "code",
   "execution_count": null,
   "metadata": {},
   "outputs": [
    {
     "name": "stdout",
     "output_type": "stream",
     "text": [
      "Train on 125 samples, validate on 15 samples\n",
      "Epoch 1/16\n",
      "125/125 [==============================] - 121s 970ms/step - loss: 7.7826 - acc: 0.4960 - val_loss: 8.5963 - val_acc: 0.4667\n",
      "Epoch 2/16\n",
      "125/125 [==============================] - 225s 2s/step - loss: 6.5762 - acc: 0.5920 - val_loss: 8.5963 - val_acc: 0.4667\n",
      "Epoch 3/16\n",
      "125/125 [==============================] - 173s 1s/step - loss: 6.5762 - acc: 0.5920 - val_loss: 8.5963 - val_acc: 0.4667\n",
      "Epoch 4/16\n",
      "125/125 [==============================] - 170s 1s/step - loss: 6.5762 - acc: 0.5920 - val_loss: 8.5963 - val_acc: 0.4667\n",
      "Epoch 5/16\n",
      "125/125 [==============================] - 132s 1s/step - loss: 6.5762 - acc: 0.5920 - val_loss: 8.5963 - val_acc: 0.4667\n",
      "Epoch 6/16\n",
      "125/125 [==============================] - 130s 1s/step - loss: 6.5762 - acc: 0.5920 - val_loss: 8.5963 - val_acc: 0.4667\n",
      "Epoch 7/16\n",
      "125/125 [==============================] - 132s 1s/step - loss: 6.5762 - acc: 0.5920 - val_loss: 8.5963 - val_acc: 0.4667\n",
      "Epoch 8/16\n",
      "125/125 [==============================] - 121s 971ms/step - loss: 6.5762 - acc: 0.5920 - val_loss: 8.5963 - val_acc: 0.4667\n",
      "Epoch 9/16\n"
     ]
    }
   ],
   "source": [
    "cnn_model = cnn_model(X_train.reshape(X_train.shape[0], X_train.shape[1], 1), \n",
    "                      y_train, \n",
    "                      X_test.reshape(X_test.shape[0], X_test.shape[1], 1), \n",
    "                      y_test)"
   ]
  },
  {
   "cell_type": "code",
   "execution_count": null,
   "metadata": {},
   "outputs": [],
   "source": []
  }
 ],
 "metadata": {
  "kernelspec": {
   "display_name": "Python 3",
   "language": "python",
   "name": "python3"
  },
  "language_info": {
   "codemirror_mode": {
    "name": "ipython",
    "version": 3
   },
   "file_extension": ".py",
   "mimetype": "text/x-python",
   "name": "python",
   "nbconvert_exporter": "python",
   "pygments_lexer": "ipython3",
   "version": "3.6.3"
  }
 },
 "nbformat": 4,
 "nbformat_minor": 2
}
