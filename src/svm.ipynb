{
 "cells": [
  {
   "cell_type": "code",
   "execution_count": 17,
   "metadata": {},
   "outputs": [],
   "source": [
    "import librosa as lb\n",
    "import os\n",
    "import numpy as np\n",
    "import sklearn as sk\n",
    "import sklearn.ensemble\n",
    "\n",
    "from glob import glob\n",
    "from librosa import load\n",
    "from librosa.feature import mfcc"
   ]
  },
  {
   "cell_type": "markdown",
   "metadata": {},
   "source": [
    "# SVM Classifier"
   ]
  },
  {
   "cell_type": "markdown",
   "metadata": {},
   "source": [
    "## Define constants"
   ]
  },
  {
   "cell_type": "code",
   "execution_count": 3,
   "metadata": {},
   "outputs": [],
   "source": [
    "DEFAULT_BITRATE = 22050\n",
    "DESIRED_DURATION = 25\n",
    "PADDED_LENGTH = DEFAULT_BITRATE * DESIRED_DURATION"
   ]
  },
  {
   "cell_type": "markdown",
   "metadata": {},
   "source": [
    "## Helper functions"
   ]
  },
  {
   "cell_type": "code",
   "execution_count": 4,
   "metadata": {},
   "outputs": [],
   "source": [
    "def load_audio(folder):\n",
    "    # load original mp3s\n",
    "    loaded_mp3_files = [load(f) for f in glob(folder + '*.mp3')[:40]]\n",
    "    \n",
    "    # make same length\n",
    "    fix_length_mp3 = normalize_audio(loaded_mp3_files)\n",
    "    \n",
    "    mfccs = [mfcc(y=y, sr=DEFAULT_BITRATE, n_mfcc=40) for y in fix_length_mp3]\n",
    "    return mfccs"
   ]
  },
  {
   "cell_type": "code",
   "execution_count": 5,
   "metadata": {},
   "outputs": [],
   "source": [
    "def normalize_audio(source_files):\n",
    "    fixed_lengths = [lb.util.fix_length(y, PADDED_LENGTH) for y, _ in source_files]\n",
    "    return [(f - np.mean(f)) / np.std(f) for f in fixed_lengths]"
   ]
  },
  {
   "cell_type": "code",
   "execution_count": 6,
   "metadata": {},
   "outputs": [],
   "source": [
    "def flatten_input(input):\n",
    "    return np.array([x.reshape(x.shape[0] * x.shape[1]) for x in input])"
   ]
  },
  {
   "cell_type": "markdown",
   "metadata": {},
   "source": [
    "## Load data"
   ]
  },
  {
   "cell_type": "code",
   "execution_count": 7,
   "metadata": {},
   "outputs": [],
   "source": [
    "us_X = load_audio('../data/speech-accent-archive/recordings/usa/')\n",
    "uk_X = load_audio('../data/speech-accent-archive/recordings/uk/')\n",
    "hk_X = load_audio('../data/speech-accent-archive/recordings/hongkong/')\n",
    "cn_X = load_audio('../data/speech-accent-archive/recordings/china/')\n",
    "ger_X = load_audio('../data/speech-accent-archive/recordings/germany/')"
   ]
  },
  {
   "cell_type": "markdown",
   "metadata": {},
   "source": [
    "## Flatten MFCC data into vectors"
   ]
  },
  {
   "cell_type": "code",
   "execution_count": 8,
   "metadata": {},
   "outputs": [],
   "source": [
    "us_X[0].shape\n",
    "us_X = flatten_input(us_X)\n",
    "uk_X = flatten_input(uk_X)\n",
    "hk_X = flatten_input(hk_X)\n",
    "cn_X = flatten_input(cn_X)\n",
    "ger_X = flatten_input(ger_X)"
   ]
  },
  {
   "cell_type": "code",
   "execution_count": 9,
   "metadata": {},
   "outputs": [],
   "source": [
    "X = np.concatenate([us_X, uk_X, hk_X, cn_X, ger_X])\n",
    "Y = np.zeros(len(us_X) + len(uk_X) + len(hk_X) + len(cn_X) + len(ger_X))\n",
    "Y[21:40] = 1\n",
    "Y[41:60] = 2\n",
    "Y[61:80] = 3\n",
    "Y[81:100] = 4"
   ]
  },
  {
   "cell_type": "markdown",
   "metadata": {},
   "source": [
    "## Train / Test split"
   ]
  },
  {
   "cell_type": "code",
   "execution_count": 10,
   "metadata": {},
   "outputs": [],
   "source": [
    "X_train, X_test, y_train, y_test = sk.model_selection.train_test_split(X, Y, test_size=0.3)"
   ]
  },
  {
   "cell_type": "code",
   "execution_count": 11,
   "metadata": {},
   "outputs": [],
   "source": [
    "C_params = [0.1, 10, 25, 50, 100, 200, 500]\n",
    "accuracies = [0, 0, 0, 0, 0, 0, 0]"
   ]
  },
  {
   "cell_type": "markdown",
   "metadata": {},
   "source": [
    "## Train SVM"
   ]
  },
  {
   "cell_type": "code",
   "execution_count": 12,
   "metadata": {},
   "outputs": [],
   "source": [
    "for idx, C_param in enumerate(C_params):\n",
    "    svm_rbf = sk.svm.SVC(C=C_param, kernel='rbf', probability=True)\n",
    "    svm_rbf.fit(X_train, y_train)\n",
    "    y_test_predict = svm_rbf.predict(X_test)\n",
    "    accuracies[idx] = sk.metrics.accuracy_score(y_true=y_test, y_pred=y_test_predict)"
   ]
  },
  {
   "cell_type": "code",
   "execution_count": 13,
   "metadata": {},
   "outputs": [
    {
     "name": "stdout",
     "output_type": "stream",
     "text": [
      "[0.67924528301886788, 0.67924528301886788, 0.67924528301886788, 0.67924528301886788, 0.67924528301886788, 0.67924528301886788, 0.67924528301886788]\n"
     ]
    }
   ],
   "source": [
    "print accuracies"
   ]
  },
  {
   "cell_type": "markdown",
   "metadata": {},
   "source": [
    "# Train Gradient Boosting"
   ]
  },
  {
   "cell_type": "code",
   "execution_count": 24,
   "metadata": {},
   "outputs": [],
   "source": [
    "accuracies = [0, 0, 0, 0, 0, 0]\n",
    "C_params = C_params[1:]"
   ]
  },
  {
   "cell_type": "code",
   "execution_count": 25,
   "metadata": {},
   "outputs": [],
   "source": [
    "for idx, C_param in enumerate(C_params):\n",
    "    rf = sk.ensemble.GradientBoostingClassifier(n_estimators=C_param)\n",
    "    rf.fit(X_train, y_train)\n",
    "    y_test_predict = rf.predict(X_test)\n",
    "    accuracies[idx] = sk.metrics.accuracy_score(y_true=y_test, y_pred=y_test_predict)"
   ]
  },
  {
   "cell_type": "code",
   "execution_count": 26,
   "metadata": {},
   "outputs": [
    {
     "name": "stdout",
     "output_type": "stream",
     "text": [
      "[0.45283018867924529, 0.54716981132075471, 0.52830188679245282, 0.54716981132075471, 0.56603773584905659, 0.62264150943396224]\n"
     ]
    }
   ],
   "source": [
    "print accuracies"
   ]
  },
  {
   "cell_type": "markdown",
   "metadata": {},
   "source": [
    "# Train AdaBoost"
   ]
  },
  {
   "cell_type": "code",
   "execution_count": 28,
   "metadata": {},
   "outputs": [
    {
     "name": "stdout",
     "output_type": "stream",
     "text": [
      "[0.67924528301886788, 0.67924528301886788, 0.67924528301886788, 0.67924528301886788, 0.67924528301886788, 0.67924528301886788, 0]\n"
     ]
    }
   ],
   "source": [
    "accuracies = [0, 0, 0, 0, 0, 0, 0]\n",
    "for idx, C_param in enumerate(C_params):\n",
    "    rf = sk.ensemble.AdaBoostClassifier(n_estimators=C_param)\n",
    "    rf.fit(X_train, y_train)\n",
    "    y_test_predict = rf.predict(X_test)\n",
    "    accuracies[idx] = sk.metrics.accuracy_score(y_true=y_test, y_pred=y_test_predict)\n",
    "print accuracies"
   ]
  },
  {
   "cell_type": "markdown",
   "metadata": {},
   "source": [
    "# Train Random Forest"
   ]
  },
  {
   "cell_type": "code",
   "execution_count": 32,
   "metadata": {},
   "outputs": [
    {
     "name": "stdout",
     "output_type": "stream",
     "text": [
      "[0.64150943396226412, 0.660377358490566, 0.660377358490566, 0.67924528301886788, 0.67924528301886788, 0.67924528301886788]\n"
     ]
    }
   ],
   "source": [
    "accuracies = [0, 0, 0, 0, 0, 0]\n",
    "for idx, C_param in enumerate(C_params):\n",
    "    rf = sk.ensemble.RandomForestClassifier(n_estimators=C_param)\n",
    "    rf.fit(X_train, y_train)\n",
    "    y_test_predict = rf.predict(X_test)\n",
    "    accuracies[idx] = sk.metrics.accuracy_score(y_true=y_test, y_pred=y_test_predict)\n",
    "print accuracies"
   ]
  },
  {
   "cell_type": "code",
   "execution_count": null,
   "metadata": {},
   "outputs": [],
   "source": []
  }
 ],
 "metadata": {
  "kernelspec": {
   "display_name": "Python 2",
   "language": "python",
   "name": "python2"
  },
  "language_info": {
   "codemirror_mode": {
    "name": "ipython",
    "version": 2
   },
   "file_extension": ".py",
   "mimetype": "text/x-python",
   "name": "python",
   "nbconvert_exporter": "python",
   "pygments_lexer": "ipython2",
   "version": "2.7.14"
  }
 },
 "nbformat": 4,
 "nbformat_minor": 2
}
