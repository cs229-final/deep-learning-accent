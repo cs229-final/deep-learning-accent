{
 "cells": [
  {
   "cell_type": "markdown",
   "metadata": {
    "collapsed": true
   },
   "source": [
    "# Split audio files into utterances "
   ]
  },
  {
   "cell_type": "code",
   "execution_count": 70,
   "metadata": {
    "collapsed": true
   },
   "outputs": [],
   "source": [
    "import os\n",
    "from pydub import AudioSegment\n",
    "from pydub.silence import split_on_silence\n",
    "\n",
    "def extract_chunks(filepath, same_dir=True, prefix='chunk'):\n",
    "    if prefix in filepath:\n",
    "        return\n",
    "    print(filepath)\n",
    "    sound_file = AudioSegment.from_wav(filepath)\n",
    "    audio_chunks = split_on_silence(\n",
    "        sound_file, \n",
    "        min_silence_len=600,  # in ms\n",
    "        silence_thresh=-27,\n",
    "        keep_silence=200\n",
    "    )\n",
    "    dirname = os.path.dirname(filepath)\n",
    "    print(len(audio_chunks))\n",
    "    for i, chunk in enumerate(audio_chunks):\n",
    "        out_file = os.path.join(dirname, f\"{prefix}-{i}.wav\")\n",
    "        chunk.export(out_file, format=\"wav\")"
   ]
  },
  {
   "cell_type": "code",
   "execution_count": null,
   "metadata": {},
   "outputs": [
    {
     "name": "stdout",
     "output_type": "stream",
     "text": [
      "404 /Users/leonmak/Documents/CS229/final-project/data/task80/list255/talker403/chunk-0.wav\n",
      "/Users/leonmak/Documents/CS229/final-project/data/task80/list255/talker416/SC_W_CHF_07_EN.wav\n",
      "367\n",
      "/Users/leonmak/Documents/CS229/final-project/data/task80/list255/talker418/SC_W_CHF_09_EN.wav\n",
      "265\n",
      "/Users/leonmak/Documents/CS229/final-project/data/task80/list255/talker428/SC_W_EN_10_EN.wav\n",
      "232\n",
      "/Users/leonmak/Documents/CS229/final-project/data/task80/list255/talker440/SC_W_ENF_17_EN.wav\n",
      "241\n",
      "/Users/leonmak/Documents/CS229/final-project/data/task80/list255/talker448/SC_W_IT_01_EN.wav\n",
      "111\n",
      "/Users/leonmak/Documents/CS229/final-project/data/task80/list255/talker456/SC_W_KO_07_EN.wav\n",
      "260\n",
      "/Users/leonmak/Documents/CS229/final-project/data/task80/list255/talker467/SC_W_KOF_03_EN.wav\n",
      "192\n",
      "/Users/leonmak/Documents/CS229/final-project/data/task80/list255/talker476/SC_W_KOF_13_EN.wav\n",
      "283\n",
      "/Users/leonmak/Documents/CS229/final-project/data/task81/list256/talker401/SC_S_CH_02_EN.wav\n",
      "66\n",
      "/Users/leonmak/Documents/CS229/final-project/data/task81/list256/talker404/SC_S_CH_05_EN.wav\n"
     ]
    }
   ],
   "source": [
    "import glob\n",
    "\n",
    "base_dir = '/Users/leonmak/Documents/CS229/final-project/data/'\n",
    "wav_files = glob.glob(os.path.join(base_dir, '**/*.wav'), recursive=True)\n",
    "print(len(wav_files), wav_files[0])\n",
    "for i, filepath in enumerate(wav_files):\n",
    "    extract_chunks(filepath)\n",
    "    \n"
   ]
  },
  {
   "cell_type": "code",
   "execution_count": null,
   "metadata": {
    "collapsed": true
   },
   "outputs": [],
   "source": []
  },
  {
   "cell_type": "code",
   "execution_count": null,
   "metadata": {
    "collapsed": true
   },
   "outputs": [],
   "source": []
  },
  {
   "cell_type": "code",
   "execution_count": null,
   "metadata": {
    "collapsed": true
   },
   "outputs": [],
   "source": []
  }
 ],
 "metadata": {
  "kernelspec": {
   "display_name": "cs229",
   "language": "python",
   "name": "cs229-final"
  },
  "language_info": {
   "codemirror_mode": {
    "name": "ipython",
    "version": 3
   },
   "file_extension": ".py",
   "mimetype": "text/x-python",
   "name": "python",
   "nbconvert_exporter": "python",
   "pygments_lexer": "ipython3",
   "version": "3.6.1"
  }
 },
 "nbformat": 4,
 "nbformat_minor": 1
}
