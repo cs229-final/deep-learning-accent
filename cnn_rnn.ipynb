{
 "cells": [
  {
   "cell_type": "code",
   "execution_count": 11,
   "metadata": {},
   "outputs": [],
   "source": [
    "import glob\n",
    "import os\n",
    "import librosa\n",
    "import matplotlib.pyplot as plt\n",
    "import tensorflow as tf\n",
    "import numpy as np"
   ]
  },
  {
   "cell_type": "markdown",
   "metadata": {},
   "source": [
    "# Extract features\n",
    "\n",
    "### Single file example extraction"
   ]
  },
  {
   "cell_type": "code",
   "execution_count": 2,
   "metadata": {},
   "outputs": [
    {
     "ename": "FileNotFoundError",
     "evalue": "[Errno 2] No such file or directory: '/Users/leonmak/Documents/CS229/final-project/data/SC-scripted-word/CH/SC_W_CH_04_EN-chunk-5.wav'",
     "output_type": "error",
     "traceback": [
      "\u001b[0;31m---------------------------------------------------------------------------\u001b[0m",
      "\u001b[0;31mFileNotFoundError\u001b[0m                         Traceback (most recent call last)",
      "\u001b[0;32m<ipython-input-2-c0e694321978>\u001b[0m in \u001b[0;36m<module>\u001b[0;34m()\u001b[0m\n\u001b[1;32m     31\u001b[0m \u001b[0;31m# sample_filename = 'data/speech-accent-archive/recordings/afghanistan/dari2.mp3'\u001b[0m\u001b[0;34m\u001b[0m\u001b[0;34m\u001b[0m\u001b[0m\n\u001b[1;32m     32\u001b[0m \u001b[0msample_filename\u001b[0m \u001b[0;34m=\u001b[0m \u001b[0;34m'/Users/leonmak/Documents/CS229/final-project/data/SC-scripted-word/CH/SC_W_CH_04_EN-chunk-5.wav'\u001b[0m\u001b[0;34m\u001b[0m\u001b[0m\n\u001b[0;32m---> 33\u001b[0;31m \u001b[0mfeatures\u001b[0m \u001b[0;34m=\u001b[0m \u001b[0mextract_feature_array\u001b[0m\u001b[0;34m(\u001b[0m\u001b[0msample_filename\u001b[0m\u001b[0;34m)\u001b[0m\u001b[0;34m\u001b[0m\u001b[0m\n\u001b[0m\u001b[1;32m     34\u001b[0m \u001b[0mdata_points\u001b[0m\u001b[0;34m,\u001b[0m \u001b[0m_\u001b[0m \u001b[0;34m=\u001b[0m \u001b[0mlibrosa\u001b[0m\u001b[0;34m.\u001b[0m\u001b[0mload\u001b[0m\u001b[0;34m(\u001b[0m\u001b[0msample_filename\u001b[0m\u001b[0;34m)\u001b[0m\u001b[0;34m\u001b[0m\u001b[0m\n\u001b[1;32m     35\u001b[0m \u001b[0mprint\u001b[0m \u001b[0;34m(\u001b[0m\u001b[0;34m'IN: Initial Data Points ='\u001b[0m\u001b[0;34m,\u001b[0m \u001b[0mlen\u001b[0m\u001b[0;34m(\u001b[0m\u001b[0mdata_points\u001b[0m\u001b[0;34m)\u001b[0m\u001b[0;34m)\u001b[0m\u001b[0;34m\u001b[0m\u001b[0m\n",
      "\u001b[0;32m<ipython-input-2-c0e694321978>\u001b[0m in \u001b[0;36mextract_feature_array\u001b[0;34m(filename, bands, frames)\u001b[0m\n\u001b[1;32m      8\u001b[0m     \u001b[0mwindow_size\u001b[0m \u001b[0;34m=\u001b[0m \u001b[0;36m512\u001b[0m \u001b[0;34m*\u001b[0m \u001b[0;34m(\u001b[0m\u001b[0mframes\u001b[0m\u001b[0;34m-\u001b[0m\u001b[0;36m1\u001b[0m\u001b[0;34m)\u001b[0m\u001b[0;34m\u001b[0m\u001b[0m\n\u001b[1;32m      9\u001b[0m     \u001b[0mmfccs\u001b[0m \u001b[0;34m=\u001b[0m \u001b[0;34m[\u001b[0m\u001b[0;34m]\u001b[0m\u001b[0;34m\u001b[0m\u001b[0m\n\u001b[0;32m---> 10\u001b[0;31m     \u001b[0msound_clip\u001b[0m\u001b[0;34m,\u001b[0m \u001b[0ms\u001b[0m \u001b[0;34m=\u001b[0m \u001b[0mlibrosa\u001b[0m\u001b[0;34m.\u001b[0m\u001b[0mload\u001b[0m\u001b[0;34m(\u001b[0m\u001b[0mfilename\u001b[0m\u001b[0;34m,\u001b[0m \u001b[0msr\u001b[0m\u001b[0;34m=\u001b[0m\u001b[0;36m44100\u001b[0m\u001b[0;34m)\u001b[0m\u001b[0;34m\u001b[0m\u001b[0m\n\u001b[0m\u001b[1;32m     11\u001b[0m     \u001b[0;32mfor\u001b[0m \u001b[0;34m(\u001b[0m\u001b[0mstart\u001b[0m\u001b[0;34m,\u001b[0m \u001b[0mend\u001b[0m\u001b[0;34m)\u001b[0m \u001b[0;32min\u001b[0m \u001b[0mwindows\u001b[0m\u001b[0;34m(\u001b[0m\u001b[0msound_clip\u001b[0m\u001b[0;34m,\u001b[0m \u001b[0mwindow_size\u001b[0m\u001b[0;34m)\u001b[0m\u001b[0;34m:\u001b[0m\u001b[0;34m\u001b[0m\u001b[0m\n\u001b[1;32m     12\u001b[0m         \u001b[0mstart\u001b[0m \u001b[0;34m=\u001b[0m \u001b[0mint\u001b[0m\u001b[0;34m(\u001b[0m\u001b[0mstart\u001b[0m\u001b[0;34m)\u001b[0m\u001b[0;34m\u001b[0m\u001b[0m\n",
      "\u001b[0;32m/usr/local/lib/python3.6/site-packages/librosa/core/audio.py\u001b[0m in \u001b[0;36mload\u001b[0;34m(path, sr, mono, offset, duration, dtype, res_type)\u001b[0m\n\u001b[1;32m    105\u001b[0m \u001b[0;34m\u001b[0m\u001b[0m\n\u001b[1;32m    106\u001b[0m     \u001b[0my\u001b[0m \u001b[0;34m=\u001b[0m \u001b[0;34m[\u001b[0m\u001b[0;34m]\u001b[0m\u001b[0;34m\u001b[0m\u001b[0m\n\u001b[0;32m--> 107\u001b[0;31m     \u001b[0;32mwith\u001b[0m \u001b[0maudioread\u001b[0m\u001b[0;34m.\u001b[0m\u001b[0maudio_open\u001b[0m\u001b[0;34m(\u001b[0m\u001b[0mos\u001b[0m\u001b[0;34m.\u001b[0m\u001b[0mpath\u001b[0m\u001b[0;34m.\u001b[0m\u001b[0mrealpath\u001b[0m\u001b[0;34m(\u001b[0m\u001b[0mpath\u001b[0m\u001b[0;34m)\u001b[0m\u001b[0;34m)\u001b[0m \u001b[0;32mas\u001b[0m \u001b[0minput_file\u001b[0m\u001b[0;34m:\u001b[0m\u001b[0;34m\u001b[0m\u001b[0m\n\u001b[0m\u001b[1;32m    108\u001b[0m         \u001b[0msr_native\u001b[0m \u001b[0;34m=\u001b[0m \u001b[0minput_file\u001b[0m\u001b[0;34m.\u001b[0m\u001b[0msamplerate\u001b[0m\u001b[0;34m\u001b[0m\u001b[0m\n\u001b[1;32m    109\u001b[0m         \u001b[0mn_channels\u001b[0m \u001b[0;34m=\u001b[0m \u001b[0minput_file\u001b[0m\u001b[0;34m.\u001b[0m\u001b[0mchannels\u001b[0m\u001b[0;34m\u001b[0m\u001b[0m\n",
      "\u001b[0;32m/usr/local/lib/python3.6/site-packages/audioread/__init__.py\u001b[0m in \u001b[0;36maudio_open\u001b[0;34m(path)\u001b[0m\n\u001b[1;32m     78\u001b[0m     \u001b[0;32mfrom\u001b[0m \u001b[0;34m.\u001b[0m \u001b[0;32mimport\u001b[0m \u001b[0mrawread\u001b[0m\u001b[0;34m\u001b[0m\u001b[0m\n\u001b[1;32m     79\u001b[0m     \u001b[0;32mtry\u001b[0m\u001b[0;34m:\u001b[0m\u001b[0;34m\u001b[0m\u001b[0m\n\u001b[0;32m---> 80\u001b[0;31m         \u001b[0;32mreturn\u001b[0m \u001b[0mrawread\u001b[0m\u001b[0;34m.\u001b[0m\u001b[0mRawAudioFile\u001b[0m\u001b[0;34m(\u001b[0m\u001b[0mpath\u001b[0m\u001b[0;34m)\u001b[0m\u001b[0;34m\u001b[0m\u001b[0m\n\u001b[0m\u001b[1;32m     81\u001b[0m     \u001b[0;32mexcept\u001b[0m \u001b[0mDecodeError\u001b[0m\u001b[0;34m:\u001b[0m\u001b[0;34m\u001b[0m\u001b[0m\n\u001b[1;32m     82\u001b[0m         \u001b[0;32mpass\u001b[0m\u001b[0;34m\u001b[0m\u001b[0m\n",
      "\u001b[0;32m/usr/local/lib/python3.6/site-packages/audioread/rawread.py\u001b[0m in \u001b[0;36m__init__\u001b[0;34m(self, filename)\u001b[0m\n\u001b[1;32m     59\u001b[0m     \"\"\"\n\u001b[1;32m     60\u001b[0m     \u001b[0;32mdef\u001b[0m \u001b[0m__init__\u001b[0m\u001b[0;34m(\u001b[0m\u001b[0mself\u001b[0m\u001b[0;34m,\u001b[0m \u001b[0mfilename\u001b[0m\u001b[0;34m)\u001b[0m\u001b[0;34m:\u001b[0m\u001b[0;34m\u001b[0m\u001b[0m\n\u001b[0;32m---> 61\u001b[0;31m         \u001b[0mself\u001b[0m\u001b[0;34m.\u001b[0m\u001b[0m_fh\u001b[0m \u001b[0;34m=\u001b[0m \u001b[0mopen\u001b[0m\u001b[0;34m(\u001b[0m\u001b[0mfilename\u001b[0m\u001b[0;34m,\u001b[0m \u001b[0;34m'rb'\u001b[0m\u001b[0;34m)\u001b[0m\u001b[0;34m\u001b[0m\u001b[0m\n\u001b[0m\u001b[1;32m     62\u001b[0m \u001b[0;34m\u001b[0m\u001b[0m\n\u001b[1;32m     63\u001b[0m         \u001b[0;32mtry\u001b[0m\u001b[0;34m:\u001b[0m\u001b[0;34m\u001b[0m\u001b[0m\n",
      "\u001b[0;31mFileNotFoundError\u001b[0m: [Errno 2] No such file or directory: '/Users/leonmak/Documents/CS229/final-project/data/SC-scripted-word/CH/SC_W_CH_04_EN-chunk-5.wav'"
     ]
    }
   ],
   "source": [
    "def windows(data, window_size):\n",
    "    start = 0\n",
    "    while start < len(data):\n",
    "        yield start, start + window_size\n",
    "        start += (window_size // 2)\n",
    "\n",
    "def extract_feature_array(filename, bands=21, frames=41):\n",
    "    window_size = 512 * (frames-1)\n",
    "    mfccs = []\n",
    "#     sound_clip, s = librosa.load(filename, sr=44100)\n",
    "    for (start, end) in windows(sound_clip, window_size):\n",
    "        start = int(start)\n",
    "        end = int(end)\n",
    "        if(len(sound_clip[start:end]) == window_size):\n",
    "            signal = sound_clip[start:end]\n",
    "            mfcc = librosa.feature.mfcc(signal, sr=s, n_mfcc=bands)\n",
    "            mfccs.append(mfcc)\n",
    "#             mfcc = librosa.feature.mfcc(signal, sr=s, n_mfcc=bands).T.flatten()[:, np.newaxis].T\n",
    "#             logspec = librosa.logamplitude(melspec)\n",
    "#     log_specgrams = np.expand_dims(np.asarray(log_specgrams), axis=3)\n",
    "    return np.asarray(mfccs)\n",
    "\n",
    "# # Uncomment if using deltas\n",
    "#\n",
    "#     log_specgrams = np.asarray(log_specgrams).reshape(len(log_specgrams),bands,frames,1)\n",
    "#     features = np.concatenate((log_specgrams, np.zeros(np.shape(log_specgrams))), axis = 3)\n",
    "#     for i in range(len(features)):\n",
    "#         features[i, :, :, 1] = librosa.feature.delta(features[i, :, :, 0])\n",
    "#     return np.array(features)\n",
    "\n",
    "# sample_filename = 'data/speech-accent-archive/recordings/afghanistan/dari2.mp3'\n",
    "sample_filename = '/Users/leonmak/Documents/CS229/final-project/data/SC-scripted-word/CH/SC_W_CH_04_EN-chunk-5.wav'\n",
    "features = extract_feature_array(sample_filename)\n",
    "data_points, _ = librosa.load(sample_filename)\n",
    "print ('IN: Initial Data Points =', len(data_points))\n",
    "print ('OUT: Total features =', np.shape(features))\n"
   ]
  },
  {
   "cell_type": "markdown",
   "metadata": {},
   "source": [
    "# Classes"
   ]
  },
  {
   "cell_type": "code",
   "execution_count": 14,
   "metadata": {},
   "outputs": [
    {
     "name": "stdout",
     "output_type": "stream",
     "text": [
      "10 labels found, First 10: ['CH', 'EN', 'IN', 'IR', 'JA', 'KO', 'MAF', 'RU', 'TH', 'TU']\n"
     ]
    }
   ],
   "source": [
    "from sklearn import preprocessing\n",
    "\n",
    "def iter_label_files(parent_dir):\n",
    "    \"\"\"Utility for extracting labels\"\"\"\n",
    "    for root, dirpaths, fnames in os.walk(parent_dir):\n",
    "        if len(dirpaths) > 0:\n",
    "            continue\n",
    "        label = root.split('/')[-1]\n",
    "        yield root, label, fnames\n",
    "\n",
    "# parent_dir = 'data/speech-accent-archive/recordings/'\n",
    "parent_dir = 'data/SC-word-segments/'\n",
    "labels = []\n",
    "for _, label, _ in iter_label_files(parent_dir):\n",
    "    labels.append(label)\n",
    "print(f'{len(labels)} labels found, First 10: {labels[:10]}')\n"
   ]
  },
  {
   "cell_type": "code",
   "execution_count": 15,
   "metadata": {},
   "outputs": [
    {
     "name": "stdout",
     "output_type": "stream",
     "text": [
      "Labels with >= 7972 egs: ['KO', 'EN', 'CH'], len:3\n",
      "[[ 0.  0.  1.]\n",
      " [ 0.  1.  0.]\n",
      " [ 1.  0.  0.]]\n"
     ]
    }
   ],
   "source": [
    "cap = 7972\n",
    "counts = []\n",
    "for _, label, fnames in iter_label_files(parent_dir):\n",
    "    counts.append(len(fnames))\n",
    "\n",
    "top_indices_count = [i_count for i_count in sorted(enumerate(counts), key=lambda x:x[1], reverse=True)]\n",
    "most_freq_egs = [labels[i] for (i, count) in top_indices_count if count >= cap]\n",
    "print(f'Labels with >= {cap} egs: {most_freq_egs}, len:{len(most_freq_egs)}')    \n",
    "\n",
    "le = preprocessing.LabelEncoder()\n",
    "ohe = preprocessing.OneHotEncoder()\n",
    "le_ed = le.fit_transform(most_freq_egs)\n",
    "ohe_ed = ohe.fit_transform(le_ed.reshape(len(le_ed), 1))\n",
    "print(ohe_ed.toarray())\n"
   ]
  },
  {
   "cell_type": "markdown",
   "metadata": {},
   "source": [
    "# Save features"
   ]
  },
  {
   "cell_type": "code",
   "execution_count": 29,
   "metadata": {
    "scrolled": false
   },
   "outputs": [
    {
     "name": "stdout",
     "output_type": "stream",
     "text": [
      "Saving feature_file npy/mfcc_w/fold_orig_w0_x.npy \n",
      "Saving labels_file npy/mfcc_w/fold_orig_w0_y.npy\n",
      "Features of fold_orig_w0 = (2391, 50, 44)\n",
      "Labels of fold_orig_w0 = (2391,)\n",
      "Saving feature_file npy/mfcc_w/fold_orig_w1_x.npy \n",
      "Saving labels_file npy/mfcc_w/fold_orig_w1_y.npy\n",
      "Features of fold_orig_w1 = (2391, 50, 44)\n",
      "Labels of fold_orig_w1 = (2391,)\n",
      "Saving feature_file npy/mfcc_w/fold_orig_w2_x.npy \n",
      "Saving labels_file npy/mfcc_w/fold_orig_w2_y.npy\n",
      "Features of fold_orig_w2 = (2391, 50, 44)\n",
      "Labels of fold_orig_w2 = (2391,)\n",
      "Saving feature_file npy/mfcc_w/fold_orig_w3_x.npy \n",
      "Saving labels_file npy/mfcc_w/fold_orig_w3_y.npy\n",
      "Features of fold_orig_w3 = (2391, 50, 44)\n",
      "Labels of fold_orig_w3 = (2391,)\n",
      "Saving feature_file npy/mfcc_w/fold_orig_w4_x.npy \n",
      "Saving labels_file npy/mfcc_w/fold_orig_w4_y.npy\n",
      "Features of fold_orig_w4 = (2391, 50, 44)\n",
      "Labels of fold_orig_w4 = (2391,)\n",
      "Saving feature_file npy/mfcc_w/fold_orig_w5_x.npy \n",
      "Saving labels_file npy/mfcc_w/fold_orig_w5_y.npy\n",
      "Features of fold_orig_w5 = (2391, 50, 44)\n",
      "Labels of fold_orig_w5 = (2391,)\n",
      "Saving feature_file npy/mfcc_w/fold_orig_w6_x.npy \n",
      "Saving labels_file npy/mfcc_w/fold_orig_w6_y.npy\n",
      "Features of fold_orig_w6 = (2391, 50, 44)\n",
      "Labels of fold_orig_w6 = (2391,)\n",
      "Saving feature_file npy/mfcc_w/fold_orig_w7_x.npy \n",
      "Saving labels_file npy/mfcc_w/fold_orig_w7_y.npy\n",
      "Features of fold_orig_w7 = (2391, 50, 44)\n",
      "Labels of fold_orig_w7 = (2391,)\n",
      "Saving feature_file npy/mfcc_w/fold_orig_w8_x.npy \n",
      "Saving labels_file npy/mfcc_w/fold_orig_w8_y.npy\n",
      "Features of fold_orig_w8 = (2391, 50, 44)\n",
      "Labels of fold_orig_w8 = (2391,)\n",
      "Saving feature_file npy/mfcc_w/fold_orig_w9_x.npy \n",
      "Saving labels_file npy/mfcc_w/fold_orig_w9_y.npy\n",
      "Features of fold_orig_w9 = (2391, 50, 44)\n",
      "Labels of fold_orig_w9 = (2391,)\n"
     ]
    }
   ],
   "source": [
    "import random \n",
    "import speechpy\n",
    "\n",
    "NUM_MFCCS = 50\n",
    "DEFAULT_BITRATE = 22050\n",
    "DESIRED_DURATION = 1  # seconds\n",
    "PADDED_LENGTH = DEFAULT_BITRATE * DESIRED_DURATION\n",
    "\n",
    "\n",
    "def get_label_enc(fn, le):\n",
    "    fn_parts = fn.split('/')\n",
    "    label_txt = fn_parts[-2]  # y_i\n",
    "    label_int = le.transform([label_txt])\n",
    "    return label_int[0]\n",
    "\n",
    "\n",
    "def normalize_audio(source_files):\n",
    "    fixed_lengths = [librosa.util.fix_length(y, PADDED_LENGTH) for y, _ in source_files]\n",
    "    return [(f - np.mean(f)) / np.std(f) for f in fixed_lengths]\n",
    "\n",
    "\n",
    "def load_audio(source_files):\n",
    "    loaded_mp3_files = [librosa.load(f) for f in source_files]\n",
    "    fix_length_mp3 = normalize_audio(loaded_mp3_files)\n",
    "    mfccs = [librosa.feature.mfcc(y=y, sr=DEFAULT_BITRATE, n_mfcc=NUM_MFCCS) for y in fix_length_mp3]\n",
    "    return mfccs\n",
    "\n",
    "\n",
    "def get_labels(fnames):\n",
    "    labels = [get_label_enc(fn, le) for fn in fnames]\n",
    "    return labels\n",
    "\n",
    "\n",
    "def extract_feature(fnames):\n",
    "    \"\"\"\n",
    "    Extract features from filenames to features and labels arrays\n",
    "    \"\"\"\n",
    "    mfccs = load_audio(fnames)\n",
    "    labels = get_labels(fnames)\n",
    "    return np.asarray(mfccs), np.asarray(labels)\n",
    "#     window_size = 512 * (frames-1)\n",
    "#     log_specgrams = []\n",
    "#     mfccs = []\n",
    "#     labels = []\n",
    "#     for fn in fnames:\n",
    "#         sound_clip, s = librosa.load(fn)\n",
    "# #         sound_clip -= np.mean(sound_clip)\n",
    "# #         sound_clip /= max(sound_clip)\n",
    "#         label_enc = get_label_enc(fn, le)\n",
    "#         for (start, end) in windows(sound_clip, window_size):\n",
    "#             signal = sound_clip[start:end]\n",
    "#             if(len(signal) != window_size):\n",
    "#                 break\n",
    "#             labels.append(label_enc)\n",
    "# #             melspec = librosa.feature.mfcc(signal, sr=s, n_mels=bands)\n",
    "# #             logspec = librosa.logamplitude(melspec)\n",
    "# #             log_specgrams.append(logspec)\n",
    "#             mfcc = librosa.feature.mfcc(signal, sr=s, n_mfcc=bands)\n",
    "#             mfccs.append(mfcc)\n",
    "#     if word == False:\n",
    "#         log_specgrams = np.expand_dims(np.asarray(log_specgrams), axis=3)\n",
    "#     return np.asarray(mfccs), np.asarray(labels, dtype='int')\n",
    "#     log_specgrams = np.array(log_specgrams).reshape(len(log_specgrams),bands,frames,2)\n",
    "#     features = np.concatenate((log_specgrams, np.zeros(log_specgrams.shape)), axis=3)\n",
    "#     for i in range(len(features)):\n",
    "#         features[i, :, :, 1] = librosa.feature.delta(features[i, :, :, 0])\n",
    "#     return np.array(features), np.array(labels, dtype='int')\n",
    "\n",
    "\n",
    "def get_subset_fnames():\n",
    "    subset_fnames = []\n",
    "    for root, label, fnames in iter_label_files(parent_dir):\n",
    "        if label not in most_freq_egs:\n",
    "            continue\n",
    "        for fn in fnames[:cap]:\n",
    "            if '.DS_Store' in fn:\n",
    "                continue\n",
    "            subset_fnames.append(os.path.join(root, fn))\n",
    "    random.seed(24)\n",
    "    random.shuffle(subset_fnames)\n",
    "    return subset_fnames\n",
    "\n",
    "\n",
    "def save_folds(save_dir, num_folds=10, fold_prefix='fold_orig_w'):\n",
    "    fnames = get_subset_fnames()\n",
    "    egs_per_fold = len(fnames) // num_folds\n",
    "    curr = 0\n",
    "    features = []\n",
    "    labels = []\n",
    "    for k in range(num_folds):\n",
    "        fold_name = f'{fold_prefix}{str(k)}'\n",
    "        \n",
    "        feature_file = os.path.join(save_dir, fold_name + '_x.npy')\n",
    "        labels_file = os.path.join(save_dir, fold_name + '_y.npy')\n",
    "\n",
    "        print(f'Saving feature_file {feature_file} \\nSaving labels_file {labels_file}')\n",
    "        start_i = k * egs_per_fold\n",
    "        end_i = (k + 1) * egs_per_fold\n",
    "        fnames_fold = fnames[start_i: end_i]\n",
    "        features, labels = extract_feature(fnames_fold)\n",
    "#         features = np.concatenate([features, new_features]) if len(features) > 0 else np.asarray(new_features)\n",
    "#         labels = np.concatenate([labels, new_labels]) if len(labels) > 0 else np.asarray(new_labels)\n",
    "        print(f'Features of {fold_name} = {features.shape}')\n",
    "        print(f'Labels of {fold_name} = {labels.shape}')\n",
    "\n",
    "        np.save(feature_file, features)\n",
    "        np.save(labels_file, labels)\n",
    "\n",
    "\n",
    "save_dir=os.path.join('npy', 'mfcc_w')\n",
    "save_folds(save_dir)\n"
   ]
  },
  {
   "cell_type": "markdown",
   "metadata": {},
   "source": [
    "# Load Features"
   ]
  },
  {
   "cell_type": "code",
   "execution_count": 19,
   "metadata": {
    "scrolled": false
   },
   "outputs": [
    {
     "name": "stdout",
     "output_type": "stream",
     "text": [
      "npy/mfcc_w\n",
      "\n",
      "Adding fold_orig_w0\n",
      "New Features:  (4782, 50, 44) (4782,)\n",
      "\n",
      "Adding fold_orig_w1\n",
      "New Features:  (4782, 50, 44) (4782,)\n",
      "\n",
      "Adding fold_orig_w2\n",
      "New Features:  (4782, 50, 44) (4782,)\n",
      "\n",
      "Adding fold_orig_w3\n",
      "New Features:  (4782, 50, 44) (4782,)\n",
      "\n",
      "Adding fold_orig_w4\n",
      "New Features:  (4782, 50, 44) (4782,)\n",
      "\n",
      "Adding fold_orig_w5\n",
      "New Features:  (4782, 50, 44) (4782,)\n",
      "\n",
      "Adding fold_orig_w6\n",
      "New Features:  (4782, 50, 44) (4782,)\n",
      "\n",
      "Training Set: (33474, 50, 44), Labels: (33474, 3)\n",
      "Train-dev Set: (2391, 50, 44), Labels: (2391, 3)\n",
      "Dev Set: (2391, 50, 44), Labels: (2391, 3)\n",
      "Test Set: (2391, 50, 44), Labels: (2391, 3)\n"
     ]
    }
   ],
   "source": [
    "from keras.utils import to_categorical\n",
    "data_dir = os.path.join('npy', 'mfcc_w')\n",
    "print(data_dir)\n",
    "fold_prefix = 'fold_orig_w'\n",
    "\n",
    "def add_folds(data_dir):\n",
    "    files_lst = os.listdir(data_dir)\n",
    "    num_folds = len(list(filter(lambda k: fold_prefix in k, files_lst))) // 2\n",
    "        \n",
    "    for k in range(num_folds-3):\n",
    "        fold_name = f'{fold_prefix}{str(k)}'\n",
    "        print(\"\\nAdding \" + fold_name)\n",
    "        feature_file = os.path.join(data_dir, fold_name + '_x.npy')\n",
    "        labels_file = os.path.join(data_dir, fold_name + '_y.npy')\n",
    "\n",
    "        loaded_features = np.load(feature_file)\n",
    "        loaded_labels = np.load(labels_file)\n",
    "        \n",
    "        # Data Augmentation with Gaussian Noise\n",
    "        noise = np.random.normal(0,1, loaded_features.shape)\n",
    "        loaded_features = np.concatenate([loaded_features, loaded_features+noise])\n",
    "        loaded_labels = np.concatenate([loaded_labels, loaded_labels])\n",
    "        \n",
    "        print(\"New Features: \", loaded_features.shape, loaded_labels.shape)\n",
    "        if k > 0:\n",
    "            features = np.concatenate((features, loaded_features))\n",
    "            labels = np.concatenate((labels, loaded_labels))\n",
    "        else:\n",
    "            features = loaded_features\n",
    "            labels = loaded_labels\n",
    "    return features, labels\n",
    "\n",
    "train_x, train_y = add_folds(data_dir)\n",
    "\n",
    "# use a fold for train-dev\n",
    "valid_fold_name = f'{fold_prefix}7'\n",
    "feature_file = os.path.join(data_dir, valid_fold_name + '_x.npy')\n",
    "labels_file = os.path.join(data_dir, valid_fold_name + '_y.npy')\n",
    "train_dev_x = np.load(feature_file)\n",
    "train_dev_y = np.load(labels_file) \n",
    "\n",
    "# use a fold for dev\n",
    "valid_fold_name = f'{fold_prefix}8'\n",
    "feature_file = os.path.join(data_dir, valid_fold_name + '_x.npy')\n",
    "labels_file = os.path.join(data_dir, valid_fold_name + '_y.npy')\n",
    "dev_x = np.load(feature_file)\n",
    "dev_y = np.load(labels_file) \n",
    "\n",
    "# and a fold for testing\n",
    "test_fold_name = f'{fold_prefix}9'\n",
    "feature_file = os.path.join(data_dir, test_fold_name + '_x.npy')\n",
    "labels_file = os.path.join(data_dir, test_fold_name + '_y.npy')\n",
    "test_x = np.load(feature_file)\n",
    "test_y = np.load(labels_file)\n",
    "\n",
    "\n",
    "# encode\n",
    "train_y = to_categorical(train_y)\n",
    "train_dev_y = to_categorical(train_dev_y)\n",
    "dev_y = to_categorical(dev_y)\n",
    "test_y = to_categorical(test_y)\n",
    "\n",
    "# train_x = np.expand_dims(np.asarray(train_x), axis=3)\n",
    "# train_dev_x = np.expand_dims(np.asarray(train_dev_x), axis=3)\n",
    "# dev_x = np.expand_dims(np.asarray(dev_x), axis=3)\n",
    "# test_x = np.expand_dims(np.asarray(test_x), axis=3)\n",
    "\n",
    "# trim data\n",
    "# last = min([len(train_x), len(train_dev_x), len(dev_x), len(test_x)])\n",
    "# train_dev_x, train_dev_y = train_dev_x, train_dev_y\n",
    "# dev_x, dev_y = dev_x[:last], dev_y[:last]\n",
    "# test_x, test_y = test_x[:last], test_y[:last]\n",
    "\n",
    "print(f\"\\nTraining Set: {train_x.shape}, Labels: {train_y.shape}\")\n",
    "print(f\"Train-dev Set: {train_dev_x.shape}, Labels: {train_dev_y.shape}\")\n",
    "print(f\"Dev Set: {dev_x.shape}, Labels: {dev_y.shape}\")\n",
    "print(f\"Test Set: {test_x.shape}, Labels: {test_y.shape}\")\n"
   ]
  },
  {
   "cell_type": "code",
   "execution_count": 16,
   "metadata": {},
   "outputs": [],
   "source": [
    "tf.set_random_seed(0)\n",
    "np.random.seed(0)\n",
    "\n",
    "from keras.models import Sequential\n",
    "from keras.layers import Dense, Dropout, Activation, Flatten\n",
    "from keras.layers import Conv1D, Conv2D, MaxPool1D, MaxPool2D, MaxPooling1D\n",
    "from keras.layers.normalization import BatchNormalization\n",
    "from keras.optimizers import SGD, Adam\n",
    "from keras.callbacks import EarlyStopping\n",
    "from keras.metrics import categorical_accuracy\n",
    "from sklearn.metrics import precision_recall_fscore_support, roc_auc_score\n",
    "from keras.regularizers import l2\n",
    "from keras.utils import np_utils\n",
    "from librosa.util import fix_length\n",
    "\n",
    "bands = 50\n",
    "frames = 1077\n",
    "feature_size = bands * frames\n",
    "num_labels = len(most_freq_egs)\n",
    "input_shape = (bands, frames)\n",
    "# input_shape=(bands, frames, num_channels) # if have delta num_channels = 1\n",
    "\n",
    "\n",
    "def build_model():\n",
    "    model = Sequential()\n",
    "    kernel = (3, 3)\n",
    "    model.add(Conv2D(32, kernel, activation='relu', input_shape=(50, 44, 1)))\n",
    "    model.add(BatchNormalization())\n",
    "    model.add(MaxPool2D())\n",
    "    model.add(Conv2D(64, kernel, activation='relu'))\n",
    "    model.add(BatchNormalization())\n",
    "    model.add(MaxPool2D())\n",
    "    model.add(Dropout(0.5))\n",
    "    model.add(Flatten())\n",
    "    model.add(Dense(256, activation='relu', kernel_regularizer=l2(0.001)))\n",
    "    model.add(Dropout(0.5))\n",
    "    model.add(Dense(num_labels, activation='softmax', kernel_regularizer=l2(0.001)))\n",
    "    model.compile(loss='categorical_crossentropy', metrics=['accuracy'], optimizer='adam')\n",
    "\n",
    "    return model\n",
    "print(\"Building model...\")\n",
    "model = build_model()\n",
    "model.summary()\n"
   ]
  },
  {
   "cell_type": "code",
   "execution_count": 89,
   "metadata": {
    "scrolled": false
   },
   "outputs": [
    {
     "name": "stdout",
     "output_type": "stream",
     "text": [
      "Training model...\n",
      "Train on 35865 samples, validate on 2391 samples\n",
      "Epoch 1/30\n",
      "35865/35865 [==============================] - 380s 11ms/step - loss: 1.3561 - acc: 0.5451 - val_loss: 0.9240 - val_acc: 0.7445\n",
      "Epoch 2/30\n",
      "35865/35865 [==============================] - 361s 10ms/step - loss: 1.0167 - acc: 0.6964 - val_loss: 0.8845 - val_acc: 0.7946\n",
      "Epoch 3/30\n",
      "35865/35865 [==============================] - 369s 10ms/step - loss: 0.9707 - acc: 0.7491 - val_loss: 0.8505 - val_acc: 0.8243\n",
      "Epoch 4/30\n",
      "35865/35865 [==============================] - 347s 10ms/step - loss: 0.9536 - acc: 0.7765 - val_loss: 0.9159 - val_acc: 0.8114\n",
      "Epoch 5/30\n",
      "35865/35865 [==============================] - 346s 10ms/step - loss: 0.9468 - acc: 0.7967 - val_loss: 0.8467 - val_acc: 0.8545\n",
      "Epoch 6/30\n",
      "35865/35865 [==============================] - 351s 10ms/step - loss: 0.9170 - acc: 0.8136 - val_loss: 0.7990 - val_acc: 0.8653\n",
      "Epoch 7/30\n",
      "35865/35865 [==============================] - 357s 10ms/step - loss: 0.9160 - acc: 0.8157 - val_loss: 0.8489 - val_acc: 0.8578\n",
      "Epoch 8/30\n",
      "35865/35865 [==============================] - 344s 10ms/step - loss: 0.9003 - acc: 0.8255 - val_loss: 0.8266 - val_acc: 0.8657\n",
      "Epoch 9/30\n",
      "35865/35865 [==============================] - 345s 10ms/step - loss: 0.8946 - acc: 0.8316 - val_loss: 0.8292 - val_acc: 0.8674\n",
      "Epoch 10/30\n",
      "35865/35865 [==============================] - 357s 10ms/step - loss: 0.8875 - acc: 0.8364 - val_loss: 0.8296 - val_acc: 0.8645\n",
      "Epoch 11/30\n",
      "35865/35865 [==============================] - 335s 9ms/step - loss: 0.8881 - acc: 0.8400 - val_loss: 0.8590 - val_acc: 0.8666\n",
      "Epoch 12/30\n",
      "35865/35865 [==============================] - 348s 10ms/step - loss: 0.8749 - acc: 0.8472 - val_loss: 0.8364 - val_acc: 0.8666\n",
      "Epoch 13/30\n",
      "35865/35865 [==============================] - 340s 9ms/step - loss: 0.8690 - acc: 0.8481 - val_loss: 0.8284 - val_acc: 0.8729\n",
      "Epoch 14/30\n",
      "35865/35865 [==============================] - 313s 9ms/step - loss: 0.8649 - acc: 0.8486 - val_loss: 0.7998 - val_acc: 0.8787\n",
      "Epoch 15/30\n",
      "35865/35865 [==============================] - 314s 9ms/step - loss: 0.8594 - acc: 0.8538 - val_loss: 0.8210 - val_acc: 0.8766\n",
      "Epoch 16/30\n",
      "35865/35865 [==============================] - 1062s 30ms/step - loss: 0.8654 - acc: 0.8512 - val_loss: 0.8031 - val_acc: 0.8837\n",
      "Epoch 00016: early stopping\n"
     ]
    }
   ],
   "source": [
    "print(\"Training model...\")\n",
    "earlystop = EarlyStopping(monitor='val_loss', patience=10, verbose=1, mode='auto')\n",
    "train_plus_dev_x = np.concatenate([train_x, train_dev_x])\n",
    "train_plus_dev_y = np.concatenate([train_y, train_dev_y])\n",
    "\n",
    "history = model.fit(train_plus_dev_x.reshape(train_plus_dev_x.shape[0], train_plus_dev_x.shape[1], train_plus_dev_x.shape[2], 1), \n",
    "                    train_plus_dev_y, \n",
    "                    validation_data=(dev_x.reshape(dev_x.shape[0], dev_x.shape[1], dev_x.shape[2], 1), dev_y), \n",
    "                    callbacks=[earlystop], \n",
    "                    epochs=30)"
   ]
  },
  {
   "cell_type": "markdown",
   "metadata": {},
   "source": [
    "# K-fold cross validation"
   ]
  },
  {
   "cell_type": "code",
   "execution_count": null,
   "metadata": {
    "scrolled": true
   },
   "outputs": [],
   "source": [
    "from keras.wrappers.scikit_learn import KerasClassifier\n",
    "from sklearn.model_selection import cross_val_score\n",
    "from sklearn.model_selection import KFold\n",
    "\n",
    "num_splits=3\n",
    "cnn_estimator = KerasClassifier(build_fn=build_model, epochs=15, batch_size=50, verbose=1)\n",
    "kfold = KFold(n_splits=num_splits, shuffle=True, random_state=1)\n",
    "results = cross_val_score(cnn_estimator, train_x, train_y, cv=kfold)\n",
    "print(\"{num_splits}-fold xval accuracy: %.2f%% (%.2f%%)\" % (results.mean()*100, results.std()*100))"
   ]
  },
  {
   "cell_type": "markdown",
   "metadata": {},
   "source": [
    "## Examine Predictions"
   ]
  },
  {
   "cell_type": "code",
   "execution_count": 94,
   "metadata": {},
   "outputs": [
    {
     "name": "stdout",
     "output_type": "stream",
     "text": [
      "Evaluating model...\n",
      "[[  9.78253186e-01   9.09804832e-03   1.26486756e-02]\n",
      " [  1.15282424e-01   2.03640724e-04   8.84513915e-01]\n",
      " [  4.24409099e-02   9.28096831e-01   2.94622798e-02]\n",
      " ..., \n",
      " [  1.72903836e-01   1.71733633e-01   6.55362546e-01]\n",
      " [  9.98915911e-01   3.84449922e-05   1.04562344e-03]\n",
      " [  9.92564678e-01   9.95351467e-04   6.43992983e-03]]\n",
      "pred: [0 2 1 0 1 0 1 2 1 1 1 0 0 0 0 2 1 2 1 1 2 2 1 2 2 2 0 0 1 0 1 1 1 1 2 0 2\n",
      " 2 2 0 0 0 2 1 2 2 0 0 1 2 0 1 0 1 2 2 2 0 1 2 0 2 2 2 2 2 0 0 2 1 2 2 2 2\n",
      " 2 1 2 0 2 1 2 2 0 2 2 2 2 1 0 1 2 2 0 1 2 1 2 0 1 1]\n",
      "test: [0 2 1 2 1 0 1 2 1 1 1 0 0 0 0 2 1 2 1 1 2 2 1 0 2 1 2 0 1 0 1 1 1 1 2 0 2\n",
      " 2 2 0 0 0 0 1 2 2 0 2 1 2 0 1 0 1 2 2 0 0 1 2 0 2 0 2 2 2 0 0 2 1 2 2 2 2\n",
      " 2 1 2 0 2 1 2 2 0 2 2 2 2 1 0 1 2 2 0 1 2 1 2 0 1 1]\n",
      "2391/2391 [==============================] - 10s 4ms/step\n",
      "Accuracy = 0.88\n"
     ]
    }
   ],
   "source": [
    "from sklearn.metrics import roc_auc_score\n",
    "\n",
    "def evaluate(model):\n",
    "    y_prob = model.predict_proba(test_x.reshape(test_x.shape[0], test_x.shape[1], test_x.shape[2], 1), verbose=0)\n",
    "    print(y_prob)\n",
    "    y_pred = model.predict(test_x.reshape(test_x.shape[0], test_x.shape[1], test_x.shape[2], 1))\n",
    "    print(f'pred: {np.argmax(y_pred[:100],axis=1)}')\n",
    "    y_true = np.argmax(test_y)\n",
    "    print(f'test: {np.argmax(test_y[:100],axis=1)}')\n",
    "\n",
    "    # evaluate the model\n",
    "    score, accuracy = model.evaluate(test_x.reshape(test_x.shape[0], test_x.shape[1], test_x.shape[2], 1), test_y)\n",
    "    print(\"Accuracy = {:.2f}\".format(accuracy))\n",
    "    \n",
    "    return accuracy\n",
    "\n",
    "# now evaluate the trained model against the unseen test data\n",
    "print(\"Evaluating model...\")\n",
    "acc = evaluate(model)\n"
   ]
  },
  {
   "cell_type": "code",
   "execution_count": 95,
   "metadata": {},
   "outputs": [
    {
     "name": "stdout",
     "output_type": "stream",
     "text": [
      "dict_keys(['val_loss', 'val_acc', 'loss', 'acc'])\n"
     ]
    },
    {
     "data": {
      "image/png": "[encoded data removed]",
      "text/plain": [
       "<matplotlib.figure.Figure at 0x1487f19e8>"
      ]
     },
     "metadata": {},
     "output_type": "display_data"
    },
    {
     "data": {
      "image/png": "[encoded data removed]",
      "text/plain": [
       "<matplotlib.figure.Figure at 0x148819ba8>"
      ]
     },
     "metadata": {},
     "output_type": "display_data"
    }
   ],
   "source": [
    "# import matplotlib.pyplot as plt\n",
    "print(history.history.keys())\n",
    "acc = history.history['acc']\n",
    "val_acc = history.history['val_acc']\n",
    "loss = history.history['loss']\n",
    "val_loss = history.history['val_loss']\n",
    "\n",
    "epochs = range(len(acc))\n",
    "\n",
    "plt.plot(epochs, acc, label='Training acc')\n",
    "plt.plot(epochs, val_acc, label='Validation acc')\n",
    "plt.title('Training and validation accuracy')\n",
    "plt.legend()\n",
    "\n",
    "plt.figure()\n",
    "\n",
    "plt.plot(epochs, loss, label='Training loss')\n",
    "plt.plot(epochs, val_loss, label='Validation loss')\n",
    "plt.title('Training and validation loss')\n",
    "plt.legend()\n",
    "\n",
    "plt.show()"
   ]
  },
  {
   "cell_type": "code",
   "execution_count": 75,
   "metadata": {},
   "outputs": [
    {
     "ename": "NameError",
     "evalue": "name 'model' is not defined",
     "output_type": "error",
     "traceback": [
      "\u001b[0;31m---------------------------------------------------------------------------\u001b[0m",
      "\u001b[0;31mNameError\u001b[0m                                 Traceback (most recent call last)",
      "\u001b[0;32m<ipython-input-75-3dbf92632e1f>\u001b[0m in \u001b[0;36m<module>\u001b[0;34m()\u001b[0m\n\u001b[0;32m----> 1\u001b[0;31m \u001b[0mcnnmodel\u001b[0m \u001b[0;34m=\u001b[0m \u001b[0mmodel\u001b[0m\u001b[0;34m\u001b[0m\u001b[0m\n\u001b[0m",
      "\u001b[0;31mNameError\u001b[0m: name 'model' is not defined"
     ]
    }
   ],
   "source": [
    "cnnmodel = model"
   ]
  },
  {
   "cell_type": "markdown",
   "metadata": {},
   "source": [
    "# Error Analysis\n",
    "Noise got extracted as a segment"
   ]
  },
  {
   "cell_type": "code",
   "execution_count": 77,
   "metadata": {},
   "outputs": [
    {
     "data": {
      "text/plain": [
       "'KO'"
      ]
     },
     "execution_count": 77,
     "metadata": {},
     "output_type": "execute_result"
    }
   ],
   "source": [
    "mistake_file = 'data/SC-word-segments/EN/SC_W_ENF_17_EN-101.16-101.34.wav'\n",
    "y, sr = librosa.load(mistake_file)\n",
    "y = librosa.util.fix_length(y, 22050)\n",
    "mfccs = librosa.feature.mfcc(y=y, sr=22050, n_mfcc=50)\n",
    "x_mistake = np.array([mfccs])\n",
    "x_mistake = np.expand_dims(np.asarray(x_mistake), axis=3)\n",
    "y_m_pred = cnnmodel.predict(x_mistake.reshape(x_mistake.shape[0], x_mistake.shape[1]*x_mistake.shape[2]))\n",
    "y_m_pred_c = le.classes_[np.argmax(y_m_pred)]\n",
    "y_m_pred_c"
   ]
  },
  {
   "cell_type": "markdown",
   "metadata": {},
   "source": [
    "# RNN"
   ]
  },
  {
   "cell_type": "code",
   "execution_count": 71,
   "metadata": {},
   "outputs": [
    {
     "name": "stdout",
     "output_type": "stream",
     "text": [
      "Building model...\n",
      "_________________________________________________________________\n",
      "Layer (type)                 Output Shape              Param #   \n",
      "=================================================================\n",
      "lstm_10 (LSTM)               (None, 128)               88576     \n",
      "_________________________________________________________________\n",
      "dense_59 (Dense)             (None, 3)                 387       \n",
      "=================================================================\n",
      "Total params: 88,963\n",
      "Trainable params: 88,963\n",
      "Non-trainable params: 0\n",
      "_________________________________________________________________\n"
     ]
    }
   ],
   "source": [
    "from keras.models import Sequential\n",
    "from keras.layers import Dense, Dropout, Activation, Flatten, LSTM, GRU\n",
    "from keras.layers import Conv1D, Conv2D, MaxPool1D, MaxPool2D, MaxPooling1D\n",
    "from keras.layers.normalization import BatchNormalization\n",
    "from keras.optimizers import SGD, Adam\n",
    "from keras.callbacks import EarlyStopping\n",
    "from keras.metrics import categorical_accuracy\n",
    "from sklearn.metrics import precision_recall_fscore_support, roc_auc_score\n",
    "from keras.regularizers import l2\n",
    "from keras.utils import np_utils\n",
    "from librosa.util import fix_length\n",
    "\n",
    "def rnn_model():        \n",
    "    model = Sequential()\n",
    "    model.add(LSTM(128, dropout=0.2, recurrent_dropout=0.2, input_shape=(50, 44)))\n",
    "    model.add(Dense(num_labels, activation='softmax'))\n",
    "    model.compile(optimizer='adam', loss='categorical_crossentropy', metrics=['acc'])\n",
    "    return model\n",
    "\n",
    "print(\"Building model...\")\n",
    "rnnmodel = rnn_model()\n",
    "rnnmodel.summary()\n"
   ]
  },
  {
   "cell_type": "code",
   "execution_count": 72,
   "metadata": {},
   "outputs": [
    {
     "name": "stdout",
     "output_type": "stream",
     "text": [
      "Training model...\n",
      "Train on 35865 samples, validate on 2391 samples\n",
      "Epoch 1/30\n",
      "35865/35865 [==============================] - 56s 2ms/step - loss: 1.0809 - acc: 0.4189 - val_loss: 1.0344 - val_acc: 0.4496\n",
      "Epoch 2/30\n",
      "35865/35865 [==============================] - 54s 2ms/step - loss: 1.0200 - acc: 0.4746 - val_loss: 1.0120 - val_acc: 0.4772\n",
      "Epoch 3/30\n",
      "35865/35865 [==============================] - 48s 1ms/step - loss: 0.9940 - acc: 0.4975 - val_loss: 0.9950 - val_acc: 0.4956\n",
      "Epoch 4/30\n",
      "35865/35865 [==============================] - 46s 1ms/step - loss: 0.9693 - acc: 0.5221 - val_loss: 0.9756 - val_acc: 0.5140\n",
      "Epoch 5/30\n",
      "35865/35865 [==============================] - 46s 1ms/step - loss: 0.9453 - acc: 0.5422 - val_loss: 0.9545 - val_acc: 0.5341\n",
      "Epoch 6/30\n",
      "35865/35865 [==============================] - 46s 1ms/step - loss: 0.9261 - acc: 0.5588 - val_loss: 0.9357 - val_acc: 0.5412\n",
      "Epoch 7/30\n",
      "35865/35865 [==============================] - 55s 2ms/step - loss: 0.9058 - acc: 0.5731 - val_loss: 0.9321 - val_acc: 0.5508\n",
      "Epoch 8/30\n",
      "35865/35865 [==============================] - 49s 1ms/step - loss: 0.8907 - acc: 0.5832 - val_loss: 0.9229 - val_acc: 0.5638\n",
      "Epoch 9/30\n",
      "35865/35865 [==============================] - 47s 1ms/step - loss: 0.8710 - acc: 0.5960 - val_loss: 0.9143 - val_acc: 0.5713\n",
      "Epoch 10/30\n",
      "35865/35865 [==============================] - 44s 1ms/step - loss: 0.8577 - acc: 0.6035 - val_loss: 0.9102 - val_acc: 0.5843\n",
      "Epoch 11/30\n",
      "35865/35865 [==============================] - 42s 1ms/step - loss: 0.8409 - acc: 0.6153 - val_loss: 0.9066 - val_acc: 0.5759\n",
      "Epoch 12/30\n",
      "35865/35865 [==============================] - 45s 1ms/step - loss: 0.8266 - acc: 0.6229 - val_loss: 0.9059 - val_acc: 0.5872\n",
      "Epoch 13/30\n",
      "35865/35865 [==============================] - 50s 1ms/step - loss: 0.8169 - acc: 0.6293 - val_loss: 0.9038 - val_acc: 0.5918\n",
      "Epoch 14/30\n",
      "35865/35865 [==============================] - 44s 1ms/step - loss: 0.8045 - acc: 0.6361 - val_loss: 0.9041 - val_acc: 0.5960\n",
      "Epoch 15/30\n",
      "35865/35865 [==============================] - 53s 1ms/step - loss: 0.7950 - acc: 0.6420 - val_loss: 0.8957 - val_acc: 0.5989\n",
      "Epoch 16/30\n",
      "35865/35865 [==============================] - 53s 1ms/step - loss: 0.7853 - acc: 0.6491 - val_loss: 0.8994 - val_acc: 0.5868\n",
      "Epoch 17/30\n",
      "35865/35865 [==============================] - 48s 1ms/step - loss: 0.7749 - acc: 0.6517 - val_loss: 0.8931 - val_acc: 0.5972\n",
      "Epoch 18/30\n",
      "35865/35865 [==============================] - 51s 1ms/step - loss: 0.7641 - acc: 0.6598 - val_loss: 0.8960 - val_acc: 0.5943\n",
      "Epoch 19/30\n",
      "35840/35865 [============================>.] - ETA: 0s - loss: 0.7545 - acc: 0.6669"
     ]
    },
    {
     "ename": "KeyboardInterrupt",
     "evalue": "",
     "output_type": "error",
     "traceback": [
      "\u001b[0;31m---------------------------------------------------------------------------\u001b[0m",
      "\u001b[0;31mKeyboardInterrupt\u001b[0m                         Traceback (most recent call last)",
      "\u001b[0;32m<ipython-input-72-0e88eda4d587>\u001b[0m in \u001b[0;36m<module>\u001b[0;34m()\u001b[0m\n\u001b[1;32m      6\u001b[0m                     \u001b[0mcallbacks\u001b[0m\u001b[0;34m=\u001b[0m\u001b[0;34m[\u001b[0m\u001b[0mearlystop\u001b[0m\u001b[0;34m]\u001b[0m\u001b[0;34m,\u001b[0m\u001b[0;34m\u001b[0m\u001b[0m\n\u001b[1;32m      7\u001b[0m                     \u001b[0mbatch_size\u001b[0m\u001b[0;34m=\u001b[0m\u001b[0;36m1024\u001b[0m\u001b[0;34m,\u001b[0m\u001b[0;34m\u001b[0m\u001b[0m\n\u001b[0;32m----> 8\u001b[0;31m                     epochs=30)\n\u001b[0m",
      "\u001b[0;32m/usr/local/lib/python3.6/site-packages/keras/models.py\u001b[0m in \u001b[0;36mfit\u001b[0;34m(self, x, y, batch_size, epochs, verbose, callbacks, validation_split, validation_data, shuffle, class_weight, sample_weight, initial_epoch, steps_per_epoch, validation_steps, **kwargs)\u001b[0m\n\u001b[1;32m    958\u001b[0m                               \u001b[0minitial_epoch\u001b[0m\u001b[0;34m=\u001b[0m\u001b[0minitial_epoch\u001b[0m\u001b[0;34m,\u001b[0m\u001b[0;34m\u001b[0m\u001b[0m\n\u001b[1;32m    959\u001b[0m                               \u001b[0msteps_per_epoch\u001b[0m\u001b[0;34m=\u001b[0m\u001b[0msteps_per_epoch\u001b[0m\u001b[0;34m,\u001b[0m\u001b[0;34m\u001b[0m\u001b[0m\n\u001b[0;32m--> 960\u001b[0;31m                               validation_steps=validation_steps)\n\u001b[0m\u001b[1;32m    961\u001b[0m \u001b[0;34m\u001b[0m\u001b[0m\n\u001b[1;32m    962\u001b[0m     def evaluate(self, x, y, batch_size=32, verbose=1,\n",
      "\u001b[0;32m/usr/local/lib/python3.6/site-packages/keras/engine/training.py\u001b[0m in \u001b[0;36mfit\u001b[0;34m(self, x, y, batch_size, epochs, verbose, callbacks, validation_split, validation_data, shuffle, class_weight, sample_weight, initial_epoch, steps_per_epoch, validation_steps, **kwargs)\u001b[0m\n\u001b[1;32m   1655\u001b[0m                               \u001b[0minitial_epoch\u001b[0m\u001b[0;34m=\u001b[0m\u001b[0minitial_epoch\u001b[0m\u001b[0;34m,\u001b[0m\u001b[0;34m\u001b[0m\u001b[0m\n\u001b[1;32m   1656\u001b[0m                               \u001b[0msteps_per_epoch\u001b[0m\u001b[0;34m=\u001b[0m\u001b[0msteps_per_epoch\u001b[0m\u001b[0;34m,\u001b[0m\u001b[0;34m\u001b[0m\u001b[0m\n\u001b[0;32m-> 1657\u001b[0;31m                               validation_steps=validation_steps)\n\u001b[0m\u001b[1;32m   1658\u001b[0m \u001b[0;34m\u001b[0m\u001b[0m\n\u001b[1;32m   1659\u001b[0m     def evaluate(self, x=None, y=None,\n",
      "\u001b[0;32m/usr/local/lib/python3.6/site-packages/keras/engine/training.py\u001b[0m in \u001b[0;36m_fit_loop\u001b[0;34m(self, f, ins, out_labels, batch_size, epochs, verbose, callbacks, val_f, val_ins, shuffle, callback_metrics, initial_epoch, steps_per_epoch, validation_steps)\u001b[0m\n\u001b[1;32m   1225\u001b[0m                             val_outs = self._test_loop(val_f, val_ins,\n\u001b[1;32m   1226\u001b[0m                                                        \u001b[0mbatch_size\u001b[0m\u001b[0;34m=\u001b[0m\u001b[0mbatch_size\u001b[0m\u001b[0;34m,\u001b[0m\u001b[0;34m\u001b[0m\u001b[0m\n\u001b[0;32m-> 1227\u001b[0;31m                                                        verbose=0)\n\u001b[0m\u001b[1;32m   1228\u001b[0m                             \u001b[0;32mif\u001b[0m \u001b[0;32mnot\u001b[0m \u001b[0misinstance\u001b[0m\u001b[0;34m(\u001b[0m\u001b[0mval_outs\u001b[0m\u001b[0;34m,\u001b[0m \u001b[0mlist\u001b[0m\u001b[0;34m)\u001b[0m\u001b[0;34m:\u001b[0m\u001b[0;34m\u001b[0m\u001b[0m\n\u001b[1;32m   1229\u001b[0m                                 \u001b[0mval_outs\u001b[0m \u001b[0;34m=\u001b[0m \u001b[0;34m[\u001b[0m\u001b[0mval_outs\u001b[0m\u001b[0;34m]\u001b[0m\u001b[0;34m\u001b[0m\u001b[0m\n",
      "\u001b[0;32m/usr/local/lib/python3.6/site-packages/keras/engine/training.py\u001b[0m in \u001b[0;36m_test_loop\u001b[0;34m(self, f, ins, batch_size, verbose, steps)\u001b[0m\n\u001b[1;32m   1368\u001b[0m                     \u001b[0mins_batch\u001b[0m \u001b[0;34m=\u001b[0m \u001b[0m_slice_arrays\u001b[0m\u001b[0;34m(\u001b[0m\u001b[0mins\u001b[0m\u001b[0;34m,\u001b[0m \u001b[0mbatch_ids\u001b[0m\u001b[0;34m)\u001b[0m\u001b[0;34m\u001b[0m\u001b[0m\n\u001b[1;32m   1369\u001b[0m \u001b[0;34m\u001b[0m\u001b[0m\n\u001b[0;32m-> 1370\u001b[0;31m                 \u001b[0mbatch_outs\u001b[0m \u001b[0;34m=\u001b[0m \u001b[0mf\u001b[0m\u001b[0;34m(\u001b[0m\u001b[0mins_batch\u001b[0m\u001b[0;34m)\u001b[0m\u001b[0;34m\u001b[0m\u001b[0m\n\u001b[0m\u001b[1;32m   1371\u001b[0m                 \u001b[0;32mif\u001b[0m \u001b[0misinstance\u001b[0m\u001b[0;34m(\u001b[0m\u001b[0mbatch_outs\u001b[0m\u001b[0;34m,\u001b[0m \u001b[0mlist\u001b[0m\u001b[0;34m)\u001b[0m\u001b[0;34m:\u001b[0m\u001b[0;34m\u001b[0m\u001b[0m\n\u001b[1;32m   1372\u001b[0m                     \u001b[0;32mif\u001b[0m \u001b[0mbatch_index\u001b[0m \u001b[0;34m==\u001b[0m \u001b[0;36m0\u001b[0m\u001b[0;34m:\u001b[0m\u001b[0;34m\u001b[0m\u001b[0m\n",
      "\u001b[0;32m/usr/local/lib/python3.6/site-packages/keras/backend/tensorflow_backend.py\u001b[0m in \u001b[0;36m__call__\u001b[0;34m(self, inputs)\u001b[0m\n\u001b[1;32m   2355\u001b[0m         \u001b[0msession\u001b[0m \u001b[0;34m=\u001b[0m \u001b[0mget_session\u001b[0m\u001b[0;34m(\u001b[0m\u001b[0;34m)\u001b[0m\u001b[0;34m\u001b[0m\u001b[0m\n\u001b[1;32m   2356\u001b[0m         updated = session.run(fetches=fetches, feed_dict=feed_dict,\n\u001b[0;32m-> 2357\u001b[0;31m                               **self.session_kwargs)\n\u001b[0m\u001b[1;32m   2358\u001b[0m         \u001b[0;32mreturn\u001b[0m \u001b[0mupdated\u001b[0m\u001b[0;34m[\u001b[0m\u001b[0;34m:\u001b[0m\u001b[0mlen\u001b[0m\u001b[0;34m(\u001b[0m\u001b[0mself\u001b[0m\u001b[0;34m.\u001b[0m\u001b[0moutputs\u001b[0m\u001b[0;34m)\u001b[0m\u001b[0;34m]\u001b[0m\u001b[0;34m\u001b[0m\u001b[0m\n\u001b[1;32m   2359\u001b[0m \u001b[0;34m\u001b[0m\u001b[0m\n",
      "\u001b[0;32m/usr/local/lib/python3.6/site-packages/tensorflow/python/client/session.py\u001b[0m in \u001b[0;36mrun\u001b[0;34m(self, fetches, feed_dict, options, run_metadata)\u001b[0m\n\u001b[1;32m    887\u001b[0m     \u001b[0;32mtry\u001b[0m\u001b[0;34m:\u001b[0m\u001b[0;34m\u001b[0m\u001b[0m\n\u001b[1;32m    888\u001b[0m       result = self._run(None, fetches, feed_dict, options_ptr,\n\u001b[0;32m--> 889\u001b[0;31m                          run_metadata_ptr)\n\u001b[0m\u001b[1;32m    890\u001b[0m       \u001b[0;32mif\u001b[0m \u001b[0mrun_metadata\u001b[0m\u001b[0;34m:\u001b[0m\u001b[0;34m\u001b[0m\u001b[0m\n\u001b[1;32m    891\u001b[0m         \u001b[0mproto_data\u001b[0m \u001b[0;34m=\u001b[0m \u001b[0mtf_session\u001b[0m\u001b[0;34m.\u001b[0m\u001b[0mTF_GetBuffer\u001b[0m\u001b[0;34m(\u001b[0m\u001b[0mrun_metadata_ptr\u001b[0m\u001b[0;34m)\u001b[0m\u001b[0;34m\u001b[0m\u001b[0m\n",
      "\u001b[0;32m/usr/local/lib/python3.6/site-packages/tensorflow/python/client/session.py\u001b[0m in \u001b[0;36m_run\u001b[0;34m(self, handle, fetches, feed_dict, options, run_metadata)\u001b[0m\n\u001b[1;32m   1118\u001b[0m     \u001b[0;32mif\u001b[0m \u001b[0mfinal_fetches\u001b[0m \u001b[0;32mor\u001b[0m \u001b[0mfinal_targets\u001b[0m \u001b[0;32mor\u001b[0m \u001b[0;34m(\u001b[0m\u001b[0mhandle\u001b[0m \u001b[0;32mand\u001b[0m \u001b[0mfeed_dict_tensor\u001b[0m\u001b[0;34m)\u001b[0m\u001b[0;34m:\u001b[0m\u001b[0;34m\u001b[0m\u001b[0m\n\u001b[1;32m   1119\u001b[0m       results = self._do_run(handle, final_targets, final_fetches,\n\u001b[0;32m-> 1120\u001b[0;31m                              feed_dict_tensor, options, run_metadata)\n\u001b[0m\u001b[1;32m   1121\u001b[0m     \u001b[0;32melse\u001b[0m\u001b[0;34m:\u001b[0m\u001b[0;34m\u001b[0m\u001b[0m\n\u001b[1;32m   1122\u001b[0m       \u001b[0mresults\u001b[0m \u001b[0;34m=\u001b[0m \u001b[0;34m[\u001b[0m\u001b[0;34m]\u001b[0m\u001b[0;34m\u001b[0m\u001b[0m\n",
      "\u001b[0;32m/usr/local/lib/python3.6/site-packages/tensorflow/python/client/session.py\u001b[0m in \u001b[0;36m_do_run\u001b[0;34m(self, handle, target_list, fetch_list, feed_dict, options, run_metadata)\u001b[0m\n\u001b[1;32m   1315\u001b[0m     \u001b[0;32mif\u001b[0m \u001b[0mhandle\u001b[0m \u001b[0;32mis\u001b[0m \u001b[0;32mNone\u001b[0m\u001b[0;34m:\u001b[0m\u001b[0;34m\u001b[0m\u001b[0m\n\u001b[1;32m   1316\u001b[0m       return self._do_call(_run_fn, self._session, feeds, fetches, targets,\n\u001b[0;32m-> 1317\u001b[0;31m                            options, run_metadata)\n\u001b[0m\u001b[1;32m   1318\u001b[0m     \u001b[0;32melse\u001b[0m\u001b[0;34m:\u001b[0m\u001b[0;34m\u001b[0m\u001b[0m\n\u001b[1;32m   1319\u001b[0m       \u001b[0;32mreturn\u001b[0m \u001b[0mself\u001b[0m\u001b[0;34m.\u001b[0m\u001b[0m_do_call\u001b[0m\u001b[0;34m(\u001b[0m\u001b[0m_prun_fn\u001b[0m\u001b[0;34m,\u001b[0m \u001b[0mself\u001b[0m\u001b[0;34m.\u001b[0m\u001b[0m_session\u001b[0m\u001b[0;34m,\u001b[0m \u001b[0mhandle\u001b[0m\u001b[0;34m,\u001b[0m \u001b[0mfeeds\u001b[0m\u001b[0;34m,\u001b[0m \u001b[0mfetches\u001b[0m\u001b[0;34m)\u001b[0m\u001b[0;34m\u001b[0m\u001b[0m\n",
      "\u001b[0;32m/usr/local/lib/python3.6/site-packages/tensorflow/python/client/session.py\u001b[0m in \u001b[0;36m_do_call\u001b[0;34m(self, fn, *args)\u001b[0m\n\u001b[1;32m   1321\u001b[0m   \u001b[0;32mdef\u001b[0m \u001b[0m_do_call\u001b[0m\u001b[0;34m(\u001b[0m\u001b[0mself\u001b[0m\u001b[0;34m,\u001b[0m \u001b[0mfn\u001b[0m\u001b[0;34m,\u001b[0m \u001b[0;34m*\u001b[0m\u001b[0margs\u001b[0m\u001b[0;34m)\u001b[0m\u001b[0;34m:\u001b[0m\u001b[0;34m\u001b[0m\u001b[0m\n\u001b[1;32m   1322\u001b[0m     \u001b[0;32mtry\u001b[0m\u001b[0;34m:\u001b[0m\u001b[0;34m\u001b[0m\u001b[0m\n\u001b[0;32m-> 1323\u001b[0;31m       \u001b[0;32mreturn\u001b[0m \u001b[0mfn\u001b[0m\u001b[0;34m(\u001b[0m\u001b[0;34m*\u001b[0m\u001b[0margs\u001b[0m\u001b[0;34m)\u001b[0m\u001b[0;34m\u001b[0m\u001b[0m\n\u001b[0m\u001b[1;32m   1324\u001b[0m     \u001b[0;32mexcept\u001b[0m \u001b[0merrors\u001b[0m\u001b[0;34m.\u001b[0m\u001b[0mOpError\u001b[0m \u001b[0;32mas\u001b[0m \u001b[0me\u001b[0m\u001b[0;34m:\u001b[0m\u001b[0;34m\u001b[0m\u001b[0m\n\u001b[1;32m   1325\u001b[0m       \u001b[0mmessage\u001b[0m \u001b[0;34m=\u001b[0m \u001b[0mcompat\u001b[0m\u001b[0;34m.\u001b[0m\u001b[0mas_text\u001b[0m\u001b[0;34m(\u001b[0m\u001b[0me\u001b[0m\u001b[0;34m.\u001b[0m\u001b[0mmessage\u001b[0m\u001b[0;34m)\u001b[0m\u001b[0;34m\u001b[0m\u001b[0m\n",
      "\u001b[0;32m/usr/local/lib/python3.6/site-packages/tensorflow/python/client/session.py\u001b[0m in \u001b[0;36m_run_fn\u001b[0;34m(session, feed_dict, fetch_list, target_list, options, run_metadata)\u001b[0m\n\u001b[1;32m   1300\u001b[0m           return tf_session.TF_Run(session, options,\n\u001b[1;32m   1301\u001b[0m                                    \u001b[0mfeed_dict\u001b[0m\u001b[0;34m,\u001b[0m \u001b[0mfetch_list\u001b[0m\u001b[0;34m,\u001b[0m \u001b[0mtarget_list\u001b[0m\u001b[0;34m,\u001b[0m\u001b[0;34m\u001b[0m\u001b[0m\n\u001b[0;32m-> 1302\u001b[0;31m                                    status, run_metadata)\n\u001b[0m\u001b[1;32m   1303\u001b[0m \u001b[0;34m\u001b[0m\u001b[0m\n\u001b[1;32m   1304\u001b[0m     \u001b[0;32mdef\u001b[0m \u001b[0m_prun_fn\u001b[0m\u001b[0;34m(\u001b[0m\u001b[0msession\u001b[0m\u001b[0;34m,\u001b[0m \u001b[0mhandle\u001b[0m\u001b[0;34m,\u001b[0m \u001b[0mfeed_dict\u001b[0m\u001b[0;34m,\u001b[0m \u001b[0mfetch_list\u001b[0m\u001b[0;34m)\u001b[0m\u001b[0;34m:\u001b[0m\u001b[0;34m\u001b[0m\u001b[0m\n",
      "\u001b[0;31mKeyboardInterrupt\u001b[0m: "
     ]
    }
   ],
   "source": [
    "print(\"Training model...\")\n",
    "earlystop = EarlyStopping(monitor='val_loss', patience=10, verbose=1, mode='auto')\n",
    "history = rnnmodel.fit(np.concatenate([train_x, train_dev_x]), \n",
    "                    np.concatenate([train_y, train_dev_y]), \n",
    "                    validation_data=(dev_x, dev_y), \n",
    "                    callbacks=[earlystop],\n",
    "                    batch_size=1024, \n",
    "                    epochs=30)"
   ]
  },
  {
   "cell_type": "code",
   "execution_count": 37,
   "metadata": {},
   "outputs": [
    {
     "name": "stdout",
     "output_type": "stream",
     "text": [
      "Evaluating model...\n",
      "[[ 0.35700294  0.04510209  0.59789503]\n",
      " [ 0.49178138  0.18662235  0.32159638]\n",
      " [ 0.42248237  0.38264278  0.19487485]\n",
      " ..., \n",
      " [ 0.3222174   0.05663912  0.62114346]\n",
      " [ 0.43648264  0.2678397   0.29567766]\n",
      " [ 0.4063268   0.41018021  0.18349297]]\n",
      "pred: [2 0 0 1 1 2 0 0 1 0 2 1 0 0 2 2 1 2 1 0 1 1 1 2 2 0 1 0 1 1 1 2 1 0 1 2 2\n",
      " 0 2 1 0 2 1 1 1 2 1 2 0 1 2 1 0 2 2 1 2 2 0 2 1 0 0 0 1 1 1 1 1 0 2 0 1 2\n",
      " 2 1 1 2 2 0 2 2 0 1 0 1 1 1 2 2 1 2 2 1 1 1 2 0 2 0]\n",
      "test: [0 2 1 2 1 0 1 2 1 1 1 0 0 0 0 2 1 2 1 1 2 2 1 0 2 1 2 0 1 0 1 1 1 1 2 0 2\n",
      " 2 2 0 0 0 0 1 2 2 0 2 1 2 0 1 0 1 2 2 0 0 1 2 0 2 0 2 2 2 0 0 2 1 2 2 2 2\n",
      " 2 1 2 0 2 1 2 2 0 2 2 2 2 1 0 1 2 2 0 1 2 1 2 0 1 1]\n",
      "2391/2391 [==============================] - 1s 360us/step\n",
      "Accuracy = 0.45\n"
     ]
    }
   ],
   "source": [
    "from sklearn.metrics import roc_auc_score\n",
    "\n",
    "def evaluate(model):\n",
    "    y_prob = model.predict_proba(test_x, verbose=0)\n",
    "    print(y_prob)\n",
    "    y_pred = model.predict(test_x)\n",
    "    print(f'pred: {np.argmax(y_pred[:100],axis=1)}')\n",
    "    y_true = np.argmax(test_y)\n",
    "    print(f'test: {np.argmax(test_y[:100],axis=1)}')\n",
    "\n",
    "    # evaluate the model\n",
    "    score, accuracy = model.evaluate(test_x, test_y)\n",
    "    print(\"Accuracy = {:.2f}\".format(accuracy))\n",
    "    \n",
    "    return accuracy\n",
    "\n",
    "# now evaluate the trained model against the unseen test data\n",
    "print(\"Evaluating model...\")\n",
    "acc = evaluate(rnnmodel)\n"
   ]
  },
  {
   "cell_type": "code",
   "execution_count": 27,
   "metadata": {},
   "outputs": [
    {
     "name": "stdout",
     "output_type": "stream",
     "text": [
      "dict_keys(['val_loss', 'val_acc', 'loss', 'acc'])\n"
     ]
    },
    {
     "data": {
      "image/png": "[encoded data removed]",
      "text/plain": [
       "<matplotlib.figure.Figure at 0x15362a940>"
      ]
     },
     "metadata": {},
     "output_type": "display_data"
    },
    {
     "data": {
      "image/png": "[encoded data removed]",
      "text/plain": [
       "<matplotlib.figure.Figure at 0x1535c1240>"
      ]
     },
     "metadata": {},
     "output_type": "display_data"
    }
   ],
   "source": [
    "# import matplotlib.pyplot as plt\n",
    "print(history.history.keys())\n",
    "acc = history.history['acc']\n",
    "val_acc = history.history['val_acc']\n",
    "loss = history.history['loss']\n",
    "val_loss = history.history['val_loss']\n",
    "\n",
    "epochs = range(len(acc))\n",
    "\n",
    "plt.plot(epochs, acc, label='Training acc')\n",
    "plt.plot(epochs, val_acc, label='Validation acc')\n",
    "plt.title('Training and validation accuracy')\n",
    "plt.legend()\n",
    "\n",
    "plt.figure()\n",
    "\n",
    "plt.plot(epochs, loss, label='Training loss')\n",
    "plt.plot(epochs, val_loss, label='Validation loss')\n",
    "plt.title('Training and validation loss')\n",
    "plt.legend()\n",
    "\n",
    "plt.show()"
   ]
  },
  {
   "cell_type": "code",
   "execution_count": 59,
   "metadata": {},
   "outputs": [
    {
     "name": "stdout",
     "output_type": "stream",
     "text": [
      "Building model...\n",
      "_________________________________________________________________\n",
      "Layer (type)                 Output Shape              Param #   \n",
      "=================================================================\n",
      "dense_49 (Dense)             (None, 128)               281728    \n",
      "_________________________________________________________________\n",
      "dropout_20 (Dropout)         (None, 128)               0         \n",
      "_________________________________________________________________\n",
      "dense_50 (Dense)             (None, 128)               16512     \n",
      "_________________________________________________________________\n",
      "dropout_21 (Dropout)         (None, 128)               0         \n",
      "_________________________________________________________________\n",
      "dense_51 (Dense)             (None, 128)               16512     \n",
      "_________________________________________________________________\n",
      "dropout_22 (Dropout)         (None, 128)               0         \n",
      "_________________________________________________________________\n",
      "dense_52 (Dense)             (None, 3)                 387       \n",
      "=================================================================\n",
      "Total params: 315,139\n",
      "Trainable params: 315,139\n",
      "Non-trainable params: 0\n",
      "_________________________________________________________________\n"
     ]
    }
   ],
   "source": [
    "def mlp_model():        \n",
    "    model = Sequential()\n",
    "    model.add(Dense(128, activation='relu', input_shape=(50*44,), kernel_regularizer=l2(0.001)))\n",
    "    model.add(Dropout(0.1))\n",
    "    model.add(Dense(128, activation='relu', kernel_regularizer=l2(0.001)))\n",
    "    model.add(Dropout(0.1))\n",
    "    model.add(Dense(128, activation='relu', kernel_regularizer=l2(0.001)))\n",
    "    model.add(Dropout(0.1))\n",
    "    model.add(Dense(num_labels, activation='softmax'))\n",
    "    model.compile(optimizer='adam', loss='categorical_crossentropy', metrics=['acc'])\n",
    "    return model\n",
    "\n",
    "print(\"Building model...\")\n",
    "mlpmodel = mlp_model()\n",
    "mlpmodel.summary()\n"
   ]
  },
  {
   "cell_type": "code",
   "execution_count": 60,
   "metadata": {
    "scrolled": true
   },
   "outputs": [
    {
     "name": "stdout",
     "output_type": "stream",
     "text": [
      "Training model...\n",
      "Train on 35865 samples, validate on 2391 samples\n",
      "Epoch 1/30\n",
      "35865/35865 [==============================] - 13s 376us/step - loss: 2.8714 - acc: 0.5069 - val_loss: 1.1994 - val_acc: 0.6240\n",
      "Epoch 2/30\n",
      "35865/35865 [==============================] - 12s 329us/step - loss: 1.0825 - acc: 0.6558 - val_loss: 0.9808 - val_acc: 0.6880\n",
      "Epoch 3/30\n",
      "35865/35865 [==============================] - 14s 402us/step - loss: 0.8894 - acc: 0.7215 - val_loss: 0.9041 - val_acc: 0.7056\n",
      "Epoch 4/30\n",
      "35865/35865 [==============================] - 14s 397us/step - loss: 0.7850 - acc: 0.7538 - val_loss: 0.8401 - val_acc: 0.7202\n",
      "Epoch 5/30\n",
      "35865/35865 [==============================] - 13s 370us/step - loss: 0.7339 - acc: 0.7689 - val_loss: 0.8244 - val_acc: 0.7407\n",
      "Epoch 6/30\n",
      "35865/35865 [==============================] - 15s 416us/step - loss: 0.6961 - acc: 0.7861 - val_loss: 0.8060 - val_acc: 0.7365\n",
      "Epoch 7/30\n",
      "35865/35865 [==============================] - 15s 425us/step - loss: 0.6693 - acc: 0.7922 - val_loss: 0.8140 - val_acc: 0.7353\n",
      "Epoch 8/30\n",
      "35865/35865 [==============================] - 15s 409us/step - loss: 0.6541 - acc: 0.7999 - val_loss: 0.7446 - val_acc: 0.7708\n",
      "Epoch 9/30\n",
      "35865/35865 [==============================] - 15s 416us/step - loss: 0.6463 - acc: 0.8025 - val_loss: 0.7736 - val_acc: 0.7407\n",
      "Epoch 10/30\n",
      "35865/35865 [==============================] - 15s 425us/step - loss: 0.6364 - acc: 0.8072 - val_loss: 0.7528 - val_acc: 0.7574\n",
      "Epoch 11/30\n",
      "35865/35865 [==============================] - 15s 430us/step - loss: 0.6274 - acc: 0.8109 - val_loss: 0.7542 - val_acc: 0.7687\n",
      "Epoch 12/30\n",
      "35865/35865 [==============================] - 15s 420us/step - loss: 0.6254 - acc: 0.8115 - val_loss: 0.7419 - val_acc: 0.7742\n",
      "Epoch 13/30\n",
      "35865/35865 [==============================] - 14s 387us/step - loss: 0.6181 - acc: 0.8149 - val_loss: 0.7114 - val_acc: 0.7863\n",
      "Epoch 14/30\n",
      "35865/35865 [==============================] - 14s 400us/step - loss: 0.6130 - acc: 0.8200 - val_loss: 0.7285 - val_acc: 0.7721\n",
      "Epoch 15/30\n",
      "35865/35865 [==============================] - 14s 385us/step - loss: 0.6080 - acc: 0.8218 - val_loss: 0.7212 - val_acc: 0.7758\n",
      "Epoch 16/30\n",
      "35865/35865 [==============================] - 18s 500us/step - loss: 0.6105 - acc: 0.8212 - val_loss: 0.7620 - val_acc: 0.7553\n",
      "Epoch 17/30\n",
      "35865/35865 [==============================] - 17s 471us/step - loss: 0.6044 - acc: 0.8210 - val_loss: 0.7545 - val_acc: 0.7658\n",
      "Epoch 18/30\n",
      "35865/35865 [==============================] - 14s 393us/step - loss: 0.6002 - acc: 0.8254 - val_loss: 0.7230 - val_acc: 0.7675\n",
      "Epoch 19/30\n",
      "35865/35865 [==============================] - 16s 443us/step - loss: 0.6052 - acc: 0.8208 - val_loss: 0.7477 - val_acc: 0.7666\n",
      "Epoch 20/30\n",
      "35865/35865 [==============================] - 14s 400us/step - loss: 0.6078 - acc: 0.8212 - val_loss: 0.7058 - val_acc: 0.7921\n",
      "Epoch 21/30\n",
      "35865/35865 [==============================] - 14s 378us/step - loss: 0.5961 - acc: 0.8262 - val_loss: 0.7314 - val_acc: 0.7750\n",
      "Epoch 22/30\n",
      "35865/35865 [==============================] - 15s 414us/step - loss: 0.5988 - acc: 0.8284 - val_loss: 0.7438 - val_acc: 0.7629\n",
      "Epoch 23/30\n",
      "35865/35865 [==============================] - 14s 396us/step - loss: 0.5944 - acc: 0.8299 - val_loss: 0.7719 - val_acc: 0.7616\n",
      "Epoch 24/30\n",
      "35865/35865 [==============================] - 15s 406us/step - loss: 0.5927 - acc: 0.8270 - val_loss: 0.7401 - val_acc: 0.7712\n",
      "Epoch 25/30\n",
      "35865/35865 [==============================] - 14s 393us/step - loss: 0.5873 - acc: 0.8322 - val_loss: 0.7417 - val_acc: 0.7545\n",
      "Epoch 26/30\n",
      "35865/35865 [==============================] - 14s 402us/step - loss: 0.5908 - acc: 0.8309 - val_loss: 0.7279 - val_acc: 0.7742\n",
      "Epoch 27/30\n",
      "35865/35865 [==============================] - 17s 463us/step - loss: 0.5955 - acc: 0.8260 - val_loss: 0.7140 - val_acc: 0.7783\n",
      "Epoch 28/30\n",
      "35865/35865 [==============================] - 15s 421us/step - loss: 0.5866 - acc: 0.8323 - val_loss: 0.7068 - val_acc: 0.7813\n",
      "Epoch 29/30\n",
      "35865/35865 [==============================] - 15s 415us/step - loss: 0.5881 - acc: 0.8304 - val_loss: 0.7352 - val_acc: 0.7817\n",
      "Epoch 30/30\n",
      "35865/35865 [==============================] - 16s 456us/step - loss: 0.5841 - acc: 0.8349 - val_loss: 0.7034 - val_acc: 0.7942\n"
     ]
    }
   ],
   "source": [
    "print(\"Training model...\")\n",
    "earlystop = EarlyStopping(monitor='val_loss', patience=10, verbose=1, mode='auto')\n",
    "\n",
    "true_train_x = np.concatenate([train_x, train_dev_x])\n",
    "true_train_y = np.concatenate([train_y, train_dev_y])\n",
    "history = mlpmodel.fit(true_train_x.reshape(true_train_x.shape[0], true_train_x.shape[1]*true_train_x.shape[2]), \n",
    "                    true_train_y, \n",
    "                    validation_data=(dev_x.reshape(dev_x.shape[0], dev_x.shape[1]*dev_x.shape[2]), dev_y), \n",
    "                    callbacks=[earlystop], \n",
    "                    shuffle=True,\n",
    "                    epochs=30)"
   ]
  },
  {
   "cell_type": "code",
   "execution_count": 61,
   "metadata": {},
   "outputs": [
    {
     "name": "stdout",
     "output_type": "stream",
     "text": [
      "Evaluating model...\n",
      "[[  1.61153264e-02   9.60743606e-01   2.31410451e-02]\n",
      " [  8.57988715e-01   3.59800360e-05   1.41975239e-01]\n",
      " [  5.51784132e-03   5.35130501e-01   4.59351689e-01]\n",
      " ..., \n",
      " [  1.61743715e-01   2.46548787e-01   5.91707528e-01]\n",
      " [  9.97423530e-01   3.96655305e-05   2.53678369e-03]\n",
      " [  9.87039149e-01   9.64461244e-04   1.19963977e-02]]\n",
      "pred: [1 0 1 2 1 0 1 2 1 1 1 0 0 0 0 2 1 2 1 1 2 1 1 2 2 2 0 0 1 0 1 1 1 1 2 0 2\n",
      " 2 2 0 0 0 0 1 2 0 0 0 1 2 1 1 0 1 2 2 0 2 1 2 0 2 2 2 2 2 0 2 2 1 2 2 2 2\n",
      " 2 1 2 0 2 1 2 2 0 2 2 2 2 2 2 1 0 0 0 1 1 1 2 0 1 1]\n",
      "test: [0 2 1 2 1 0 1 2 1 1 1 0 0 0 0 2 1 2 1 1 2 2 1 0 2 1 2 0 1 0 1 1 1 1 2 0 2\n",
      " 2 2 0 0 0 0 1 2 2 0 2 1 2 0 1 0 1 2 2 0 0 1 2 0 2 0 2 2 2 0 0 2 1 2 2 2 2\n",
      " 2 1 2 0 2 1 2 2 0 2 2 2 2 1 0 1 2 2 0 1 2 1 2 0 1 1]\n",
      "2391/2391 [==============================] - 0s 111us/step\n",
      "Accuracy = 0.80\n"
     ]
    }
   ],
   "source": [
    "from sklearn.metrics import roc_auc_score\n",
    "\n",
    "def evaluate(model):\n",
    "    y_prob = model.predict_proba(test_x.reshape(test_x.shape[0], test_x.shape[1]*test_x.shape[2]), verbose=0)\n",
    "    print(y_prob)\n",
    "    y_pred = model.predict(test_x.reshape(test_x.shape[0], test_x.shape[1]*test_x.shape[2]))\n",
    "    print(f'pred: {np.argmax(y_pred[:100],axis=1)}')\n",
    "    y_true = np.argmax(test_y)\n",
    "    print(f'test: {np.argmax(test_y[:100],axis=1)}')\n",
    "\n",
    "    # evaluate the model\n",
    "    score, accuracy = model.evaluate(test_x.reshape(test_x.shape[0], test_x.shape[1]*test_x.shape[2]), test_y)\n",
    "    print(\"Accuracy = {:.2f}\".format(accuracy))\n",
    "    \n",
    "    return accuracy\n",
    "\n",
    "# now evaluate the trained model against the unseen test data\n",
    "print(\"Evaluating model...\")\n",
    "acc = evaluate(mlpmodel)\n"
   ]
  },
  {
   "cell_type": "code",
   "execution_count": 62,
   "metadata": {},
   "outputs": [
    {
     "name": "stdout",
     "output_type": "stream",
     "text": [
      "dict_keys(['val_loss', 'val_acc', 'loss', 'acc'])\n"
     ]
    },
    {
     "data": {
      "image/png": "[encoded data removed]",
      "text/plain": [
       "<matplotlib.figure.Figure at 0x132264b70>"
      ]
     },
     "metadata": {},
     "output_type": "display_data"
    },
    {
     "data": {
      "image/png": "[encoded data removed]",
      "text/plain": [
       "<matplotlib.figure.Figure at 0x1326907b8>"
      ]
     },
     "metadata": {},
     "output_type": "display_data"
    }
   ],
   "source": [
    "# import matplotlib.pyplot as plt\n",
    "print(history.history.keys())\n",
    "acc = history.history['acc']\n",
    "val_acc = history.history['val_acc']\n",
    "loss = history.history['loss']\n",
    "val_loss = history.history['val_loss']\n",
    "\n",
    "epochs = range(len(acc))\n",
    "\n",
    "plt.plot(epochs, acc, label='Training acc')\n",
    "plt.plot(epochs, val_acc, label='Validation acc')\n",
    "plt.title('Training and validation accuracy')\n",
    "plt.legend()\n",
    "\n",
    "plt.figure()\n",
    "\n",
    "plt.plot(epochs, loss, label='Training loss')\n",
    "plt.plot(epochs, val_loss, label='Validation loss')\n",
    "plt.title('Training and validation loss')\n",
    "plt.legend()\n",
    "\n",
    "plt.show()"
   ]
  },
  {
   "cell_type": "markdown",
   "metadata": {
    "collapsed": true
   },
   "source": [
    "## Train SVM"
   ]
  },
  {
   "cell_type": "code",
   "execution_count": null,
   "metadata": {},
   "outputs": [],
   "source": [
    "C_params = [0.1, 10, 25, 50, 100, 200, 500]\n",
    "accuracies = [0, 0, 0, 0, 0, 0, 0]"
   ]
  },
  {
   "cell_type": "code",
   "execution_count": null,
   "metadata": {},
   "outputs": [],
   "source": [
    "np.argmax(train_y, axis=1)"
   ]
  },
  {
   "cell_type": "code",
   "execution_count": null,
   "metadata": {},
   "outputs": [],
   "source": [
    "from sklearn.svm import SVC\n",
    "from sklearn.ensemble import RandomForestClassifier\n",
    "from sklearn.metrics import accuracy_score\n",
    "\n",
    "train_plus_dev_x = np.concatenate([train_x, train_dev_x])\n",
    "train_plus_dev_y = np.concatenate([train_y, train_dev_y])\n",
    "\n",
    "for idx, C_param in enumerate(C_params):\n",
    "    svm_rbf = SVC(C=C_param, kernel='rbf', probability=True)\n",
    "    svm_rbf.fit(train_plus_dev_x.reshape(train_plus_dev_x.shape[0], train_plus_dev_x.shape[1]*train_plus_dev_x.shape[2]), np.argmax(train_plus_dev_y, axis=1))\n",
    "    y_test_predict = svm_rbf.predict(test_x.reshape(test_x.shape[0], test_x.shape[1]*test_x.shape[2]))\n",
    "    accuracies[idx] = accuracy_score(y_true=np.argmax(test_y,axis=1), y_pred=y_test_predict)\n",
    "    print(accuracies[idx])\n",
    "print(accuracies)"
   ]
  },
  {
   "cell_type": "markdown",
   "metadata": {},
   "source": [
    "## Train Random Forest"
   ]
  },
  {
   "cell_type": "code",
   "execution_count": 34,
   "metadata": {},
   "outputs": [],
   "source": [
    "C_params = [10, 25, 50, 100, 200, 500]\n",
    "accuracies = [0, 0, 0, 0, 0, 0]"
   ]
  },
  {
   "cell_type": "code",
   "execution_count": 36,
   "metadata": {},
   "outputs": [
    {
     "name": "stdout",
     "output_type": "stream",
     "text": [
      "0.554997908825\n",
      "0.612714345462\n",
      "0.639899623588\n",
      "0.656210790464\n",
      "0.686741948975\n",
      "0.690506064408\n",
      "[0.55499790882475952, 0.61271434546214976, 0.63989962358845676, 0.65621079046424091, 0.68674194897532415, 0.6905060644081974]\n"
     ]
    }
   ],
   "source": [
    "from sklearn.ensemble import RandomForestClassifier\n",
    "from sklearn.metrics import accuracy_score\n",
    "\n",
    "train_plus_dev_x = np.concatenate([train_x, train_dev_x])\n",
    "train_plus_dev_y = np.concatenate([train_y, train_dev_y])\n",
    "\n",
    "for idx, C_param in enumerate(C_params):\n",
    "    rf = RandomForestClassifier(n_estimators=C_param)\n",
    "    rf.fit(train_plus_dev_x.reshape(train_plus_dev_x.shape[0], train_plus_dev_x.shape[1]*train_plus_dev_x.shape[2]), np.argmax(train_plus_dev_y, axis=1))\n",
    "    y_test_predict = rf.predict(test_x.reshape(test_x.shape[0], test_x.shape[1]*test_x.shape[2]))\n",
    "    accuracies[idx] = accuracy_score(y_true=np.argmax(test_y,axis=1), y_pred=y_test_predict)\n",
    "    print(accuracies[idx])\n",
    "print(accuracies)"
   ]
  },
  {
   "cell_type": "markdown",
   "metadata": {},
   "source": [
    "## Train Gradient Boosting"
   ]
  },
  {
   "cell_type": "code",
   "execution_count": 37,
   "metadata": {},
   "outputs": [
    {
     "name": "stdout",
     "output_type": "stream",
     "text": [
      "0.690506064408\n"
     ]
    },
    {
     "ename": "KeyboardInterrupt",
     "evalue": "",
     "output_type": "error",
     "traceback": [
      "\u001b[0;31m---------------------------------------------------------------------------\u001b[0m",
      "\u001b[0;31mKeyboardInterrupt\u001b[0m                         Traceback (most recent call last)",
      "\u001b[0;32m<ipython-input-37-521d8def5fc9>\u001b[0m in \u001b[0;36m<module>\u001b[0;34m()\u001b[0m\n\u001b[1;32m      5\u001b[0m \u001b[0;32mfor\u001b[0m \u001b[0midx\u001b[0m\u001b[0;34m,\u001b[0m \u001b[0mC_param\u001b[0m \u001b[0;32min\u001b[0m \u001b[0menumerate\u001b[0m\u001b[0;34m(\u001b[0m\u001b[0mC_params\u001b[0m\u001b[0;34m)\u001b[0m\u001b[0;34m:\u001b[0m\u001b[0;34m\u001b[0m\u001b[0m\n\u001b[1;32m      6\u001b[0m     \u001b[0mgb\u001b[0m \u001b[0;34m=\u001b[0m \u001b[0mGradientBoostingClassifier\u001b[0m\u001b[0;34m(\u001b[0m\u001b[0mn_estimators\u001b[0m\u001b[0;34m=\u001b[0m\u001b[0mC_param\u001b[0m\u001b[0;34m)\u001b[0m\u001b[0;34m\u001b[0m\u001b[0m\n\u001b[0;32m----> 7\u001b[0;31m     \u001b[0mgb\u001b[0m\u001b[0;34m.\u001b[0m\u001b[0mfit\u001b[0m\u001b[0;34m(\u001b[0m\u001b[0mtrain_plus_dev_x\u001b[0m\u001b[0;34m.\u001b[0m\u001b[0mreshape\u001b[0m\u001b[0;34m(\u001b[0m\u001b[0mtrain_plus_dev_x\u001b[0m\u001b[0;34m.\u001b[0m\u001b[0mshape\u001b[0m\u001b[0;34m[\u001b[0m\u001b[0;36m0\u001b[0m\u001b[0;34m]\u001b[0m\u001b[0;34m,\u001b[0m \u001b[0mtrain_plus_dev_x\u001b[0m\u001b[0;34m.\u001b[0m\u001b[0mshape\u001b[0m\u001b[0;34m[\u001b[0m\u001b[0;36m1\u001b[0m\u001b[0;34m]\u001b[0m\u001b[0;34m*\u001b[0m\u001b[0mtrain_plus_dev_x\u001b[0m\u001b[0;34m.\u001b[0m\u001b[0mshape\u001b[0m\u001b[0;34m[\u001b[0m\u001b[0;36m2\u001b[0m\u001b[0;34m]\u001b[0m\u001b[0;34m)\u001b[0m\u001b[0;34m,\u001b[0m \u001b[0mnp\u001b[0m\u001b[0;34m.\u001b[0m\u001b[0margmax\u001b[0m\u001b[0;34m(\u001b[0m\u001b[0mtrain_plus_dev_y\u001b[0m\u001b[0;34m,\u001b[0m \u001b[0maxis\u001b[0m\u001b[0;34m=\u001b[0m\u001b[0;36m1\u001b[0m\u001b[0;34m)\u001b[0m\u001b[0;34m)\u001b[0m\u001b[0;34m\u001b[0m\u001b[0m\n\u001b[0m\u001b[1;32m      8\u001b[0m     \u001b[0my_test_predict\u001b[0m \u001b[0;34m=\u001b[0m \u001b[0mrf\u001b[0m\u001b[0;34m.\u001b[0m\u001b[0mpredict\u001b[0m\u001b[0;34m(\u001b[0m\u001b[0mtest_x\u001b[0m\u001b[0;34m.\u001b[0m\u001b[0mreshape\u001b[0m\u001b[0;34m(\u001b[0m\u001b[0mtest_x\u001b[0m\u001b[0;34m.\u001b[0m\u001b[0mshape\u001b[0m\u001b[0;34m[\u001b[0m\u001b[0;36m0\u001b[0m\u001b[0;34m]\u001b[0m\u001b[0;34m,\u001b[0m \u001b[0mtest_x\u001b[0m\u001b[0;34m.\u001b[0m\u001b[0mshape\u001b[0m\u001b[0;34m[\u001b[0m\u001b[0;36m1\u001b[0m\u001b[0;34m]\u001b[0m\u001b[0;34m*\u001b[0m\u001b[0mtest_x\u001b[0m\u001b[0;34m.\u001b[0m\u001b[0mshape\u001b[0m\u001b[0;34m[\u001b[0m\u001b[0;36m2\u001b[0m\u001b[0;34m]\u001b[0m\u001b[0;34m)\u001b[0m\u001b[0;34m)\u001b[0m\u001b[0;34m\u001b[0m\u001b[0m\n\u001b[1;32m      9\u001b[0m     \u001b[0maccuracies\u001b[0m\u001b[0;34m[\u001b[0m\u001b[0midx\u001b[0m\u001b[0;34m]\u001b[0m \u001b[0;34m=\u001b[0m \u001b[0maccuracy_score\u001b[0m\u001b[0;34m(\u001b[0m\u001b[0my_true\u001b[0m\u001b[0;34m=\u001b[0m\u001b[0mnp\u001b[0m\u001b[0;34m.\u001b[0m\u001b[0margmax\u001b[0m\u001b[0;34m(\u001b[0m\u001b[0mtest_y\u001b[0m\u001b[0;34m,\u001b[0m\u001b[0maxis\u001b[0m\u001b[0;34m=\u001b[0m\u001b[0;36m1\u001b[0m\u001b[0;34m)\u001b[0m\u001b[0;34m,\u001b[0m \u001b[0my_pred\u001b[0m\u001b[0;34m=\u001b[0m\u001b[0my_test_predict\u001b[0m\u001b[0;34m)\u001b[0m\u001b[0;34m\u001b[0m\u001b[0m\n",
      "\u001b[0;32m/usr/local/lib/python3.6/site-packages/sklearn/ensemble/gradient_boosting.py\u001b[0m in \u001b[0;36mfit\u001b[0;34m(self, X, y, sample_weight, monitor)\u001b[0m\n\u001b[1;32m   1032\u001b[0m         \u001b[0;31m# fit the boosting stages\u001b[0m\u001b[0;34m\u001b[0m\u001b[0;34m\u001b[0m\u001b[0m\n\u001b[1;32m   1033\u001b[0m         n_stages = self._fit_stages(X, y, y_pred, sample_weight, random_state,\n\u001b[0;32m-> 1034\u001b[0;31m                                     begin_at_stage, monitor, X_idx_sorted)\n\u001b[0m\u001b[1;32m   1035\u001b[0m         \u001b[0;31m# change shape of arrays after fit (early-stopping or additional ests)\u001b[0m\u001b[0;34m\u001b[0m\u001b[0;34m\u001b[0m\u001b[0m\n\u001b[1;32m   1036\u001b[0m         \u001b[0;32mif\u001b[0m \u001b[0mn_stages\u001b[0m \u001b[0;34m!=\u001b[0m \u001b[0mself\u001b[0m\u001b[0;34m.\u001b[0m\u001b[0mestimators_\u001b[0m\u001b[0;34m.\u001b[0m\u001b[0mshape\u001b[0m\u001b[0;34m[\u001b[0m\u001b[0;36m0\u001b[0m\u001b[0;34m]\u001b[0m\u001b[0;34m:\u001b[0m\u001b[0;34m\u001b[0m\u001b[0m\n",
      "\u001b[0;32m/usr/local/lib/python3.6/site-packages/sklearn/ensemble/gradient_boosting.py\u001b[0m in \u001b[0;36m_fit_stages\u001b[0;34m(self, X, y, y_pred, sample_weight, random_state, begin_at_stage, monitor, X_idx_sorted)\u001b[0m\n\u001b[1;32m   1087\u001b[0m             y_pred = self._fit_stage(i, X, y, y_pred, sample_weight,\n\u001b[1;32m   1088\u001b[0m                                      \u001b[0msample_mask\u001b[0m\u001b[0;34m,\u001b[0m \u001b[0mrandom_state\u001b[0m\u001b[0;34m,\u001b[0m \u001b[0mX_idx_sorted\u001b[0m\u001b[0;34m,\u001b[0m\u001b[0;34m\u001b[0m\u001b[0m\n\u001b[0;32m-> 1089\u001b[0;31m                                      X_csc, X_csr)\n\u001b[0m\u001b[1;32m   1090\u001b[0m \u001b[0;34m\u001b[0m\u001b[0m\n\u001b[1;32m   1091\u001b[0m             \u001b[0;31m# track deviance (= loss)\u001b[0m\u001b[0;34m\u001b[0m\u001b[0;34m\u001b[0m\u001b[0m\n",
      "\u001b[0;32m/usr/local/lib/python3.6/site-packages/sklearn/ensemble/gradient_boosting.py\u001b[0m in \u001b[0;36m_fit_stage\u001b[0;34m(self, i, X, y, y_pred, sample_weight, sample_mask, random_state, X_idx_sorted, X_csc, X_csr)\u001b[0m\n\u001b[1;32m    786\u001b[0m             \u001b[0;32melse\u001b[0m\u001b[0;34m:\u001b[0m\u001b[0;34m\u001b[0m\u001b[0m\n\u001b[1;32m    787\u001b[0m                 tree.fit(X, residual, sample_weight=sample_weight,\n\u001b[0;32m--> 788\u001b[0;31m                          check_input=False, X_idx_sorted=X_idx_sorted)\n\u001b[0m\u001b[1;32m    789\u001b[0m \u001b[0;34m\u001b[0m\u001b[0m\n\u001b[1;32m    790\u001b[0m             \u001b[0;31m# update tree leaves\u001b[0m\u001b[0;34m\u001b[0m\u001b[0;34m\u001b[0m\u001b[0m\n",
      "\u001b[0;32m/usr/local/lib/python3.6/site-packages/sklearn/tree/tree.py\u001b[0m in \u001b[0;36mfit\u001b[0;34m(self, X, y, sample_weight, check_input, X_idx_sorted)\u001b[0m\n\u001b[1;32m   1122\u001b[0m             \u001b[0msample_weight\u001b[0m\u001b[0;34m=\u001b[0m\u001b[0msample_weight\u001b[0m\u001b[0;34m,\u001b[0m\u001b[0;34m\u001b[0m\u001b[0m\n\u001b[1;32m   1123\u001b[0m             \u001b[0mcheck_input\u001b[0m\u001b[0;34m=\u001b[0m\u001b[0mcheck_input\u001b[0m\u001b[0;34m,\u001b[0m\u001b[0;34m\u001b[0m\u001b[0m\n\u001b[0;32m-> 1124\u001b[0;31m             X_idx_sorted=X_idx_sorted)\n\u001b[0m\u001b[1;32m   1125\u001b[0m         \u001b[0;32mreturn\u001b[0m \u001b[0mself\u001b[0m\u001b[0;34m\u001b[0m\u001b[0m\n\u001b[1;32m   1126\u001b[0m \u001b[0;34m\u001b[0m\u001b[0m\n",
      "\u001b[0;32m/usr/local/lib/python3.6/site-packages/sklearn/tree/tree.py\u001b[0m in \u001b[0;36mfit\u001b[0;34m(self, X, y, sample_weight, check_input, X_idx_sorted)\u001b[0m\n\u001b[1;32m    360\u001b[0m                                            min_impurity_split)\n\u001b[1;32m    361\u001b[0m \u001b[0;34m\u001b[0m\u001b[0m\n\u001b[0;32m--> 362\u001b[0;31m         \u001b[0mbuilder\u001b[0m\u001b[0;34m.\u001b[0m\u001b[0mbuild\u001b[0m\u001b[0;34m(\u001b[0m\u001b[0mself\u001b[0m\u001b[0;34m.\u001b[0m\u001b[0mtree_\u001b[0m\u001b[0;34m,\u001b[0m \u001b[0mX\u001b[0m\u001b[0;34m,\u001b[0m \u001b[0my\u001b[0m\u001b[0;34m,\u001b[0m \u001b[0msample_weight\u001b[0m\u001b[0;34m,\u001b[0m \u001b[0mX_idx_sorted\u001b[0m\u001b[0;34m)\u001b[0m\u001b[0;34m\u001b[0m\u001b[0m\n\u001b[0m\u001b[1;32m    363\u001b[0m \u001b[0;34m\u001b[0m\u001b[0m\n\u001b[1;32m    364\u001b[0m         \u001b[0;32mif\u001b[0m \u001b[0mself\u001b[0m\u001b[0;34m.\u001b[0m\u001b[0mn_outputs_\u001b[0m \u001b[0;34m==\u001b[0m \u001b[0;36m1\u001b[0m\u001b[0;34m:\u001b[0m\u001b[0;34m\u001b[0m\u001b[0m\n",
      "\u001b[0;31mKeyboardInterrupt\u001b[0m: "
     ]
    }
   ],
   "source": [
    "from sklearn.ensemble import GradientBoostingClassifier\n",
    "\n",
    "C_params = [10, 25, 50, 100, 200, 500]\n",
    "accuracies = [0, 0, 0, 0, 0, 0]\n",
    "for idx, C_param in enumerate(C_params):\n",
    "    gb = GradientBoostingClassifier(n_estimators=C_param)\n",
    "    gb.fit(train_plus_dev_x.reshape(train_plus_dev_x.shape[0], train_plus_dev_x.shape[1]*train_plus_dev_x.shape[2]), np.argmax(train_plus_dev_y, axis=1))\n",
    "    y_test_predict = rf.predict(test_x.reshape(test_x.shape[0], test_x.shape[1]*test_x.shape[2]))\n",
    "    accuracies[idx] = accuracy_score(y_true=np.argmax(test_y,axis=1), y_pred=y_test_predict)\n",
    "    print(accuracies[idx])\n",
    "print(accuracies)"
   ]
  },
  {
   "cell_type": "code",
   "execution_count": null,
   "metadata": {},
   "outputs": [],
   "source": []
  }
 ],
 "metadata": {
  "kernelspec": {
   "display_name": "Python 3",
   "language": "python",
   "name": "python3"
  },
  "language_info": {
   "codemirror_mode": {
    "name": "ipython",
    "version": 3
   },
   "file_extension": ".py",
   "mimetype": "text/x-python",
   "name": "python",
   "nbconvert_exporter": "python",
   "pygments_lexer": "ipython3",
   "version": "3.6.3"
  }
 },
 "nbformat": 4,
 "nbformat_minor": 2
}
