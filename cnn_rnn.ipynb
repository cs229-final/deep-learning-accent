{
 "cells": [
  {
   "cell_type": "code",
   "execution_count": 1,
   "metadata": {},
   "outputs": [
    {
     "name": "stderr",
     "output_type": "stream",
     "text": [
      "/usr/local/Cellar/python3/3.6.3/Frameworks/Python.framework/Versions/3.6/lib/python3.6/importlib/_bootstrap.py:219: RuntimeWarning: compiletime version 3.5 of module 'tensorflow.python.framework.fast_tensor_util' does not match runtime version 3.6\n",
      "  return f(*args, **kwds)\n"
     ]
    }
   ],
   "source": [
    "import glob\n",
    "import os\n",
    "import librosa\n",
    "import matplotlib.pyplot as plt\n",
    "import tensorflow as tf\n",
    "import numpy as np"
   ]
  },
  {
   "cell_type": "markdown",
   "metadata": {},
   "source": [
    "# Extract features\n",
    "\n",
    "### Single file example extraction"
   ]
  },
  {
   "cell_type": "code",
   "execution_count": 2,
   "metadata": {},
   "outputs": [
    {
     "ename": "FileNotFoundError",
     "evalue": "[Errno 2] No such file or directory: '/Users/leonmak/Documents/CS229/final-project/data/SC-scripted-word/CH/SC_W_CH_04_EN-chunk-5.wav'",
     "output_type": "error",
     "traceback": [
      "\u001b[0;31m---------------------------------------------------------------------------\u001b[0m",
      "\u001b[0;31mFileNotFoundError\u001b[0m                         Traceback (most recent call last)",
      "\u001b[0;32m<ipython-input-2-c0e694321978>\u001b[0m in \u001b[0;36m<module>\u001b[0;34m()\u001b[0m\n\u001b[1;32m     31\u001b[0m \u001b[0;31m# sample_filename = 'data/speech-accent-archive/recordings/afghanistan/dari2.mp3'\u001b[0m\u001b[0;34m\u001b[0m\u001b[0;34m\u001b[0m\u001b[0m\n\u001b[1;32m     32\u001b[0m \u001b[0msample_filename\u001b[0m \u001b[0;34m=\u001b[0m \u001b[0;34m'/Users/leonmak/Documents/CS229/final-project/data/SC-scripted-word/CH/SC_W_CH_04_EN-chunk-5.wav'\u001b[0m\u001b[0;34m\u001b[0m\u001b[0m\n\u001b[0;32m---> 33\u001b[0;31m \u001b[0mfeatures\u001b[0m \u001b[0;34m=\u001b[0m \u001b[0mextract_feature_array\u001b[0m\u001b[0;34m(\u001b[0m\u001b[0msample_filename\u001b[0m\u001b[0;34m)\u001b[0m\u001b[0;34m\u001b[0m\u001b[0m\n\u001b[0m\u001b[1;32m     34\u001b[0m \u001b[0mdata_points\u001b[0m\u001b[0;34m,\u001b[0m \u001b[0m_\u001b[0m \u001b[0;34m=\u001b[0m \u001b[0mlibrosa\u001b[0m\u001b[0;34m.\u001b[0m\u001b[0mload\u001b[0m\u001b[0;34m(\u001b[0m\u001b[0msample_filename\u001b[0m\u001b[0;34m)\u001b[0m\u001b[0;34m\u001b[0m\u001b[0m\n\u001b[1;32m     35\u001b[0m \u001b[0mprint\u001b[0m \u001b[0;34m(\u001b[0m\u001b[0;34m'IN: Initial Data Points ='\u001b[0m\u001b[0;34m,\u001b[0m \u001b[0mlen\u001b[0m\u001b[0;34m(\u001b[0m\u001b[0mdata_points\u001b[0m\u001b[0;34m)\u001b[0m\u001b[0;34m)\u001b[0m\u001b[0;34m\u001b[0m\u001b[0m\n",
      "\u001b[0;32m<ipython-input-2-c0e694321978>\u001b[0m in \u001b[0;36mextract_feature_array\u001b[0;34m(filename, bands, frames)\u001b[0m\n\u001b[1;32m      8\u001b[0m     \u001b[0mwindow_size\u001b[0m \u001b[0;34m=\u001b[0m \u001b[0;36m512\u001b[0m \u001b[0;34m*\u001b[0m \u001b[0;34m(\u001b[0m\u001b[0mframes\u001b[0m\u001b[0;34m-\u001b[0m\u001b[0;36m1\u001b[0m\u001b[0;34m)\u001b[0m\u001b[0;34m\u001b[0m\u001b[0m\n\u001b[1;32m      9\u001b[0m     \u001b[0mmfccs\u001b[0m \u001b[0;34m=\u001b[0m \u001b[0;34m[\u001b[0m\u001b[0;34m]\u001b[0m\u001b[0;34m\u001b[0m\u001b[0m\n\u001b[0;32m---> 10\u001b[0;31m     \u001b[0msound_clip\u001b[0m\u001b[0;34m,\u001b[0m \u001b[0ms\u001b[0m \u001b[0;34m=\u001b[0m \u001b[0mlibrosa\u001b[0m\u001b[0;34m.\u001b[0m\u001b[0mload\u001b[0m\u001b[0;34m(\u001b[0m\u001b[0mfilename\u001b[0m\u001b[0;34m,\u001b[0m \u001b[0msr\u001b[0m\u001b[0;34m=\u001b[0m\u001b[0;36m44100\u001b[0m\u001b[0;34m)\u001b[0m\u001b[0;34m\u001b[0m\u001b[0m\n\u001b[0m\u001b[1;32m     11\u001b[0m     \u001b[0;32mfor\u001b[0m \u001b[0;34m(\u001b[0m\u001b[0mstart\u001b[0m\u001b[0;34m,\u001b[0m \u001b[0mend\u001b[0m\u001b[0;34m)\u001b[0m \u001b[0;32min\u001b[0m \u001b[0mwindows\u001b[0m\u001b[0;34m(\u001b[0m\u001b[0msound_clip\u001b[0m\u001b[0;34m,\u001b[0m \u001b[0mwindow_size\u001b[0m\u001b[0;34m)\u001b[0m\u001b[0;34m:\u001b[0m\u001b[0;34m\u001b[0m\u001b[0m\n\u001b[1;32m     12\u001b[0m         \u001b[0mstart\u001b[0m \u001b[0;34m=\u001b[0m \u001b[0mint\u001b[0m\u001b[0;34m(\u001b[0m\u001b[0mstart\u001b[0m\u001b[0;34m)\u001b[0m\u001b[0;34m\u001b[0m\u001b[0m\n",
      "\u001b[0;32m/usr/local/lib/python3.6/site-packages/librosa/core/audio.py\u001b[0m in \u001b[0;36mload\u001b[0;34m(path, sr, mono, offset, duration, dtype, res_type)\u001b[0m\n\u001b[1;32m    105\u001b[0m \u001b[0;34m\u001b[0m\u001b[0m\n\u001b[1;32m    106\u001b[0m     \u001b[0my\u001b[0m \u001b[0;34m=\u001b[0m \u001b[0;34m[\u001b[0m\u001b[0;34m]\u001b[0m\u001b[0;34m\u001b[0m\u001b[0m\n\u001b[0;32m--> 107\u001b[0;31m     \u001b[0;32mwith\u001b[0m \u001b[0maudioread\u001b[0m\u001b[0;34m.\u001b[0m\u001b[0maudio_open\u001b[0m\u001b[0;34m(\u001b[0m\u001b[0mos\u001b[0m\u001b[0;34m.\u001b[0m\u001b[0mpath\u001b[0m\u001b[0;34m.\u001b[0m\u001b[0mrealpath\u001b[0m\u001b[0;34m(\u001b[0m\u001b[0mpath\u001b[0m\u001b[0;34m)\u001b[0m\u001b[0;34m)\u001b[0m \u001b[0;32mas\u001b[0m \u001b[0minput_file\u001b[0m\u001b[0;34m:\u001b[0m\u001b[0;34m\u001b[0m\u001b[0m\n\u001b[0m\u001b[1;32m    108\u001b[0m         \u001b[0msr_native\u001b[0m \u001b[0;34m=\u001b[0m \u001b[0minput_file\u001b[0m\u001b[0;34m.\u001b[0m\u001b[0msamplerate\u001b[0m\u001b[0;34m\u001b[0m\u001b[0m\n\u001b[1;32m    109\u001b[0m         \u001b[0mn_channels\u001b[0m \u001b[0;34m=\u001b[0m \u001b[0minput_file\u001b[0m\u001b[0;34m.\u001b[0m\u001b[0mchannels\u001b[0m\u001b[0;34m\u001b[0m\u001b[0m\n",
      "\u001b[0;32m/usr/local/lib/python3.6/site-packages/audioread/__init__.py\u001b[0m in \u001b[0;36maudio_open\u001b[0;34m(path)\u001b[0m\n\u001b[1;32m     78\u001b[0m     \u001b[0;32mfrom\u001b[0m \u001b[0;34m.\u001b[0m \u001b[0;32mimport\u001b[0m \u001b[0mrawread\u001b[0m\u001b[0;34m\u001b[0m\u001b[0m\n\u001b[1;32m     79\u001b[0m     \u001b[0;32mtry\u001b[0m\u001b[0;34m:\u001b[0m\u001b[0;34m\u001b[0m\u001b[0m\n\u001b[0;32m---> 80\u001b[0;31m         \u001b[0;32mreturn\u001b[0m \u001b[0mrawread\u001b[0m\u001b[0;34m.\u001b[0m\u001b[0mRawAudioFile\u001b[0m\u001b[0;34m(\u001b[0m\u001b[0mpath\u001b[0m\u001b[0;34m)\u001b[0m\u001b[0;34m\u001b[0m\u001b[0m\n\u001b[0m\u001b[1;32m     81\u001b[0m     \u001b[0;32mexcept\u001b[0m \u001b[0mDecodeError\u001b[0m\u001b[0;34m:\u001b[0m\u001b[0;34m\u001b[0m\u001b[0m\n\u001b[1;32m     82\u001b[0m         \u001b[0;32mpass\u001b[0m\u001b[0;34m\u001b[0m\u001b[0m\n",
      "\u001b[0;32m/usr/local/lib/python3.6/site-packages/audioread/rawread.py\u001b[0m in \u001b[0;36m__init__\u001b[0;34m(self, filename)\u001b[0m\n\u001b[1;32m     59\u001b[0m     \"\"\"\n\u001b[1;32m     60\u001b[0m     \u001b[0;32mdef\u001b[0m \u001b[0m__init__\u001b[0m\u001b[0;34m(\u001b[0m\u001b[0mself\u001b[0m\u001b[0;34m,\u001b[0m \u001b[0mfilename\u001b[0m\u001b[0;34m)\u001b[0m\u001b[0;34m:\u001b[0m\u001b[0;34m\u001b[0m\u001b[0m\n\u001b[0;32m---> 61\u001b[0;31m         \u001b[0mself\u001b[0m\u001b[0;34m.\u001b[0m\u001b[0m_fh\u001b[0m \u001b[0;34m=\u001b[0m \u001b[0mopen\u001b[0m\u001b[0;34m(\u001b[0m\u001b[0mfilename\u001b[0m\u001b[0;34m,\u001b[0m \u001b[0;34m'rb'\u001b[0m\u001b[0;34m)\u001b[0m\u001b[0;34m\u001b[0m\u001b[0m\n\u001b[0m\u001b[1;32m     62\u001b[0m \u001b[0;34m\u001b[0m\u001b[0m\n\u001b[1;32m     63\u001b[0m         \u001b[0;32mtry\u001b[0m\u001b[0;34m:\u001b[0m\u001b[0;34m\u001b[0m\u001b[0m\n",
      "\u001b[0;31mFileNotFoundError\u001b[0m: [Errno 2] No such file or directory: '/Users/leonmak/Documents/CS229/final-project/data/SC-scripted-word/CH/SC_W_CH_04_EN-chunk-5.wav'"
     ]
    }
   ],
   "source": [
    "def windows(data, window_size):\n",
    "    start = 0\n",
    "    while start < len(data):\n",
    "        yield start, start + window_size\n",
    "        start += (window_size // 2)\n",
    "\n",
    "def extract_feature_array(filename, bands=21, frames=41):\n",
    "    window_size = 512 * (frames-1)\n",
    "    mfccs = []\n",
    "    sound_clip, s = librosa.load(filename, sr=44100)\n",
    "    for (start, end) in windows(sound_clip, window_size):\n",
    "        start = int(start)\n",
    "        end = int(end)\n",
    "        if(len(sound_clip[start:end]) == window_size):\n",
    "            signal = sound_clip[start:end]\n",
    "            mfcc = librosa.feature.mfcc(signal, sr=s, n_mfcc=bands)\n",
    "            mfccs.append(mfcc)\n",
    "#             mfcc = librosa.feature.mfcc(signal, sr=s, n_mfcc=bands).T.flatten()[:, np.newaxis].T\n",
    "#             logspec = librosa.logamplitude(melspec)\n",
    "#     log_specgrams = np.expand_dims(np.asarray(log_specgrams), axis=3)\n",
    "    return np.asarray(mfccs)\n",
    "\n",
    "# # Uncomment if using deltas\n",
    "#\n",
    "#     log_specgrams = np.asarray(log_specgrams).reshape(len(log_specgrams),bands,frames,1)\n",
    "#     features = np.concatenate((log_specgrams, np.zeros(np.shape(log_specgrams))), axis = 3)\n",
    "#     for i in range(len(features)):\n",
    "#         features[i, :, :, 1] = librosa.feature.delta(features[i, :, :, 0])\n",
    "#     return np.array(features)\n",
    "\n",
    "# sample_filename = 'data/speech-accent-archive/recordings/afghanistan/dari2.mp3'\n",
    "sample_filename = '/Users/leonmak/Documents/CS229/final-project/data/SC-scripted-word/CH/SC_W_CH_04_EN-chunk-5.wav'\n",
    "features = extract_feature_array(sample_filename)\n",
    "data_points, _ = librosa.load(sample_filename)\n",
    "print ('IN: Initial Data Points =', len(data_points))\n",
    "print ('OUT: Total features =', np.shape(features))\n"
   ]
  },
  {
   "cell_type": "markdown",
   "metadata": {},
   "source": [
    "# Classes"
   ]
  },
  {
   "cell_type": "code",
   "execution_count": 3,
   "metadata": {},
   "outputs": [
    {
     "name": "stdout",
     "output_type": "stream",
     "text": [
      "10 labels found, First 5: ['CH', 'EN', 'IN', 'IR', 'IT']\n"
     ]
    }
   ],
   "source": [
    "from sklearn import preprocessing\n",
    "\n",
    "def iter_label_files(parent_dir):\n",
    "    \"\"\"Utility for extracting labels\"\"\"\n",
    "    for root, dirpaths, fnames in os.walk(parent_dir):\n",
    "        if len(dirpaths) > 0:\n",
    "            continue\n",
    "        label = root.split('/')[-1]\n",
    "        yield root, label, fnames\n",
    "\n",
    "# parent_dir = 'data/speech-accent-archive/recordings/'\n",
    "parent_dir = 'data/SC-scripted-word/'\n",
    "labels = []\n",
    "for _, label, _ in iter_label_files(parent_dir):\n",
    "    labels.append(label)\n",
    "print(f'{len(labels)} labels found, First 5: {labels[:5]}')\n"
   ]
  },
  {
   "cell_type": "code",
   "execution_count": 4,
   "metadata": {},
   "outputs": [
    {
     "name": "stdout",
     "output_type": "stream",
     "text": [
      "Labels with >= 2134 egs: ['KO', 'EN', 'CH'], len:3\n",
      "[[ 0.  0.  1.]\n",
      " [ 0.  1.  0.]\n",
      " [ 1.  0.  0.]]\n"
     ]
    }
   ],
   "source": [
    "cap = 2134\n",
    "counts = []\n",
    "for _, label, fnames in iter_label_files(parent_dir):\n",
    "    counts.append(len(fnames))\n",
    "\n",
    "top_indices_count = [i_count for i_count in sorted(enumerate(counts), key=lambda x:x[1], reverse=True)]\n",
    "most_freq_egs = [labels[i] for (i, count) in top_indices_count if count >= cap]\n",
    "print(f'Labels with >= {cap} egs: {most_freq_egs}, len:{len(most_freq_egs)}')    \n",
    "\n",
    "le = preprocessing.LabelEncoder()\n",
    "ohe = preprocessing.OneHotEncoder()\n",
    "le_ed = le.fit_transform(most_freq_egs)\n",
    "ohe_ed = ohe.fit_transform(le_ed.reshape(len(le_ed), 1))\n",
    "print(ohe_ed.toarray())\n"
   ]
  },
  {
   "cell_type": "markdown",
   "metadata": {},
   "source": [
    "# Save features"
   ]
  },
  {
   "cell_type": "code",
   "execution_count": 6,
   "metadata": {
    "scrolled": false
   },
   "outputs": [
    {
     "name": "stdout",
     "output_type": "stream",
     "text": [
      "Saving feature_file npy/mfcc_w/fold_orig_w0_x.npy \n",
      "Saving labels_file npy/mfcc_w/fold_orig_w0_y.npy\n",
      "Features of fold_orig_w0 = (639, 50, 44)\n",
      "Labels of fold_orig_w0 = (639,)\n",
      "Saving feature_file npy/mfcc_w/fold_orig_w1_x.npy \n",
      "Saving labels_file npy/mfcc_w/fold_orig_w1_y.npy\n",
      "Features of fold_orig_w1 = (639, 50, 44)\n",
      "Labels of fold_orig_w1 = (639,)\n",
      "Saving feature_file npy/mfcc_w/fold_orig_w2_x.npy \n",
      "Saving labels_file npy/mfcc_w/fold_orig_w2_y.npy\n",
      "Features of fold_orig_w2 = (639, 50, 44)\n",
      "Labels of fold_orig_w2 = (639,)\n",
      "Saving feature_file npy/mfcc_w/fold_orig_w3_x.npy \n",
      "Saving labels_file npy/mfcc_w/fold_orig_w3_y.npy\n",
      "Features of fold_orig_w3 = (639, 50, 44)\n",
      "Labels of fold_orig_w3 = (639,)\n",
      "Saving feature_file npy/mfcc_w/fold_orig_w4_x.npy \n",
      "Saving labels_file npy/mfcc_w/fold_orig_w4_y.npy\n",
      "Features of fold_orig_w4 = (639, 50, 44)\n",
      "Labels of fold_orig_w4 = (639,)\n",
      "Saving feature_file npy/mfcc_w/fold_orig_w5_x.npy \n",
      "Saving labels_file npy/mfcc_w/fold_orig_w5_y.npy\n",
      "Features of fold_orig_w5 = (639, 50, 44)\n",
      "Labels of fold_orig_w5 = (639,)\n",
      "Saving feature_file npy/mfcc_w/fold_orig_w6_x.npy \n",
      "Saving labels_file npy/mfcc_w/fold_orig_w6_y.npy\n",
      "Features of fold_orig_w6 = (639, 50, 44)\n",
      "Labels of fold_orig_w6 = (639,)\n",
      "Saving feature_file npy/mfcc_w/fold_orig_w7_x.npy \n",
      "Saving labels_file npy/mfcc_w/fold_orig_w7_y.npy\n",
      "Features of fold_orig_w7 = (639, 50, 44)\n",
      "Labels of fold_orig_w7 = (639,)\n",
      "Saving feature_file npy/mfcc_w/fold_orig_w8_x.npy \n",
      "Saving labels_file npy/mfcc_w/fold_orig_w8_y.npy\n",
      "Features of fold_orig_w8 = (639, 50, 44)\n",
      "Labels of fold_orig_w8 = (639,)\n",
      "Saving feature_file npy/mfcc_w/fold_orig_w9_x.npy \n",
      "Saving labels_file npy/mfcc_w/fold_orig_w9_y.npy\n",
      "Features of fold_orig_w9 = (639, 50, 44)\n",
      "Labels of fold_orig_w9 = (639,)\n"
     ]
    }
   ],
   "source": [
    "import random \n",
    "import speechpy\n",
    "\n",
    "NUM_MFCCS = 50\n",
    "DEFAULT_BITRATE = 22050\n",
    "DESIRED_DURATION = 1  # seconds\n",
    "PADDED_LENGTH = DEFAULT_BITRATE * DESIRED_DURATION\n",
    "\n",
    "\n",
    "def get_label_enc(fn, le):\n",
    "    fn_parts = fn.split('/')\n",
    "    label_txt = fn_parts[-2]  # y_i\n",
    "    label_int = le.transform([label_txt])\n",
    "    return label_int[0]\n",
    "\n",
    "\n",
    "def normalize_audio(source_files):\n",
    "    fixed_lengths = [librosa.util.fix_length(y, PADDED_LENGTH) for y, _ in source_files]\n",
    "    return [(f - np.mean(f)) / np.std(f) for f in fixed_lengths]\n",
    "\n",
    "\n",
    "def load_audio(source_files):\n",
    "    loaded_mp3_files = [librosa.load(f) for f in source_files]\n",
    "    fix_length_mp3 = normalize_audio(loaded_mp3_files)\n",
    "    mfccs = [librosa.feature.mfcc(y=y, sr=DEFAULT_BITRATE, n_mfcc=NUM_MFCCS) for y in fix_length_mp3]\n",
    "    return mfccs\n",
    "\n",
    "\n",
    "def get_labels(fnames):\n",
    "    labels = [get_label_enc(fn, le) for fn in fnames]\n",
    "    return labels\n",
    "\n",
    "\n",
    "def extract_feature(fnames):\n",
    "    \"\"\"\n",
    "    Extract features from filenames to features and labels arrays\n",
    "    \"\"\"\n",
    "    mfccs = load_audio(fnames)\n",
    "    labels = get_labels(fnames)\n",
    "    return np.asarray(mfccs), np.asarray(labels)\n",
    "#     window_size = 512 * (frames-1)\n",
    "#     log_specgrams = []\n",
    "#     mfccs = []\n",
    "#     labels = []\n",
    "#     for fn in fnames:\n",
    "#         sound_clip, s = librosa.load(fn)\n",
    "# #         sound_clip -= np.mean(sound_clip)\n",
    "# #         sound_clip /= max(sound_clip)\n",
    "#         label_enc = get_label_enc(fn, le)\n",
    "#         for (start, end) in windows(sound_clip, window_size):\n",
    "#             signal = sound_clip[start:end]\n",
    "#             if(len(signal) != window_size):\n",
    "#                 break\n",
    "#             labels.append(label_enc)\n",
    "# #             melspec = librosa.feature.mfcc(signal, sr=s, n_mels=bands)\n",
    "# #             logspec = librosa.logamplitude(melspec)\n",
    "# #             log_specgrams.append(logspec)\n",
    "#             mfcc = librosa.feature.mfcc(signal, sr=s, n_mfcc=bands)\n",
    "#             mfccs.append(mfcc)\n",
    "#     if word == False:\n",
    "#         log_specgrams = np.expand_dims(np.asarray(log_specgrams), axis=3)\n",
    "#     return np.asarray(mfccs), np.asarray(labels, dtype='int')\n",
    "#     log_specgrams = np.array(log_specgrams).reshape(len(log_specgrams),bands,frames,2)\n",
    "#     features = np.concatenate((log_specgrams, np.zeros(log_specgrams.shape)), axis=3)\n",
    "#     for i in range(len(features)):\n",
    "#         features[i, :, :, 1] = librosa.feature.delta(features[i, :, :, 0])\n",
    "#     return np.array(features), np.array(labels, dtype='int')\n",
    "\n",
    "\n",
    "def get_subset_fnames():\n",
    "    subset_fnames = []\n",
    "    for root, label, fnames in iter_label_files(parent_dir):\n",
    "        if label not in most_freq_egs:\n",
    "            continue\n",
    "        for fn in fnames[:cap]:\n",
    "            if '.DS_Store' in fn:\n",
    "                continue\n",
    "            subset_fnames.append(os.path.join(root, fn))\n",
    "    random.seed(24)\n",
    "    random.shuffle(subset_fnames)\n",
    "    return subset_fnames\n",
    "\n",
    "\n",
    "def save_folds(save_dir, num_folds=10, fold_prefix='fold_orig_w'):\n",
    "    fnames = get_subset_fnames()\n",
    "    egs_per_fold = len(fnames) // num_folds\n",
    "    curr = 0\n",
    "    features = []\n",
    "    labels = []\n",
    "    for k in range(num_folds):\n",
    "        fold_name = f'{fold_prefix}{str(k)}'\n",
    "        \n",
    "        feature_file = os.path.join(save_dir, fold_name + '_x.npy')\n",
    "        labels_file = os.path.join(save_dir, fold_name + '_y.npy')\n",
    "\n",
    "        print(f'Saving feature_file {feature_file} \\nSaving labels_file {labels_file}')\n",
    "        start_i = k * egs_per_fold\n",
    "        end_i = (k + 1) * egs_per_fold\n",
    "        fnames_fold = fnames[start_i: end_i]\n",
    "        features, labels = extract_feature(fnames_fold)\n",
    "#         features = np.concatenate([features, new_features]) if len(features) > 0 else np.asarray(new_features)\n",
    "#         labels = np.concatenate([labels, new_labels]) if len(labels) > 0 else np.asarray(new_labels)\n",
    "        print(f'Features of {fold_name} = {features.shape}')\n",
    "        print(f'Labels of {fold_name} = {labels.shape}')\n",
    "\n",
    "        np.save(feature_file, features)\n",
    "        np.save(labels_file, labels)\n",
    "\n",
    "\n",
    "save_dir=os.path.join('npy', 'mfcc_w')\n",
    "save_folds(save_dir)\n"
   ]
  },
  {
   "cell_type": "markdown",
   "metadata": {},
   "source": [
    "# Load Features"
   ]
  },
  {
   "cell_type": "code",
   "execution_count": 7,
   "metadata": {
    "scrolled": false
   },
   "outputs": [
    {
     "name": "stderr",
     "output_type": "stream",
     "text": [
      "Using TensorFlow backend.\n"
     ]
    },
    {
     "name": "stdout",
     "output_type": "stream",
     "text": [
      "npy/mfcc_w\n",
      "\n",
      "Adding fold_orig_w0\n",
      "New Features:  (1278, 50, 44) (1278,)\n",
      "\n",
      "Adding fold_orig_w1\n",
      "New Features:  (1278, 50, 44) (1278,)\n",
      "\n",
      "Adding fold_orig_w2\n",
      "New Features:  (1278, 50, 44) (1278,)\n",
      "\n",
      "Adding fold_orig_w3\n",
      "New Features:  (1278, 50, 44) (1278,)\n",
      "\n",
      "Adding fold_orig_w4\n",
      "New Features:  (1278, 50, 44) (1278,)\n",
      "\n",
      "Adding fold_orig_w5\n",
      "New Features:  (1278, 50, 44) (1278,)\n",
      "\n",
      "Adding fold_orig_w6\n",
      "New Features:  (1278, 50, 44) (1278,)\n",
      "\n",
      "Training Set: (8946, 50, 44), Labels: (8946, 3)\n",
      "Train-dev Set: (639, 50, 44), Labels: (639, 3)\n",
      "Dev Set: (639, 50, 44), Labels: (639, 3)\n",
      "Test Set: (639, 50, 44), Labels: (639, 3)\n"
     ]
    }
   ],
   "source": [
    "from keras.utils import to_categorical\n",
    "data_dir = os.path.join('npy', 'mfcc_w')\n",
    "print(data_dir)\n",
    "fold_prefix = 'fold_orig_w'\n",
    "\n",
    "def add_folds(data_dir):\n",
    "    files_lst = os.listdir(data_dir)\n",
    "    num_folds = len(list(filter(lambda k: fold_prefix in k, files_lst))) // 2\n",
    "        \n",
    "    for k in range(num_folds-3):\n",
    "        fold_name = f'{fold_prefix}{str(k)}'\n",
    "        print(\"\\nAdding \" + fold_name)\n",
    "        feature_file = os.path.join(data_dir, fold_name + '_x.npy')\n",
    "        labels_file = os.path.join(data_dir, fold_name + '_y.npy')\n",
    "\n",
    "        loaded_features = np.load(feature_file)\n",
    "        loaded_labels = np.load(labels_file)\n",
    "        \n",
    "        # Data Augmentation with Gaussian Noise\n",
    "        noise = np.random.normal(0,1, loaded_features.shape)\n",
    "        loaded_features = np.concatenate([loaded_features, loaded_features+noise])\n",
    "        loaded_labels = np.concatenate([loaded_labels, loaded_labels])\n",
    "        \n",
    "        print(\"New Features: \", loaded_features.shape, loaded_labels.shape)\n",
    "        if k > 0:\n",
    "            features = np.concatenate((features, loaded_features))\n",
    "            labels = np.concatenate((labels, loaded_labels))\n",
    "        else:\n",
    "            features = loaded_features\n",
    "            labels = loaded_labels\n",
    "    return features, labels\n",
    "\n",
    "train_x, train_y = add_folds(data_dir)\n",
    "\n",
    "# use a fold for train-dev\n",
    "valid_fold_name = f'{fold_prefix}7'\n",
    "feature_file = os.path.join(data_dir, valid_fold_name + '_x.npy')\n",
    "labels_file = os.path.join(data_dir, valid_fold_name + '_y.npy')\n",
    "train_dev_x = np.load(feature_file)\n",
    "train_dev_y = np.load(labels_file) \n",
    "\n",
    "# use a fold for dev\n",
    "valid_fold_name = f'{fold_prefix}8'\n",
    "feature_file = os.path.join(data_dir, valid_fold_name + '_x.npy')\n",
    "labels_file = os.path.join(data_dir, valid_fold_name + '_y.npy')\n",
    "dev_x = np.load(feature_file)\n",
    "dev_y = np.load(labels_file) \n",
    "\n",
    "# and a fold for testing\n",
    "test_fold_name = f'{fold_prefix}9'\n",
    "feature_file = os.path.join(data_dir, test_fold_name + '_x.npy')\n",
    "labels_file = os.path.join(data_dir, test_fold_name + '_y.npy')\n",
    "test_x = np.load(feature_file)\n",
    "test_y = np.load(labels_file)\n",
    "\n",
    "\n",
    "# encode\n",
    "train_y = to_categorical(train_y)\n",
    "train_dev_y = to_categorical(train_dev_y)\n",
    "dev_y = to_categorical(dev_y)\n",
    "test_y = to_categorical(test_y)\n",
    "\n",
    "# train_x = np.expand_dims(np.asarray(train_x), axis=3)\n",
    "# train_dev_x = np.expand_dims(np.asarray(train_dev_x), axis=3)\n",
    "# dev_x = np.expand_dims(np.asarray(dev_x), axis=3)\n",
    "# test_x = np.expand_dims(np.asarray(test_x), axis=3)\n",
    "\n",
    "# trim data\n",
    "# last = min([len(train_x), len(train_dev_x), len(dev_x), len(test_x)])\n",
    "# train_dev_x, train_dev_y = train_dev_x, train_dev_y\n",
    "# dev_x, dev_y = dev_x[:last], dev_y[:last]\n",
    "# test_x, test_y = test_x[:last], test_y[:last]\n",
    "\n",
    "print(f\"\\nTraining Set: {train_x.shape}, Labels: {train_y.shape}\")\n",
    "print(f\"Train-dev Set: {train_dev_x.shape}, Labels: {train_dev_y.shape}\")\n",
    "print(f\"Dev Set: {dev_x.shape}, Labels: {dev_y.shape}\")\n",
    "print(f\"Test Set: {test_x.shape}, Labels: {test_y.shape}\")\n"
   ]
  },
  {
   "cell_type": "code",
   "execution_count": 10,
   "metadata": {},
   "outputs": [
    {
     "name": "stdout",
     "output_type": "stream",
     "text": [
      "Building model...\n",
      "_________________________________________________________________\n",
      "Layer (type)                 Output Shape              Param #   \n",
      "=================================================================\n",
      "conv1d_4 (Conv1D)            (None, 48, 128)           17024     \n",
      "_________________________________________________________________\n",
      "batch_normalization_4 (Batch (None, 48, 128)           512       \n",
      "_________________________________________________________________\n",
      "max_pooling1d_4 (MaxPooling1 (None, 24, 128)           0         \n",
      "_________________________________________________________________\n",
      "conv1d_5 (Conv1D)            (None, 22, 64)            24640     \n",
      "_________________________________________________________________\n",
      "batch_normalization_5 (Batch (None, 22, 64)            256       \n",
      "_________________________________________________________________\n",
      "max_pooling1d_5 (MaxPooling1 (None, 11, 64)            0         \n",
      "_________________________________________________________________\n",
      "conv1d_6 (Conv1D)            (None, 9, 24)             4632      \n",
      "_________________________________________________________________\n",
      "batch_normalization_6 (Batch (None, 9, 24)             96        \n",
      "_________________________________________________________________\n",
      "max_pooling1d_6 (MaxPooling1 (None, 4, 24)             0         \n",
      "_________________________________________________________________\n",
      "flatten_2 (Flatten)          (None, 96)                0         \n",
      "_________________________________________________________________\n",
      "dense_3 (Dense)              (None, 124)               12028     \n",
      "_________________________________________________________________\n",
      "dense_4 (Dense)              (None, 3)                 375       \n",
      "=================================================================\n",
      "Total params: 59,563\n",
      "Trainable params: 59,131\n",
      "Non-trainable params: 432\n",
      "_________________________________________________________________\n"
     ]
    }
   ],
   "source": [
    "tf.set_random_seed(0)\n",
    "np.random.seed(0)\n",
    "\n",
    "from keras.models import Sequential\n",
    "from keras.layers import Dense, Dropout, Activation, Flatten\n",
    "from keras.layers import Conv1D, Conv2D, MaxPool1D, MaxPool2D, MaxPooling1D\n",
    "from keras.layers.normalization import BatchNormalization\n",
    "from keras.optimizers import SGD, Adam\n",
    "from keras.callbacks import EarlyStopping\n",
    "from keras.metrics import categorical_accuracy\n",
    "from sklearn.metrics import precision_recall_fscore_support, roc_auc_score\n",
    "from keras.regularizers import l2\n",
    "from keras.utils import np_utils\n",
    "from librosa.util import fix_length\n",
    "\n",
    "bands = 50\n",
    "frames = 1077\n",
    "feature_size = bands * frames\n",
    "num_labels = len(most_freq_egs)\n",
    "input_shape = (bands, frames)\n",
    "# input_shape=(bands, frames, num_channels) # if have delta num_channels = 1\n",
    "\n",
    "\n",
    "def build_model():\n",
    "    model = Sequential()\n",
    "    f_size = 3\n",
    "    model.add(Conv1D(128, f_size, activation='relu', input_shape=(50, 44)))\n",
    "    model.add(BatchNormalization())\n",
    "    model.add(MaxPooling1D(pool_size=2))\n",
    "    model.add(Conv1D(64, f_size, activation='relu'))\n",
    "    model.add(BatchNormalization())\n",
    "    model.add(MaxPooling1D(pool_size=2))\n",
    "#     model.add(Dropout(0.5))\n",
    "    model.add(Conv1D(24, f_size, activation='relu'))\n",
    "    model.add(BatchNormalization())\n",
    "    model.add(MaxPooling1D(pool_size=2))\n",
    "#     model.add(Dropout(0.5))\n",
    "    model.add(Flatten())\n",
    "    model.add(Dense(124, activation='relu', kernel_regularizer=l2(0.001)))\n",
    "#     model.add(Dropout(0.5))\n",
    "    model.add(Dense(num_labels, activation='softmax', kernel_regularizer=l2(0.001)))\n",
    "    model.compile(loss='categorical_crossentropy', metrics=['accuracy'], optimizer='adam')\n",
    "\n",
    "    return model\n",
    "print(\"Building model...\")\n",
    "model = build_model()\n",
    "model.summary()\n"
   ]
  },
  {
   "cell_type": "code",
   "execution_count": 11,
   "metadata": {},
   "outputs": [
    {
     "name": "stdout",
     "output_type": "stream",
     "text": [
      "Training model...\n",
      "Train on 9585 samples, validate on 639 samples\n",
      "Epoch 1/30\n",
      "9585/9585 [==============================] - 11s 1ms/step - loss: 0.5453 - acc: 0.8191 - val_loss: 0.3698 - val_acc: 0.8951\n",
      "Epoch 2/30\n",
      "9585/9585 [==============================] - 10s 996us/step - loss: 0.2120 - acc: 0.9567 - val_loss: 0.3632 - val_acc: 0.9077\n",
      "Epoch 3/30\n",
      "9585/9585 [==============================] - 10s 1ms/step - loss: 0.1215 - acc: 0.9839 - val_loss: 0.2830 - val_acc: 0.9264\n",
      "Epoch 4/30\n",
      "9585/9585 [==============================] - 9s 986us/step - loss: 0.1049 - acc: 0.9858 - val_loss: 0.2659 - val_acc: 0.9374\n",
      "Epoch 5/30\n",
      "9585/9585 [==============================] - 10s 1ms/step - loss: 0.0834 - acc: 0.9884 - val_loss: 0.2851 - val_acc: 0.9374\n",
      "Epoch 6/30\n",
      "9585/9585 [==============================] - 10s 1ms/step - loss: 0.0727 - acc: 0.9902 - val_loss: 0.2378 - val_acc: 0.9452\n",
      "Epoch 7/30\n",
      "9585/9585 [==============================] - 9s 973us/step - loss: 0.0479 - acc: 0.9965 - val_loss: 0.2666 - val_acc: 0.9484\n",
      "Epoch 8/30\n",
      "9585/9585 [==============================] - 9s 930us/step - loss: 0.0413 - acc: 0.9971 - val_loss: 0.2477 - val_acc: 0.9405\n",
      "Epoch 9/30\n",
      "9585/9585 [==============================] - 9s 940us/step - loss: 0.0414 - acc: 0.9956 - val_loss: 0.2281 - val_acc: 0.9531\n",
      "Epoch 10/30\n",
      "9585/9585 [==============================] - 9s 965us/step - loss: 0.0519 - acc: 0.9903 - val_loss: 0.2022 - val_acc: 0.9546\n",
      "Epoch 11/30\n",
      "9585/9585 [==============================] - 9s 979us/step - loss: 0.0319 - acc: 0.9972 - val_loss: 0.2179 - val_acc: 0.9421\n",
      "Epoch 12/30\n",
      "9585/9585 [==============================] - 9s 929us/step - loss: 0.0340 - acc: 0.9955 - val_loss: 0.2306 - val_acc: 0.9421\n",
      "Epoch 13/30\n",
      "9585/9585 [==============================] - 9s 957us/step - loss: 0.0309 - acc: 0.9963 - val_loss: 0.2771 - val_acc: 0.9327\n",
      "Epoch 00013: early stopping\n"
     ]
    }
   ],
   "source": [
    "print(\"Training model...\")\n",
    "earlystop = EarlyStopping(monitor='val_loss', patience=3, verbose=1, mode='auto')\n",
    "history = model.fit(np.concatenate([train_x, train_dev_x]), \n",
    "                    np.concatenate([train_y, train_dev_y]), \n",
    "                    validation_data=(dev_x, dev_y), \n",
    "                    callbacks=[earlystop], \n",
    "                    epochs=30)"
   ]
  },
  {
   "cell_type": "markdown",
   "metadata": {},
   "source": [
    "# K-fold cross validation"
   ]
  },
  {
   "cell_type": "code",
   "execution_count": null,
   "metadata": {
    "scrolled": true
   },
   "outputs": [],
   "source": [
    "from keras.wrappers.scikit_learn import KerasClassifier\n",
    "from sklearn.model_selection import cross_val_score\n",
    "from sklearn.model_selection import KFold\n",
    "\n",
    "num_splits=3\n",
    "cnn_estimator = KerasClassifier(build_fn=build_model, epochs=15, batch_size=50, verbose=1)\n",
    "kfold = KFold(n_splits=num_splits, shuffle=True, random_state=1)\n",
    "results = cross_val_score(cnn_estimator, train_x, train_y, cv=kfold)\n",
    "print(\"{num_splits}-fold xval accuracy: %.2f%% (%.2f%%)\" % (results.mean()*100, results.std()*100))"
   ]
  },
  {
   "cell_type": "markdown",
   "metadata": {},
   "source": [
    "## Examine Predictions"
   ]
  },
  {
   "cell_type": "code",
   "execution_count": 12,
   "metadata": {},
   "outputs": [
    {
     "name": "stdout",
     "output_type": "stream",
     "text": [
      "Evaluating model...\n",
      "[[  1.00000000e+00   1.43649773e-10   1.44615819e-10]\n",
      " [  1.17868251e-06   9.99987841e-01   1.09654211e-05]\n",
      " [  1.00000000e+00   8.87438922e-09   2.90474311e-08]\n",
      " ..., \n",
      " [  3.03644955e-01   2.94879283e-05   6.96325541e-01]\n",
      " [  9.99455631e-01   3.44818225e-04   1.99578993e-04]\n",
      " [  7.98587294e-08   1.10972258e-04   9.99888897e-01]]\n",
      "pred: [0 1 0 0 0 2 0 0 1 0 0 2 0 0 0 1 1 2 0 1 2 1 0 2 0 1 2 1 1 2 1 1 0 1 0 0 1\n",
      " 0 1 2 1 0 1 0 2 2 0 2 0 2 2 0 0 1 2 0 2 2 1 1 0 1 2 0 1 2 1 1 0 2 2 0 2 2\n",
      " 2 0 0 2 0 2 1 2 2 2 0 2 2 0 1 2 2 0 0 1 0 1 0 1 1 0]\n",
      "test: [0 1 0 0 0 2 0 0 1 0 0 2 0 0 0 1 1 2 0 1 0 1 0 2 0 1 2 1 1 2 1 1 0 1 0 0 1\n",
      " 0 1 2 1 0 1 0 2 2 0 2 0 2 2 0 0 1 2 0 2 2 1 1 0 1 2 0 1 2 1 1 0 2 2 0 2 2\n",
      " 2 0 0 2 0 2 1 2 2 2 0 2 2 0 1 2 2 0 0 1 0 1 0 1 1 0]\n",
      "639/639 [==============================] - 0s 544us/step\n",
      "Accuracy = 0.95\n"
     ]
    }
   ],
   "source": [
    "from sklearn.metrics import roc_auc_score\n",
    "\n",
    "def evaluate(model):\n",
    "    y_prob = model.predict_proba(test_x, verbose=0)\n",
    "    print(y_prob)\n",
    "    y_pred = model.predict(test_x)\n",
    "    print(f'pred: {np.argmax(y_pred[:100],axis=1)}')\n",
    "    y_true = np.argmax(test_y)\n",
    "    print(f'test: {np.argmax(test_y[:100],axis=1)}')\n",
    "\n",
    "    # evaluate the model\n",
    "    score, accuracy = model.evaluate(test_x, test_y)\n",
    "    print(\"Accuracy = {:.2f}\".format(accuracy))\n",
    "    \n",
    "    return accuracy\n",
    "\n",
    "# now evaluate the trained model against the unseen test data\n",
    "print(\"Evaluating model...\")\n",
    "acc = evaluate(model)\n"
   ]
  },
  {
   "cell_type": "code",
   "execution_count": null,
   "metadata": {},
   "outputs": [],
   "source": [
    "# import matplotlib.pyplot as plt\n",
    "print(history.history.keys())\n",
    "acc = history.history['acc']\n",
    "val_acc = history.history['val_acc']\n",
    "loss = history.history['loss']\n",
    "val_loss = history.history['val_loss']\n",
    "\n",
    "epochs = range(len(acc))\n",
    "\n",
    "plt.plot(epochs, acc, label='Training acc')\n",
    "plt.plot(epochs, val_acc, label='Validation acc')\n",
    "plt.title('Training and validation accuracy')\n",
    "plt.legend()\n",
    "\n",
    "plt.figure()\n",
    "\n",
    "plt.plot(epochs, loss, label='Training loss')\n",
    "plt.plot(epochs, val_loss, label='Validation loss')\n",
    "plt.title('Training and validation loss')\n",
    "plt.legend()\n",
    "\n",
    "plt.show()"
   ]
  },
  {
   "cell_type": "markdown",
   "metadata": {},
   "source": [
    "# RNN"
   ]
  },
  {
   "cell_type": "code",
   "execution_count": 16,
   "metadata": {},
   "outputs": [
    {
     "name": "stdout",
     "output_type": "stream",
     "text": [
      "Building model...\n",
      "_________________________________________________________________\n",
      "Layer (type)                 Output Shape              Param #   \n",
      "=================================================================\n",
      "conv1d_10 (Conv1D)           (None, 48, 128)           17024     \n",
      "_________________________________________________________________\n",
      "batch_normalization_10 (Batc (None, 48, 128)           512       \n",
      "_________________________________________________________________\n",
      "max_pooling1d_10 (MaxPooling (None, 24, 128)           0         \n",
      "_________________________________________________________________\n",
      "conv1d_11 (Conv1D)           (None, 22, 64)            24640     \n",
      "_________________________________________________________________\n",
      "batch_normalization_11 (Batc (None, 22, 64)            256       \n",
      "_________________________________________________________________\n",
      "max_pooling1d_11 (MaxPooling (None, 11, 64)            0         \n",
      "_________________________________________________________________\n",
      "conv1d_12 (Conv1D)           (None, 9, 24)             4632      \n",
      "_________________________________________________________________\n",
      "batch_normalization_12 (Batc (None, 9, 24)             96        \n",
      "_________________________________________________________________\n",
      "max_pooling1d_12 (MaxPooling (None, 4, 24)             0         \n",
      "_________________________________________________________________\n",
      "flatten_4 (Flatten)          (None, 96)                0         \n",
      "_________________________________________________________________\n",
      "dense_7 (Dense)              (None, 124)               12028     \n",
      "_________________________________________________________________\n",
      "dense_8 (Dense)              (None, 3)                 375       \n",
      "=================================================================\n",
      "Total params: 59,563\n",
      "Trainable params: 59,131\n",
      "Non-trainable params: 432\n",
      "_________________________________________________________________\n"
     ]
    }
   ],
   "source": [
    "\n",
    "\n",
    "def rnn_model():        \n",
    "    model = Sequential()\n",
    "    model.add(LSTM(32, input_shape=(50, 1077), \n",
    "                   recurrent_dropout=0.3, return_sequences=True, kernel_regularizer=l2(0.001)))\n",
    "    model.add(LSTM(32, recurrent_dropout=0.3, return_sequences=True, kernel_regularizer=l2(0.001)))\n",
    "    model.add(LSTM(24, recurrent_dropout=0.3, kernel_regularizer=l2(0.001)))\n",
    "    model.add(Dense(128, activation='relu', kernel_regularizer=l2(0.001)))\n",
    "    model.add(Dropout(0.3))\n",
    "    model.add(Dense(num_labels, activation='softmax'))\n",
    "    model.compile(optimizer=Adam(lr=0.0000001), loss='categorical_crossentropy', metrics=['acc'])\n",
    "    return model\n",
    "\n",
    "print(\"Building model...\")\n",
    "model = build_model()\n",
    "model.summary()\n"
   ]
  },
  {
   "cell_type": "code",
   "execution_count": 18,
   "metadata": {},
   "outputs": [
    {
     "name": "stdout",
     "output_type": "stream",
     "text": [
      "Training model...\n",
      "Train on 9585 samples, validate on 639 samples\n",
      "Epoch 1/16\n",
      "9585/9585 [==============================] - 10s 1ms/step - loss: 0.0329 - acc: 0.9931 - val_loss: 0.1833 - val_acc: 0.9609\n",
      "Epoch 2/16\n",
      "9585/9585 [==============================] - 12s 1ms/step - loss: 0.0236 - acc: 0.9958 - val_loss: 0.2233 - val_acc: 0.9577\n",
      "Epoch 3/16\n",
      "9585/9585 [==============================] - 9s 968us/step - loss: 0.0200 - acc: 0.9970 - val_loss: 0.1739 - val_acc: 0.9609\n",
      "Epoch 4/16\n",
      "9585/9585 [==============================] - 10s 1ms/step - loss: 0.0165 - acc: 0.9985 - val_loss: 0.2006 - val_acc: 0.9609\n",
      "Epoch 5/16\n",
      "9585/9585 [==============================] - 9s 968us/step - loss: 0.0127 - acc: 0.9994 - val_loss: 0.1844 - val_acc: 0.9624\n",
      "Epoch 6/16\n",
      "9585/9585 [==============================] - 10s 1ms/step - loss: 0.0103 - acc: 0.9999 - val_loss: 0.1739 - val_acc: 0.9656\n",
      "Epoch 7/16\n",
      "9585/9585 [==============================] - 9s 959us/step - loss: 0.0086 - acc: 1.0000 - val_loss: 0.1992 - val_acc: 0.9577\n",
      "Epoch 8/16\n",
      "9585/9585 [==============================] - 10s 1ms/step - loss: 0.0078 - acc: 1.0000 - val_loss: 0.1621 - val_acc: 0.9593\n",
      "Epoch 9/16\n",
      "9585/9585 [==============================] - 9s 964us/step - loss: 0.0071 - acc: 1.0000 - val_loss: 0.1464 - val_acc: 0.9671\n",
      "Epoch 10/16\n",
      "9585/9585 [==============================] - 9s 919us/step - loss: 0.0068 - acc: 1.0000 - val_loss: 0.1631 - val_acc: 0.9609\n",
      "Epoch 11/16\n",
      "9585/9585 [==============================] - 9s 936us/step - loss: 0.0065 - acc: 1.0000 - val_loss: 0.1659 - val_acc: 0.9593\n",
      "Epoch 12/16\n",
      "9585/9585 [==============================] - 9s 923us/step - loss: 0.0064 - acc: 1.0000 - val_loss: 0.1453 - val_acc: 0.9671\n",
      "Epoch 13/16\n",
      "9585/9585 [==============================] - 9s 953us/step - loss: 0.0060 - acc: 1.0000 - val_loss: 0.1532 - val_acc: 0.9609\n",
      "Epoch 14/16\n",
      "9585/9585 [==============================] - 9s 940us/step - loss: 0.0057 - acc: 1.0000 - val_loss: 0.1551 - val_acc: 0.9609\n",
      "Epoch 15/16\n",
      "9585/9585 [==============================] - 9s 938us/step - loss: 0.0054 - acc: 1.0000 - val_loss: 0.1551 - val_acc: 0.9562\n",
      "Epoch 00015: early stopping\n"
     ]
    }
   ],
   "source": [
    "print(\"Training model...\")\n",
    "earlystop = EarlyStopping(monitor='val_loss', patience=3, verbose=1, mode='auto')\n",
    "history = model.fit(np.concatenate([train_x, train_dev_x]), \n",
    "                    np.concatenate([train_y, train_dev_y]), \n",
    "                    validation_data=(dev_x, dev_y), \n",
    "                    callbacks=[earlystop], \n",
    "                    epochs=16)"
   ]
  },
  {
   "cell_type": "code",
   "execution_count": 19,
   "metadata": {},
   "outputs": [
    {
     "name": "stdout",
     "output_type": "stream",
     "text": [
      "Evaluating model...\n",
      "[[  9.99981165e-01   8.53080292e-06   1.02381446e-05]\n",
      " [  2.26778375e-05   9.99959826e-01   1.75069181e-05]\n",
      " [  9.99796093e-01   9.90396220e-05   1.04884486e-04]\n",
      " ..., \n",
      " [  2.53954495e-04   3.26502282e-04   9.99419570e-01]\n",
      " [  9.98505950e-01   4.66120633e-04   1.02796080e-03]\n",
      " [  3.27962516e-05   4.45059995e-04   9.99522209e-01]]\n",
      "pred: [0 1 0 0 0 2 0 0 1 0 0 2 0 0 0 1 1 2 0 1 2 1 0 2 0 1 2 1 1 2 1 1 0 1 0 0 1\n",
      " 0 1 2 1 0 1 0 2 2 0 2 0 2 2 0 0 1 2 0 2 2 1 1 0 1 2 0 1 2 1 1 0 2 2 0 1 2\n",
      " 2 0 0 2 0 2 1 2 2 1 0 2 2 0 1 2 2 0 0 1 0 1 0 1 1 0]\n",
      "test: [0 1 0 0 0 2 0 0 1 0 0 2 0 0 0 1 1 2 0 1 0 1 0 2 0 1 2 1 1 2 1 1 0 1 0 0 1\n",
      " 0 1 2 1 0 1 0 2 2 0 2 0 2 2 0 0 1 2 0 2 2 1 1 0 1 2 0 1 2 1 1 0 2 2 0 2 2\n",
      " 2 0 0 2 0 2 1 2 2 2 0 2 2 0 1 2 2 0 0 1 0 1 0 1 1 0]\n",
      "639/639 [==============================] - 0s 466us/step\n",
      "Accuracy = 0.96\n"
     ]
    }
   ],
   "source": [
    "from sklearn.metrics import roc_auc_score\n",
    "\n",
    "def evaluate(model):\n",
    "    y_prob = model.predict_proba(test_x, verbose=0)\n",
    "    print(y_prob)\n",
    "    y_pred = model.predict(test_x)\n",
    "    print(f'pred: {np.argmax(y_pred[:100],axis=1)}')\n",
    "    y_true = np.argmax(test_y)\n",
    "    print(f'test: {np.argmax(test_y[:100],axis=1)}')\n",
    "\n",
    "    # evaluate the model\n",
    "    score, accuracy = model.evaluate(test_x, test_y)\n",
    "    print(\"Accuracy = {:.2f}\".format(accuracy))\n",
    "    \n",
    "    return accuracy\n",
    "\n",
    "# now evaluate the trained model against the unseen test data\n",
    "print(\"Evaluating model...\")\n",
    "acc = evaluate(model)\n"
   ]
  },
  {
   "cell_type": "code",
   "execution_count": 20,
   "metadata": {},
   "outputs": [
    {
     "name": "stdout",
     "output_type": "stream",
     "text": [
      "dict_keys(['val_loss', 'val_acc', 'loss', 'acc'])\n"
     ]
    },
    {
     "data": {
      "image/png": "[encoded data removed]",
      "text/plain": [
       "<matplotlib.figure.Figure at 0x123360a20>"
      ]
     },
     "metadata": {},
     "output_type": "display_data"
    },
    {
     "data": {
      "image/png": "[encoded data removed]",
      "text/plain": [
       "<matplotlib.figure.Figure at 0x123375748>"
      ]
     },
     "metadata": {},
     "output_type": "display_data"
    }
   ],
   "source": [
    "# import matplotlib.pyplot as plt\n",
    "print(history.history.keys())\n",
    "acc = history.history['acc']\n",
    "val_acc = history.history['val_acc']\n",
    "loss = history.history['loss']\n",
    "val_loss = history.history['val_loss']\n",
    "\n",
    "epochs = range(len(acc))\n",
    "\n",
    "plt.plot(epochs, acc, label='Training acc')\n",
    "plt.plot(epochs, val_acc, label='Validation acc')\n",
    "plt.title('Training and validation accuracy')\n",
    "plt.legend()\n",
    "\n",
    "plt.figure()\n",
    "\n",
    "plt.plot(epochs, loss, label='Training loss')\n",
    "plt.plot(epochs, val_loss, label='Validation loss')\n",
    "plt.title('Training and validation loss')\n",
    "plt.legend()\n",
    "\n",
    "plt.show()"
   ]
  },
  {
   "cell_type": "code",
   "execution_count": 21,
   "metadata": {},
   "outputs": [
    {
     "name": "stdout",
     "output_type": "stream",
     "text": [
      "Building model...\n",
      "_________________________________________________________________\n",
      "Layer (type)                 Output Shape              Param #   \n",
      "=================================================================\n",
      "conv1d_13 (Conv1D)           (None, 48, 128)           17024     \n",
      "_________________________________________________________________\n",
      "batch_normalization_13 (Batc (None, 48, 128)           512       \n",
      "_________________________________________________________________\n",
      "max_pooling1d_13 (MaxPooling (None, 24, 128)           0         \n",
      "_________________________________________________________________\n",
      "conv1d_14 (Conv1D)           (None, 22, 64)            24640     \n",
      "_________________________________________________________________\n",
      "batch_normalization_14 (Batc (None, 22, 64)            256       \n",
      "_________________________________________________________________\n",
      "max_pooling1d_14 (MaxPooling (None, 11, 64)            0         \n",
      "_________________________________________________________________\n",
      "conv1d_15 (Conv1D)           (None, 9, 24)             4632      \n",
      "_________________________________________________________________\n",
      "batch_normalization_15 (Batc (None, 9, 24)             96        \n",
      "_________________________________________________________________\n",
      "max_pooling1d_15 (MaxPooling (None, 4, 24)             0         \n",
      "_________________________________________________________________\n",
      "flatten_5 (Flatten)          (None, 96)                0         \n",
      "_________________________________________________________________\n",
      "dense_9 (Dense)              (None, 124)               12028     \n",
      "_________________________________________________________________\n",
      "dense_10 (Dense)             (None, 3)                 375       \n",
      "=================================================================\n",
      "Total params: 59,563\n",
      "Trainable params: 59,131\n",
      "Non-trainable params: 432\n",
      "_________________________________________________________________\n"
     ]
    }
   ],
   "source": [
    "def mlp_model():        \n",
    "    model = Sequential()\n",
    "    model.add(Dense(128, activation='relu', kernel_regularizer=l2(0.001)))\n",
    "    model.add(Dropout(0.3))\n",
    "    model.add(Dense(128, activation='relu', kernel_regularizer=l2(0.001)))\n",
    "    model.add(Dropout(0.3))\n",
    "    model.add(Dense(128, activation='relu', kernel_regularizer=l2(0.001)))\n",
    "    model.add(Dropout(0.3))\n",
    "    model.add(Dense(num_labels, activation='softmax'))\n",
    "    model.compile(optimizer=Adam(lr=0.0000001), loss='categorical_crossentropy', metrics=['acc'])\n",
    "    return model\n",
    "\n",
    "print(\"Building model...\")\n",
    "model = build_model()\n",
    "model.summary()\n"
   ]
  },
  {
   "cell_type": "code",
   "execution_count": 22,
   "metadata": {},
   "outputs": [
    {
     "name": "stdout",
     "output_type": "stream",
     "text": [
      "Training model...\n",
      "Train on 9585 samples, validate on 639 samples\n",
      "Epoch 1/16\n",
      "9585/9585 [==============================] - 11s 1ms/step - loss: 0.5475 - acc: 0.8146 - val_loss: 0.3844 - val_acc: 0.8983\n",
      "Epoch 2/16\n",
      "9585/9585 [==============================] - 9s 922us/step - loss: 0.2124 - acc: 0.9581 - val_loss: 0.3303 - val_acc: 0.9139\n",
      "Epoch 3/16\n",
      "9585/9585 [==============================] - 9s 950us/step - loss: 0.1351 - acc: 0.9802 - val_loss: 0.2726 - val_acc: 0.9343\n",
      "Epoch 4/16\n",
      "9585/9585 [==============================] - 9s 976us/step - loss: 0.1028 - acc: 0.9862 - val_loss: 0.2630 - val_acc: 0.9374\n",
      "Epoch 5/16\n",
      "9585/9585 [==============================] - 9s 946us/step - loss: 0.0844 - acc: 0.9901 - val_loss: 0.2442 - val_acc: 0.9358\n",
      "Epoch 6/16\n",
      "9585/9585 [==============================] - 9s 959us/step - loss: 0.0630 - acc: 0.9947 - val_loss: 0.2634 - val_acc: 0.9358\n",
      "Epoch 7/16\n",
      "9585/9585 [==============================] - 9s 944us/step - loss: 0.0487 - acc: 0.9968 - val_loss: 0.2702 - val_acc: 0.9218\n",
      "Epoch 8/16\n",
      "9585/9585 [==============================] - 10s 1ms/step - loss: 0.0573 - acc: 0.9904 - val_loss: 0.2851 - val_acc: 0.9296\n",
      "Epoch 00008: early stopping\n"
     ]
    }
   ],
   "source": [
    "print(\"Training model...\")\n",
    "earlystop = EarlyStopping(monitor='val_loss', patience=3, verbose=1, mode='auto')\n",
    "history = model.fit(np.concatenate([train_x, train_dev_x]), \n",
    "                    np.concatenate([train_y, train_dev_y]), \n",
    "                    validation_data=(dev_x, dev_y), \n",
    "                    callbacks=[earlystop], \n",
    "                    epochs=16)"
   ]
  },
  {
   "cell_type": "code",
   "execution_count": 23,
   "metadata": {},
   "outputs": [
    {
     "name": "stdout",
     "output_type": "stream",
     "text": [
      "Evaluating model...\n",
      "[[  1.00000000e+00   5.63369273e-12   3.49122224e-11]\n",
      " [  3.71668676e-07   9.99999523e-01   8.21345054e-08]\n",
      " [  9.99999523e-01   8.59577725e-08   3.55601742e-07]\n",
      " ..., \n",
      " [  6.92226862e-08   2.53749821e-08   9.99999881e-01]\n",
      " [  9.99956846e-01   6.87520105e-06   3.62594037e-05]\n",
      " [  3.84246277e-06   9.42848772e-02   9.05711234e-01]]\n",
      "pred: [0 1 0 0 0 2 0 0 1 0 0 2 0 0 0 1 1 2 0 1 0 1 0 2 0 1 2 1 1 2 1 1 2 1 0 0 1\n",
      " 0 1 2 1 0 1 0 2 2 0 2 0 2 2 0 0 1 2 0 2 2 1 1 0 1 2 0 1 2 1 1 0 2 2 0 2 2\n",
      " 2 0 0 1 0 2 1 2 2 1 0 2 2 0 1 0 0 0 0 1 0 1 0 1 1 0]\n",
      "test: [0 1 0 0 0 2 0 0 1 0 0 2 0 0 0 1 1 2 0 1 0 1 0 2 0 1 2 1 1 2 1 1 0 1 0 0 1\n",
      " 0 1 2 1 0 1 0 2 2 0 2 0 2 2 0 0 1 2 0 2 2 1 1 0 1 2 0 1 2 1 1 0 2 2 0 2 2\n",
      " 2 0 0 2 0 2 1 2 2 2 0 2 2 0 1 2 2 0 0 1 0 1 0 1 1 0]\n",
      "639/639 [==============================] - 0s 433us/step\n",
      "Accuracy = 0.94\n"
     ]
    }
   ],
   "source": [
    "from sklearn.metrics import roc_auc_score\n",
    "\n",
    "def evaluate(model):\n",
    "    y_prob = model.predict_proba(test_x, verbose=0)\n",
    "    print(y_prob)\n",
    "    y_pred = model.predict(test_x)\n",
    "    print(f'pred: {np.argmax(y_pred[:100],axis=1)}')\n",
    "    y_true = np.argmax(test_y)\n",
    "    print(f'test: {np.argmax(test_y[:100],axis=1)}')\n",
    "\n",
    "    # evaluate the model\n",
    "    score, accuracy = model.evaluate(test_x, test_y)\n",
    "    print(\"Accuracy = {:.2f}\".format(accuracy))\n",
    "    \n",
    "    return accuracy\n",
    "\n",
    "# now evaluate the trained model against the unseen test data\n",
    "print(\"Evaluating model...\")\n",
    "acc = evaluate(model)\n"
   ]
  },
  {
   "cell_type": "code",
   "execution_count": null,
   "metadata": {},
   "outputs": [],
   "source": [
    "# import matplotlib.pyplot as plt\n",
    "print(history.history.keys())\n",
    "acc = history.history['acc']\n",
    "val_acc = history.history['val_acc']\n",
    "loss = history.history['loss']\n",
    "val_loss = history.history['val_loss']\n",
    "\n",
    "epochs = range(len(acc))\n",
    "\n",
    "plt.plot(epochs, acc, label='Training acc')\n",
    "plt.plot(epochs, val_acc, label='Validation acc')\n",
    "plt.title('Training and validation accuracy')\n",
    "plt.legend()\n",
    "\n",
    "plt.figure()\n",
    "\n",
    "plt.plot(epochs, loss, label='Training loss')\n",
    "plt.plot(epochs, val_loss, label='Validation loss')\n",
    "plt.title('Training and validation loss')\n",
    "plt.legend()\n",
    "\n",
    "plt.show()"
   ]
  },
  {
   "cell_type": "markdown",
   "metadata": {
    "collapsed": true
   },
   "source": [
    "## Train SVM"
   ]
  },
  {
   "cell_type": "code",
   "execution_count": 35,
   "metadata": {},
   "outputs": [],
   "source": [
    "C_params = [0.1, 10, 25, 50, 100, 200, 500]\n",
    "accuracies = [0, 0, 0, 0, 0, 0, 0]"
   ]
  },
  {
   "cell_type": "code",
   "execution_count": 36,
   "metadata": {},
   "outputs": [
    {
     "data": {
      "text/plain": [
       "array([1, 1, 1, ..., 2, 2, 2])"
      ]
     },
     "execution_count": 36,
     "metadata": {},
     "output_type": "execute_result"
    }
   ],
   "source": [
    "np.argmax(train_y, axis=1)"
   ]
  },
  {
   "cell_type": "code",
   "execution_count": 37,
   "metadata": {},
   "outputs": [
    {
     "ename": "KeyboardInterrupt",
     "evalue": "",
     "output_type": "error",
     "traceback": [
      "\u001b[0;31m---------------------------------------------------------------------------\u001b[0m",
      "\u001b[0;31mKeyboardInterrupt\u001b[0m                         Traceback (most recent call last)",
      "\u001b[0;32m<ipython-input-37-5ccdb93f881a>\u001b[0m in \u001b[0;36m<module>\u001b[0;34m()\u001b[0m\n\u001b[1;32m      8\u001b[0m \u001b[0;32mfor\u001b[0m \u001b[0midx\u001b[0m\u001b[0;34m,\u001b[0m \u001b[0mC_param\u001b[0m \u001b[0;32min\u001b[0m \u001b[0menumerate\u001b[0m\u001b[0;34m(\u001b[0m\u001b[0mC_params\u001b[0m\u001b[0;34m)\u001b[0m\u001b[0;34m:\u001b[0m\u001b[0;34m\u001b[0m\u001b[0m\n\u001b[1;32m      9\u001b[0m     \u001b[0msvm_rbf\u001b[0m \u001b[0;34m=\u001b[0m \u001b[0mSVC\u001b[0m\u001b[0;34m(\u001b[0m\u001b[0mC\u001b[0m\u001b[0;34m=\u001b[0m\u001b[0mC_param\u001b[0m\u001b[0;34m,\u001b[0m \u001b[0mkernel\u001b[0m\u001b[0;34m=\u001b[0m\u001b[0;34m'rbf'\u001b[0m\u001b[0;34m,\u001b[0m \u001b[0mprobability\u001b[0m\u001b[0;34m=\u001b[0m\u001b[0;32mTrue\u001b[0m\u001b[0;34m)\u001b[0m\u001b[0;34m\u001b[0m\u001b[0m\n\u001b[0;32m---> 10\u001b[0;31m     \u001b[0msvm_rbf\u001b[0m\u001b[0;34m.\u001b[0m\u001b[0mfit\u001b[0m\u001b[0;34m(\u001b[0m\u001b[0mtrain_plus_dev_x\u001b[0m\u001b[0;34m.\u001b[0m\u001b[0mreshape\u001b[0m\u001b[0;34m(\u001b[0m\u001b[0mtrain_plus_dev_x\u001b[0m\u001b[0;34m.\u001b[0m\u001b[0mshape\u001b[0m\u001b[0;34m[\u001b[0m\u001b[0;36m0\u001b[0m\u001b[0;34m]\u001b[0m\u001b[0;34m,\u001b[0m \u001b[0mtrain_plus_dev_x\u001b[0m\u001b[0;34m.\u001b[0m\u001b[0mshape\u001b[0m\u001b[0;34m[\u001b[0m\u001b[0;36m1\u001b[0m\u001b[0;34m]\u001b[0m\u001b[0;34m*\u001b[0m\u001b[0mtrain_plus_dev_x\u001b[0m\u001b[0;34m.\u001b[0m\u001b[0mshape\u001b[0m\u001b[0;34m[\u001b[0m\u001b[0;36m2\u001b[0m\u001b[0;34m]\u001b[0m\u001b[0;34m)\u001b[0m\u001b[0;34m,\u001b[0m \u001b[0mnp\u001b[0m\u001b[0;34m.\u001b[0m\u001b[0margmax\u001b[0m\u001b[0;34m(\u001b[0m\u001b[0mtrain_plus_dev_y\u001b[0m\u001b[0;34m,\u001b[0m \u001b[0maxis\u001b[0m\u001b[0;34m=\u001b[0m\u001b[0;36m1\u001b[0m\u001b[0;34m)\u001b[0m\u001b[0;34m)\u001b[0m\u001b[0;34m\u001b[0m\u001b[0m\n\u001b[0m\u001b[1;32m     11\u001b[0m     \u001b[0my_test_predict\u001b[0m \u001b[0;34m=\u001b[0m \u001b[0msvm_rbf\u001b[0m\u001b[0;34m.\u001b[0m\u001b[0mpredict\u001b[0m\u001b[0;34m(\u001b[0m\u001b[0mtest_x\u001b[0m\u001b[0;34m.\u001b[0m\u001b[0mreshape\u001b[0m\u001b[0;34m(\u001b[0m\u001b[0mtest_x\u001b[0m\u001b[0;34m.\u001b[0m\u001b[0mshape\u001b[0m\u001b[0;34m[\u001b[0m\u001b[0;36m0\u001b[0m\u001b[0;34m]\u001b[0m\u001b[0;34m,\u001b[0m \u001b[0mtest_x\u001b[0m\u001b[0;34m.\u001b[0m\u001b[0mshape\u001b[0m\u001b[0;34m[\u001b[0m\u001b[0;36m1\u001b[0m\u001b[0;34m]\u001b[0m\u001b[0;34m*\u001b[0m\u001b[0mtest_x\u001b[0m\u001b[0;34m.\u001b[0m\u001b[0mshape\u001b[0m\u001b[0;34m[\u001b[0m\u001b[0;36m2\u001b[0m\u001b[0;34m]\u001b[0m\u001b[0;34m)\u001b[0m\u001b[0;34m)\u001b[0m\u001b[0;34m\u001b[0m\u001b[0m\n\u001b[1;32m     12\u001b[0m     \u001b[0maccuracies\u001b[0m\u001b[0;34m[\u001b[0m\u001b[0midx\u001b[0m\u001b[0;34m]\u001b[0m \u001b[0;34m=\u001b[0m \u001b[0maccuracy_score\u001b[0m\u001b[0;34m(\u001b[0m\u001b[0my_true\u001b[0m\u001b[0;34m=\u001b[0m\u001b[0mnp\u001b[0m\u001b[0;34m.\u001b[0m\u001b[0margmax\u001b[0m\u001b[0;34m(\u001b[0m\u001b[0mtest_y\u001b[0m\u001b[0;34m,\u001b[0m\u001b[0maxis\u001b[0m\u001b[0;34m=\u001b[0m\u001b[0;36m1\u001b[0m\u001b[0;34m)\u001b[0m\u001b[0;34m,\u001b[0m \u001b[0my_pred\u001b[0m\u001b[0;34m=\u001b[0m\u001b[0my_test_predict\u001b[0m\u001b[0;34m)\u001b[0m\u001b[0;34m\u001b[0m\u001b[0m\n",
      "\u001b[0;32m/usr/local/lib/python3.6/site-packages/sklearn/svm/base.py\u001b[0m in \u001b[0;36mfit\u001b[0;34m(self, X, y, sample_weight)\u001b[0m\n\u001b[1;32m    185\u001b[0m \u001b[0;34m\u001b[0m\u001b[0m\n\u001b[1;32m    186\u001b[0m         \u001b[0mseed\u001b[0m \u001b[0;34m=\u001b[0m \u001b[0mrnd\u001b[0m\u001b[0;34m.\u001b[0m\u001b[0mrandint\u001b[0m\u001b[0;34m(\u001b[0m\u001b[0mnp\u001b[0m\u001b[0;34m.\u001b[0m\u001b[0miinfo\u001b[0m\u001b[0;34m(\u001b[0m\u001b[0;34m'i'\u001b[0m\u001b[0;34m)\u001b[0m\u001b[0;34m.\u001b[0m\u001b[0mmax\u001b[0m\u001b[0;34m)\u001b[0m\u001b[0;34m\u001b[0m\u001b[0m\n\u001b[0;32m--> 187\u001b[0;31m         \u001b[0mfit\u001b[0m\u001b[0;34m(\u001b[0m\u001b[0mX\u001b[0m\u001b[0;34m,\u001b[0m \u001b[0my\u001b[0m\u001b[0;34m,\u001b[0m \u001b[0msample_weight\u001b[0m\u001b[0;34m,\u001b[0m \u001b[0msolver_type\u001b[0m\u001b[0;34m,\u001b[0m \u001b[0mkernel\u001b[0m\u001b[0;34m,\u001b[0m \u001b[0mrandom_seed\u001b[0m\u001b[0;34m=\u001b[0m\u001b[0mseed\u001b[0m\u001b[0;34m)\u001b[0m\u001b[0;34m\u001b[0m\u001b[0m\n\u001b[0m\u001b[1;32m    188\u001b[0m         \u001b[0;31m# see comment on the other call to np.iinfo in this file\u001b[0m\u001b[0;34m\u001b[0m\u001b[0;34m\u001b[0m\u001b[0m\n\u001b[1;32m    189\u001b[0m \u001b[0;34m\u001b[0m\u001b[0m\n",
      "\u001b[0;32m/usr/local/lib/python3.6/site-packages/sklearn/svm/base.py\u001b[0m in \u001b[0;36m_dense_fit\u001b[0;34m(self, X, y, sample_weight, solver_type, kernel, random_seed)\u001b[0m\n\u001b[1;32m    252\u001b[0m                 \u001b[0mcache_size\u001b[0m\u001b[0;34m=\u001b[0m\u001b[0mself\u001b[0m\u001b[0;34m.\u001b[0m\u001b[0mcache_size\u001b[0m\u001b[0;34m,\u001b[0m \u001b[0mcoef0\u001b[0m\u001b[0;34m=\u001b[0m\u001b[0mself\u001b[0m\u001b[0;34m.\u001b[0m\u001b[0mcoef0\u001b[0m\u001b[0;34m,\u001b[0m\u001b[0;34m\u001b[0m\u001b[0m\n\u001b[1;32m    253\u001b[0m                 \u001b[0mgamma\u001b[0m\u001b[0;34m=\u001b[0m\u001b[0mself\u001b[0m\u001b[0;34m.\u001b[0m\u001b[0m_gamma\u001b[0m\u001b[0;34m,\u001b[0m \u001b[0mepsilon\u001b[0m\u001b[0;34m=\u001b[0m\u001b[0mself\u001b[0m\u001b[0;34m.\u001b[0m\u001b[0mepsilon\u001b[0m\u001b[0;34m,\u001b[0m\u001b[0;34m\u001b[0m\u001b[0m\n\u001b[0;32m--> 254\u001b[0;31m                 max_iter=self.max_iter, random_seed=random_seed)\n\u001b[0m\u001b[1;32m    255\u001b[0m \u001b[0;34m\u001b[0m\u001b[0m\n\u001b[1;32m    256\u001b[0m         \u001b[0mself\u001b[0m\u001b[0;34m.\u001b[0m\u001b[0m_warn_from_fit_status\u001b[0m\u001b[0;34m(\u001b[0m\u001b[0;34m)\u001b[0m\u001b[0;34m\u001b[0m\u001b[0m\n",
      "\u001b[0;31mKeyboardInterrupt\u001b[0m: "
     ]
    }
   ],
   "source": [
    "from sklearn.svm import SVC\n",
    "from sklearn.ensemble import RandomForestClassifier\n",
    "from sklearn.metrics import accuracy_score\n",
    "\n",
    "train_plus_dev_x = np.concatenate([train_x, train_dev_x])\n",
    "train_plus_dev_y = np.concatenate([train_y, train_dev_y])\n",
    "\n",
    "for idx, C_param in enumerate(C_params):\n",
    "    svm_rbf = SVC(C=C_param, kernel='rbf', probability=True)\n",
    "    svm_rbf.fit(train_plus_dev_x.reshape(train_plus_dev_x.shape[0], train_plus_dev_x.shape[1]*train_plus_dev_x.shape[2]), np.argmax(train_plus_dev_y, axis=1))\n",
    "    y_test_predict = svm_rbf.predict(test_x.reshape(test_x.shape[0], test_x.shape[1]*test_x.shape[2]))\n",
    "    accuracies[idx] = accuracy_score(y_true=np.argmax(test_y,axis=1), y_pred=y_test_predict)\n",
    "    print(accuracies[idx])\n",
    "print(accuracies)"
   ]
  },
  {
   "cell_type": "markdown",
   "metadata": {},
   "source": [
    "## Train Random Forest"
   ]
  },
  {
   "cell_type": "code",
   "execution_count": 39,
   "metadata": {},
   "outputs": [],
   "source": [
    "C_params = [10, 25, 50, 100, 200, 500]\n",
    "accuracies = [0, 0, 0, 0, 0, 0]"
   ]
  },
  {
   "cell_type": "code",
   "execution_count": 34,
   "metadata": {},
   "outputs": [
    {
     "name": "stdout",
     "output_type": "stream",
     "text": [
      "0.796557120501\n",
      "0.881064162754\n",
      "0.892018779343\n",
      "0.904538341158\n",
      "0.921752738654\n",
      "0.926447574335\n",
      "[0.79655712050078242, 0.88106416275430355, 0.892018779342723, 0.90453834115805942, 0.92175273865414709, 0.92644757433489833]\n"
     ]
    }
   ],
   "source": [
    "from sklearn.ensemble import RandomForestClassifier\n",
    "from sklearn.metrics import accuracy_score\n",
    "\n",
    "train_plus_dev_x = np.concatenate([train_x, train_dev_x])\n",
    "train_plus_dev_y = np.concatenate([train_y, train_dev_y])\n",
    "\n",
    "for idx, C_param in enumerate(C_params):\n",
    "    rf = RandomForestClassifier(n_estimators=C_param)\n",
    "    rf.fit(train_plus_dev_x.reshape(train_plus_dev_x.shape[0], train_plus_dev_x.shape[1]*train_plus_dev_x.shape[2]), np.argmax(train_plus_dev_y, axis=1))\n",
    "    y_test_predict = rf.predict(test_x.reshape(test_x.shape[0], test_x.shape[1]*test_x.shape[2]))\n",
    "    accuracies[idx] = accuracy_score(y_true=np.argmax(test_y,axis=1), y_pred=y_test_predict)\n",
    "    print(accuracies[idx])\n",
    "print(accuracies)"
   ]
  },
  {
   "cell_type": "markdown",
   "metadata": {},
   "source": [
    "## Train Gradient Boosting"
   ]
  },
  {
   "cell_type": "code",
   "execution_count": 42,
   "metadata": {},
   "outputs": [
    {
     "name": "stdout",
     "output_type": "stream",
     "text": [
      "0.926447574335\n",
      "0.926447574335\n"
     ]
    },
    {
     "ename": "KeyboardInterrupt",
     "evalue": "",
     "output_type": "error",
     "traceback": [
      "\u001b[0;31m---------------------------------------------------------------------------\u001b[0m",
      "\u001b[0;31mKeyboardInterrupt\u001b[0m                         Traceback (most recent call last)",
      "\u001b[0;32m<ipython-input-42-645f99bc4b3e>\u001b[0m in \u001b[0;36m<module>\u001b[0;34m()\u001b[0m\n\u001b[1;32m      4\u001b[0m \u001b[0;32mfor\u001b[0m \u001b[0midx\u001b[0m\u001b[0;34m,\u001b[0m \u001b[0mC_param\u001b[0m \u001b[0;32min\u001b[0m \u001b[0menumerate\u001b[0m\u001b[0;34m(\u001b[0m\u001b[0mC_params\u001b[0m\u001b[0;34m)\u001b[0m\u001b[0;34m:\u001b[0m\u001b[0;34m\u001b[0m\u001b[0m\n\u001b[1;32m      5\u001b[0m     \u001b[0mgb\u001b[0m \u001b[0;34m=\u001b[0m \u001b[0mGradientBoostingClassifier\u001b[0m\u001b[0;34m(\u001b[0m\u001b[0mn_estimators\u001b[0m\u001b[0;34m=\u001b[0m\u001b[0mC_param\u001b[0m\u001b[0;34m)\u001b[0m\u001b[0;34m\u001b[0m\u001b[0m\n\u001b[0;32m----> 6\u001b[0;31m     \u001b[0mgb\u001b[0m\u001b[0;34m.\u001b[0m\u001b[0mfit\u001b[0m\u001b[0;34m(\u001b[0m\u001b[0mtrain_plus_dev_x\u001b[0m\u001b[0;34m.\u001b[0m\u001b[0mreshape\u001b[0m\u001b[0;34m(\u001b[0m\u001b[0mtrain_plus_dev_x\u001b[0m\u001b[0;34m.\u001b[0m\u001b[0mshape\u001b[0m\u001b[0;34m[\u001b[0m\u001b[0;36m0\u001b[0m\u001b[0;34m]\u001b[0m\u001b[0;34m,\u001b[0m \u001b[0mtrain_plus_dev_x\u001b[0m\u001b[0;34m.\u001b[0m\u001b[0mshape\u001b[0m\u001b[0;34m[\u001b[0m\u001b[0;36m1\u001b[0m\u001b[0;34m]\u001b[0m\u001b[0;34m*\u001b[0m\u001b[0mtrain_plus_dev_x\u001b[0m\u001b[0;34m.\u001b[0m\u001b[0mshape\u001b[0m\u001b[0;34m[\u001b[0m\u001b[0;36m2\u001b[0m\u001b[0;34m]\u001b[0m\u001b[0;34m)\u001b[0m\u001b[0;34m,\u001b[0m \u001b[0mnp\u001b[0m\u001b[0;34m.\u001b[0m\u001b[0margmax\u001b[0m\u001b[0;34m(\u001b[0m\u001b[0mtrain_plus_dev_y\u001b[0m\u001b[0;34m,\u001b[0m \u001b[0maxis\u001b[0m\u001b[0;34m=\u001b[0m\u001b[0;36m1\u001b[0m\u001b[0;34m)\u001b[0m\u001b[0;34m)\u001b[0m\u001b[0;34m\u001b[0m\u001b[0m\n\u001b[0m\u001b[1;32m      7\u001b[0m     \u001b[0my_test_predict\u001b[0m \u001b[0;34m=\u001b[0m \u001b[0mrf\u001b[0m\u001b[0;34m.\u001b[0m\u001b[0mpredict\u001b[0m\u001b[0;34m(\u001b[0m\u001b[0mtest_x\u001b[0m\u001b[0;34m.\u001b[0m\u001b[0mreshape\u001b[0m\u001b[0;34m(\u001b[0m\u001b[0mtest_x\u001b[0m\u001b[0;34m.\u001b[0m\u001b[0mshape\u001b[0m\u001b[0;34m[\u001b[0m\u001b[0;36m0\u001b[0m\u001b[0;34m]\u001b[0m\u001b[0;34m,\u001b[0m \u001b[0mtest_x\u001b[0m\u001b[0;34m.\u001b[0m\u001b[0mshape\u001b[0m\u001b[0;34m[\u001b[0m\u001b[0;36m1\u001b[0m\u001b[0;34m]\u001b[0m\u001b[0;34m*\u001b[0m\u001b[0mtest_x\u001b[0m\u001b[0;34m.\u001b[0m\u001b[0mshape\u001b[0m\u001b[0;34m[\u001b[0m\u001b[0;36m2\u001b[0m\u001b[0;34m]\u001b[0m\u001b[0;34m)\u001b[0m\u001b[0;34m)\u001b[0m\u001b[0;34m\u001b[0m\u001b[0m\n\u001b[1;32m      8\u001b[0m     \u001b[0maccuracies\u001b[0m\u001b[0;34m[\u001b[0m\u001b[0midx\u001b[0m\u001b[0;34m]\u001b[0m \u001b[0;34m=\u001b[0m \u001b[0maccuracy_score\u001b[0m\u001b[0;34m(\u001b[0m\u001b[0my_true\u001b[0m\u001b[0;34m=\u001b[0m\u001b[0mnp\u001b[0m\u001b[0;34m.\u001b[0m\u001b[0margmax\u001b[0m\u001b[0;34m(\u001b[0m\u001b[0mtest_y\u001b[0m\u001b[0;34m,\u001b[0m\u001b[0maxis\u001b[0m\u001b[0;34m=\u001b[0m\u001b[0;36m1\u001b[0m\u001b[0;34m)\u001b[0m\u001b[0;34m,\u001b[0m \u001b[0my_pred\u001b[0m\u001b[0;34m=\u001b[0m\u001b[0my_test_predict\u001b[0m\u001b[0;34m)\u001b[0m\u001b[0;34m\u001b[0m\u001b[0m\n",
      "\u001b[0;32m/usr/local/lib/python3.6/site-packages/sklearn/ensemble/gradient_boosting.py\u001b[0m in \u001b[0;36mfit\u001b[0;34m(self, X, y, sample_weight, monitor)\u001b[0m\n\u001b[1;32m   1032\u001b[0m         \u001b[0;31m# fit the boosting stages\u001b[0m\u001b[0;34m\u001b[0m\u001b[0;34m\u001b[0m\u001b[0m\n\u001b[1;32m   1033\u001b[0m         n_stages = self._fit_stages(X, y, y_pred, sample_weight, random_state,\n\u001b[0;32m-> 1034\u001b[0;31m                                     begin_at_stage, monitor, X_idx_sorted)\n\u001b[0m\u001b[1;32m   1035\u001b[0m         \u001b[0;31m# change shape of arrays after fit (early-stopping or additional ests)\u001b[0m\u001b[0;34m\u001b[0m\u001b[0;34m\u001b[0m\u001b[0m\n\u001b[1;32m   1036\u001b[0m         \u001b[0;32mif\u001b[0m \u001b[0mn_stages\u001b[0m \u001b[0;34m!=\u001b[0m \u001b[0mself\u001b[0m\u001b[0;34m.\u001b[0m\u001b[0mestimators_\u001b[0m\u001b[0;34m.\u001b[0m\u001b[0mshape\u001b[0m\u001b[0;34m[\u001b[0m\u001b[0;36m0\u001b[0m\u001b[0;34m]\u001b[0m\u001b[0;34m:\u001b[0m\u001b[0;34m\u001b[0m\u001b[0m\n",
      "\u001b[0;32m/usr/local/lib/python3.6/site-packages/sklearn/ensemble/gradient_boosting.py\u001b[0m in \u001b[0;36m_fit_stages\u001b[0;34m(self, X, y, y_pred, sample_weight, random_state, begin_at_stage, monitor, X_idx_sorted)\u001b[0m\n\u001b[1;32m   1087\u001b[0m             y_pred = self._fit_stage(i, X, y, y_pred, sample_weight,\n\u001b[1;32m   1088\u001b[0m                                      \u001b[0msample_mask\u001b[0m\u001b[0;34m,\u001b[0m \u001b[0mrandom_state\u001b[0m\u001b[0;34m,\u001b[0m \u001b[0mX_idx_sorted\u001b[0m\u001b[0;34m,\u001b[0m\u001b[0;34m\u001b[0m\u001b[0m\n\u001b[0;32m-> 1089\u001b[0;31m                                      X_csc, X_csr)\n\u001b[0m\u001b[1;32m   1090\u001b[0m \u001b[0;34m\u001b[0m\u001b[0m\n\u001b[1;32m   1091\u001b[0m             \u001b[0;31m# track deviance (= loss)\u001b[0m\u001b[0;34m\u001b[0m\u001b[0;34m\u001b[0m\u001b[0m\n",
      "\u001b[0;32m/usr/local/lib/python3.6/site-packages/sklearn/ensemble/gradient_boosting.py\u001b[0m in \u001b[0;36m_fit_stage\u001b[0;34m(self, i, X, y, y_pred, sample_weight, sample_mask, random_state, X_idx_sorted, X_csc, X_csr)\u001b[0m\n\u001b[1;32m    786\u001b[0m             \u001b[0;32melse\u001b[0m\u001b[0;34m:\u001b[0m\u001b[0;34m\u001b[0m\u001b[0m\n\u001b[1;32m    787\u001b[0m                 tree.fit(X, residual, sample_weight=sample_weight,\n\u001b[0;32m--> 788\u001b[0;31m                          check_input=False, X_idx_sorted=X_idx_sorted)\n\u001b[0m\u001b[1;32m    789\u001b[0m \u001b[0;34m\u001b[0m\u001b[0m\n\u001b[1;32m    790\u001b[0m             \u001b[0;31m# update tree leaves\u001b[0m\u001b[0;34m\u001b[0m\u001b[0;34m\u001b[0m\u001b[0m\n",
      "\u001b[0;32m/usr/local/lib/python3.6/site-packages/sklearn/tree/tree.py\u001b[0m in \u001b[0;36mfit\u001b[0;34m(self, X, y, sample_weight, check_input, X_idx_sorted)\u001b[0m\n\u001b[1;32m   1122\u001b[0m             \u001b[0msample_weight\u001b[0m\u001b[0;34m=\u001b[0m\u001b[0msample_weight\u001b[0m\u001b[0;34m,\u001b[0m\u001b[0;34m\u001b[0m\u001b[0m\n\u001b[1;32m   1123\u001b[0m             \u001b[0mcheck_input\u001b[0m\u001b[0;34m=\u001b[0m\u001b[0mcheck_input\u001b[0m\u001b[0;34m,\u001b[0m\u001b[0;34m\u001b[0m\u001b[0m\n\u001b[0;32m-> 1124\u001b[0;31m             X_idx_sorted=X_idx_sorted)\n\u001b[0m\u001b[1;32m   1125\u001b[0m         \u001b[0;32mreturn\u001b[0m \u001b[0mself\u001b[0m\u001b[0;34m\u001b[0m\u001b[0m\n\u001b[1;32m   1126\u001b[0m \u001b[0;34m\u001b[0m\u001b[0m\n",
      "\u001b[0;32m/usr/local/lib/python3.6/site-packages/sklearn/tree/tree.py\u001b[0m in \u001b[0;36mfit\u001b[0;34m(self, X, y, sample_weight, check_input, X_idx_sorted)\u001b[0m\n\u001b[1;32m    360\u001b[0m                                            min_impurity_split)\n\u001b[1;32m    361\u001b[0m \u001b[0;34m\u001b[0m\u001b[0m\n\u001b[0;32m--> 362\u001b[0;31m         \u001b[0mbuilder\u001b[0m\u001b[0;34m.\u001b[0m\u001b[0mbuild\u001b[0m\u001b[0;34m(\u001b[0m\u001b[0mself\u001b[0m\u001b[0;34m.\u001b[0m\u001b[0mtree_\u001b[0m\u001b[0;34m,\u001b[0m \u001b[0mX\u001b[0m\u001b[0;34m,\u001b[0m \u001b[0my\u001b[0m\u001b[0;34m,\u001b[0m \u001b[0msample_weight\u001b[0m\u001b[0;34m,\u001b[0m \u001b[0mX_idx_sorted\u001b[0m\u001b[0;34m)\u001b[0m\u001b[0;34m\u001b[0m\u001b[0m\n\u001b[0m\u001b[1;32m    363\u001b[0m \u001b[0;34m\u001b[0m\u001b[0m\n\u001b[1;32m    364\u001b[0m         \u001b[0;32mif\u001b[0m \u001b[0mself\u001b[0m\u001b[0;34m.\u001b[0m\u001b[0mn_outputs_\u001b[0m \u001b[0;34m==\u001b[0m \u001b[0;36m1\u001b[0m\u001b[0;34m:\u001b[0m\u001b[0;34m\u001b[0m\u001b[0m\n",
      "\u001b[0;31mKeyboardInterrupt\u001b[0m: "
     ]
    }
   ],
   "source": [
    "from sklearn.ensemble import GradientBoostingClassifier\n",
    "\n",
    "C_params = [10, 25, 50, 100, 200, 500]\n",
    "accuracies = [0, 0, 0, 0, 0, 0]\n",
    "for idx, C_param in enumerate(C_params):\n",
    "    gb = GradientBoostingClassifier(n_estimators=C_param)\n",
    "    gb.fit(train_plus_dev_x.reshape(train_plus_dev_x.shape[0], train_plus_dev_x.shape[1]*train_plus_dev_x.shape[2]), np.argmax(train_plus_dev_y, axis=1))\n",
    "    y_test_predict = rf.predict(test_x.reshape(test_x.shape[0], test_x.shape[1]*test_x.shape[2]))\n",
    "    accuracies[idx] = accuracy_score(y_true=np.argmax(test_y,axis=1), y_pred=y_test_predict)\n",
    "    print(accuracies[idx])\n",
    "print(accuracies)"
   ]
  },
  {
   "cell_type": "code",
   "execution_count": null,
   "metadata": {},
   "outputs": [],
   "source": []
  }
 ],
 "metadata": {
  "kernelspec": {
   "display_name": "Python 3",
   "language": "python",
   "name": "python3"
  },
  "language_info": {
   "codemirror_mode": {
    "name": "ipython",
    "version": 3
   },
   "file_extension": ".py",
   "mimetype": "text/x-python",
   "name": "python",
   "nbconvert_exporter": "python",
   "pygments_lexer": "ipython3",
   "version": "3.6.3"
  }
 },
 "nbformat": 4,
 "nbformat_minor": 2
}
