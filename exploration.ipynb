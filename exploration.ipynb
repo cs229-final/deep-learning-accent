{
 "cells": [
  {
   "cell_type": "markdown",
   "metadata": {
    "collapsed": true
   },
   "source": [
    "# Split audio files into utterances "
   ]
  },
  {
   "cell_type": "code",
   "execution_count": 38,
   "metadata": {},
   "outputs": [],
   "source": [
    "import os\n",
    "from pydub import AudioSegment\n",
    "from pydub.silence import split_on_silence\n",
    "\n",
    "def extract_chunks(filepath, same_dir=True):\n",
    "    sound_file = AudioSegment.from_wav(filepath)\n",
    "    audio_chunks = split_on_silence(sound_file, \n",
    "        min_silence_len=250,  # in ms\n",
    "        silence_thresh=-16\n",
    "    )\n",
    "    dirname = os.path.dirname(filepath)\n",
    "    print(len(audio_chunks))\n",
    "    for i, chunk in enumerate(audio_chunks):\n",
    "        out_file = os.path.join(dirname, f\"chunk{i}.wav\")\n",
    "        print(f\"exporting{out_file}\", end='')\n",
    "        chunk.export(out_file, format=\"wav\")\n",
    "        "
   ]
  },
  {
   "cell_type": "code",
   "execution_count": 39,
   "metadata": {},
   "outputs": [
    {
     "name": "stdout",
     "output_type": "stream",
     "text": [
      "32 /Users/leonmak/Documents/CS229/final-project/data/task80/list255/talker403/SC_W_CH_04_EN.wav\n",
      "48\n",
      "exporting/Users/leonmak/Documents/CS229/final-project/data/task80/list255/talker403/chunk0.wavexporting/Users/leonmak/Documents/CS229/final-project/data/task80/list255/talker403/chunk1.wavexporting/Users/leonmak/Documents/CS229/final-project/data/task80/list255/talker403/chunk2.wavexporting/Users/leonmak/Documents/CS229/final-project/data/task80/list255/talker403/chunk3.wavexporting/Users/leonmak/Documents/CS229/final-project/data/task80/list255/talker403/chunk4.wavexporting/Users/leonmak/Documents/CS229/final-project/data/task80/list255/talker403/chunk5.wavexporting/Users/leonmak/Documents/CS229/final-project/data/task80/list255/talker403/chunk6.wavexporting/Users/leonmak/Documents/CS229/final-project/data/task80/list255/talker403/chunk7.wavexporting/Users/leonmak/Documents/CS229/final-project/data/task80/list255/talker403/chunk8.wavexporting/Users/leonmak/Documents/CS229/final-project/data/task80/list255/talker403/chunk9.wavexporting/Users/leonmak/Documents/CS229/final-project/data/task80/list255/talker403/chunk10.wavexporting/Users/leonmak/Documents/CS229/final-project/data/task80/list255/talker403/chunk11.wavexporting/Users/leonmak/Documents/CS229/final-project/data/task80/list255/talker403/chunk12.wavexporting/Users/leonmak/Documents/CS229/final-project/data/task80/list255/talker403/chunk13.wavexporting/Users/leonmak/Documents/CS229/final-project/data/task80/list255/talker403/chunk14.wavexporting/Users/leonmak/Documents/CS229/final-project/data/task80/list255/talker403/chunk15.wavexporting/Users/leonmak/Documents/CS229/final-project/data/task80/list255/talker403/chunk16.wavexporting/Users/leonmak/Documents/CS229/final-project/data/task80/list255/talker403/chunk17.wavexporting/Users/leonmak/Documents/CS229/final-project/data/task80/list255/talker403/chunk18.wavexporting/Users/leonmak/Documents/CS229/final-project/data/task80/list255/talker403/chunk19.wavexporting/Users/leonmak/Documents/CS229/final-project/data/task80/list255/talker403/chunk20.wavexporting/Users/leonmak/Documents/CS229/final-project/data/task80/list255/talker403/chunk21.wavexporting/Users/leonmak/Documents/CS229/final-project/data/task80/list255/talker403/chunk22.wavexporting/Users/leonmak/Documents/CS229/final-project/data/task80/list255/talker403/chunk23.wavexporting/Users/leonmak/Documents/CS229/final-project/data/task80/list255/talker403/chunk24.wavexporting/Users/leonmak/Documents/CS229/final-project/data/task80/list255/talker403/chunk25.wavexporting/Users/leonmak/Documents/CS229/final-project/data/task80/list255/talker403/chunk26.wavexporting/Users/leonmak/Documents/CS229/final-project/data/task80/list255/talker403/chunk27.wavexporting/Users/leonmak/Documents/CS229/final-project/data/task80/list255/talker403/chunk28.wavexporting/Users/leonmak/Documents/CS229/final-project/data/task80/list255/talker403/chunk29.wavexporting/Users/leonmak/Documents/CS229/final-project/data/task80/list255/talker403/chunk30.wavexporting/Users/leonmak/Documents/CS229/final-project/data/task80/list255/talker403/chunk31.wavexporting/Users/leonmak/Documents/CS229/final-project/data/task80/list255/talker403/chunk32.wavexporting/Users/leonmak/Documents/CS229/final-project/data/task80/list255/talker403/chunk33.wavexporting/Users/leonmak/Documents/CS229/final-project/data/task80/list255/talker403/chunk34.wavexporting/Users/leonmak/Documents/CS229/final-project/data/task80/list255/talker403/chunk35.wavexporting/Users/leonmak/Documents/CS229/final-project/data/task80/list255/talker403/chunk36.wavexporting/Users/leonmak/Documents/CS229/final-project/data/task80/list255/talker403/chunk37.wavexporting/Users/leonmak/Documents/CS229/final-project/data/task80/list255/talker403/chunk38.wavexporting/Users/leonmak/Documents/CS229/final-project/data/task80/list255/talker403/chunk39.wavexporting/Users/leonmak/Documents/CS229/final-project/data/task80/list255/talker403/chunk40.wavexporting/Users/leonmak/Documents/CS229/final-project/data/task80/list255/talker403/chunk41.wavexporting/Users/leonmak/Documents/CS229/final-project/data/task80/list255/talker403/chunk42.wavexporting/Users/leonmak/Documents/CS229/final-project/data/task80/list255/talker403/chunk43.wavexporting/Users/leonmak/Documents/CS229/final-project/data/task80/list255/talker403/chunk44.wavexporting/Users/leonmak/Documents/CS229/final-project/data/task80/list255/talker403/chunk45.wavexporting/Users/leonmak/Documents/CS229/final-project/data/task80/list255/talker403/chunk46.wavexporting/Users/leonmak/Documents/CS229/final-project/data/task80/list255/talker403/chunk47.wav"
     ]
    }
   ],
   "source": [
    "import glob\n",
    "\n",
    "base_dir = '/Users/leonmak/Documents/CS229/final-project/data/'\n",
    "wav_files = glob.glob(os.path.join(base_dir, '**/*.wav'), recursive=True)\n",
    "print(len(wav_files), wav_files[0])\n",
    "for filepath in wav_files:\n",
    "    extract_chunks(filepath)\n",
    "    break\n",
    "    \n"
   ]
  },
  {
   "cell_type": "code",
   "execution_count": null,
   "metadata": {
    "collapsed": true
   },
   "outputs": [],
   "source": []
  }
 ],
 "metadata": {
  "kernelspec": {
   "display_name": "cs229",
   "language": "python",
   "name": "cs229-final"
  },
  "language_info": {
   "codemirror_mode": {
    "name": "ipython",
    "version": 3
   },
   "file_extension": ".py",
   "mimetype": "text/x-python",
   "name": "python",
   "nbconvert_exporter": "python",
   "pygments_lexer": "ipython3",
   "version": "3.6.1"
  }
 },
 "nbformat": 4,
 "nbformat_minor": 1
}
