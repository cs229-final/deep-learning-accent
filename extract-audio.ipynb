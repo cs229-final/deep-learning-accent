{
 "cells": [
  {
   "cell_type": "markdown",
   "metadata": {
    "collapsed": true
   },
   "source": [
    "# Split audio files into utterances "
   ]
  },
  {
   "cell_type": "code",
   "execution_count": 20,
   "metadata": {},
   "outputs": [],
   "source": [
    "import os\n",
    "from pydub import AudioSegment\n",
    "from pydub.silence import split_on_silence\n",
    "\n",
    "def extract_chunks(filepath, same_dir=True, prefix='chunk'):\n",
    "    if prefix in filepath:\n",
    "        return\n",
    "    print(filepath)\n",
    "    sound_file = AudioSegment.from_wav(filepath)\n",
    "    audio_chunks = split_on_silence(\n",
    "        sound_file, \n",
    "        min_silence_len=600,  # in ms\n",
    "        silence_thresh=-27,\n",
    "        keep_silence=200\n",
    "    )\n",
    "    dirname = os.path.dirname(filepath)\n",
    "    print(len(audio_chunks))\n",
    "    for i, chunk in enumerate(audio_chunks):\n",
    "        out_file = os.path.join(dirname, f\"{prefix}-{i}.wav\")\n",
    "        chunk.export(out_file, format=\"wav\")"
   ]
  },
  {
   "cell_type": "code",
   "execution_count": 24,
   "metadata": {},
   "outputs": [
    {
     "name": "stdout",
     "output_type": "stream",
     "text": [
      "2 /Users/edmundmok/Desktop/repos/cs229/deep-learning-accent/data/unseen/ch/mandarin2.wav\n",
      "/Users/edmundmok/Desktop/repos/cs229/deep-learning-accent/data/unseen/ch/mandarin2.wav\n",
      "15\n",
      "/Users/edmundmok/Desktop/repos/cs229/deep-learning-accent/data/unseen/ch/mandarin3.wav\n",
      "19\n"
     ]
    }
   ],
   "source": [
    "import glob\n",
    "\n",
    "base_dir = f'{os.getcwd()}/data/unseen/ch'\n",
    "wav_files = glob.glob(os.path.join(base_dir, '**/*.wav'), recursive=True)\n",
    "print(len(wav_files), wav_files[0])\n",
    "for i, filepath in enumerate(wav_files):\n",
    "    extract_chunks(filepath)\n",
    "    \n"
   ]
  },
  {
   "cell_type": "code",
   "execution_count": null,
   "metadata": {
    "collapsed": true
   },
   "outputs": [],
   "source": []
  },
  {
   "cell_type": "code",
   "execution_count": null,
   "metadata": {
    "collapsed": true
   },
   "outputs": [],
   "source": []
  },
  {
   "cell_type": "code",
   "execution_count": null,
   "metadata": {
    "collapsed": true
   },
   "outputs": [],
   "source": []
  }
 ],
 "metadata": {
  "kernelspec": {
   "display_name": "Python 3",
   "language": "python",
   "name": "python3"
  },
  "language_info": {
   "codemirror_mode": {
    "name": "ipython",
    "version": 3
   },
   "file_extension": ".py",
   "mimetype": "text/x-python",
   "name": "python",
   "nbconvert_exporter": "python",
   "pygments_lexer": "ipython3",
   "version": "3.6.3"
  }
 },
 "nbformat": 4,
 "nbformat_minor": 1
}
